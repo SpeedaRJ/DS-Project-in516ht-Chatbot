{
 "cells": [
  {
   "cell_type": "code",
   "execution_count": 1,
   "metadata": {},
   "outputs": [
    {
     "name": "stderr",
     "output_type": "stream",
     "text": [
      "c:\\Users\\rjutr\\miniconda3\\envs\\project_ds_2\\lib\\site-packages\\torch\\_utils.py:776: UserWarning: TypedStorage is deprecated. It will be removed in the future and UntypedStorage will be the only storage class. This should only matter to you if you are using storages directly.  To access UntypedStorage directly, use tensor.untyped_storage() instead of tensor.storage()\n",
      "  return self.fget.__get__(instance, owner)()\n",
      "The tokenizer class you load from this checkpoint is not the same type as the class this function is called from. It may result in unexpected tokenization. \n",
      "The tokenizer class you load from this checkpoint is 'DPRQuestionEncoderTokenizer'. \n",
      "The class this function is called from is 'DPRContextEncoderTokenizerFast'.\n"
     ]
    }
   ],
   "source": [
    "from haystack.document_stores import FAISSDocumentStore\n",
    "from haystack.nodes import DensePassageRetriever\n",
    "from haystack.pipelines import Pipeline\n",
    "from haystack.nodes import TransformersReader\n",
    "from haystack.utils import print_answers\n",
    "\n",
    "document_store = FAISSDocumentStore.load(\"document_store.faiss\")\n",
    "\n",
    "retriever = DensePassageRetriever(\n",
    "    document_store=document_store,\n",
    "    query_embedding_model=\"facebook/dpr-question_encoder-single-nq-base\",\n",
    "    passage_embedding_model=\"facebook/dpr-ctx_encoder-single-nq-base\",\n",
    "    use_gpu=True\n",
    ")\n",
    "reader = TransformersReader(model_name_or_path=\"..\\initial_moddeling\\distilbert-qa\\distilbert-nlb-qa\", use_gpu=True)"
   ]
  },
  {
   "cell_type": "code",
   "execution_count": 3,
   "metadata": {},
   "outputs": [
    {
     "name": "stdout",
     "output_type": "stream",
     "text": [
      "'Query: When were the anticorruption policies and procedures revised?'\n",
      "'Answers:'\n",
      "[   <Answer {'answer': '2020', 'type': 'extractive', 'score': 0.8741440176963806, 'context': 'ules, instructions, or\\nThere were no confirmed cases of corruption in 2020. ', 'offsets_in_document': [{'start': 600, 'end': 604}], 'offsets_in_context': [{'start': 70, 'end': 74}], 'document_ids': ['9d62c736460f4723707cd101c87cf668'], 'meta': {'_split_id': 152, 'vector_id': '146'}}>,\n",
      "    <Answer {'answer': '2020', 'type': 'extractive', 'score': 0.7560802698135376, 'context': 'and Bribery\\nand on Management of Conflicts of Interest was renewed in 2020. The\\nsystem of risk management of corruption and bribery was suppleme', 'offsets_in_document': [{'start': 313, 'end': 317}], 'offsets_in_context': [{'start': 70, 'end': 74}], 'document_ids': ['6940e459fb997a495706c275bdd852a2'], 'meta': {'_split_id': 153, 'vector_id': '94'}}>,\n",
      "    <Answer {'answer': 'second\\nhalf of 2020', 'type': 'extractive', 'score': 0.7357791066169739, 'context': 'o corruption\\nThe anticorruption policy and\\nprocedures were revised in second\\nhalf of 2020. There were no confirmed\\ncases of corruption in 2020.\\nNon-discriminat', 'offsets_in_document': [{'start': 123, 'end': 142}], 'offsets_in_context': [{'start': 70, 'end': 89}], 'document_ids': ['baeb9fdd6531b33d53a369cd89476249'], 'meta': {'_split_id': 2, 'vector_id': '177'}}>,\n",
      "    <Answer {'answer': '2021', 'type': 'extractive', 'score': 0.5913228392601013, 'context': 'Implementation activities will continue in 2021.\\nThe main risks in relation to the above stated issues related to act', 'offsets_in_document': [{'start': 43, 'end': 47}], 'offsets_in_context': [{'start': 43, 'end': 47}], 'document_ids': ['9880a9be6286139a933f6d3fe107fd3c'], 'meta': {'_split_id': 154, 'vector_id': '143'}}>,\n",
      "    <Answer {'answer': 'This year, the system\\nof mobbing prevention was revised.', 'type': 'extractive', 'score': 0.26735708117485046, 'context': ' latter has\\nestablished a system for preventing all forms of mobbing. This year, the system\\nof mobbing prevention was revised. A special commission for the renewal of\\nanti-mobbing mechanisms in NL', 'offsets_in_document': [{'start': 75, 'end': 131}], 'offsets_in_context': [{'start': 70, 'end': 126}], 'document_ids': ['68fa2971e62700ad6557cb7d9795059d'], 'meta': {'_split_id': 134, 'vector_id': '93'}}>]\n"
     ]
    }
   ],
   "source": [
    "p_extractive = Pipeline()\n",
    "p_extractive.add_node(component=retriever, name=\"Retriever\", inputs=[\"Query\"])\n",
    "p_extractive.add_node(component=reader, name=\"Reader\", inputs=[\"Retriever\"])\n",
    "res = p_extractive.run(\n",
    "    query=\"When were the anticorruption policies and procedures revised?\", params={\"Reader\": {\"top_k\": 5}}\n",
    ")\n",
    "print_answers(res, details=\"all\")"
   ]
  }
 ],
 "metadata": {
  "kernelspec": {
   "display_name": "project_ds",
   "language": "python",
   "name": "python3"
  },
  "language_info": {
   "codemirror_mode": {
    "name": "ipython",
    "version": 3
   },
   "file_extension": ".py",
   "mimetype": "text/x-python",
   "name": "python",
   "nbconvert_exporter": "python",
   "pygments_lexer": "ipython3",
   "version": "3.10.11"
  },
  "orig_nbformat": 4
 },
 "nbformat": 4,
 "nbformat_minor": 2
}
