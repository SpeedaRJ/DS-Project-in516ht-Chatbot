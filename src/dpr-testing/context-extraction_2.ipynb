{
 "cells": [
  {
   "cell_type": "code",
   "execution_count": 31,
   "metadata": {},
   "outputs": [
    {
     "name": "stderr",
     "output_type": "stream",
     "text": [
      "The tokenizer class you load from this checkpoint is not the same type as the class this function is called from. It may result in unexpected tokenization. \n",
      "The tokenizer class you load from this checkpoint is 'DPRQuestionEncoderTokenizer'. \n",
      "The class this function is called from is 'DPRContextEncoderTokenizerFast'.\n"
     ]
    }
   ],
   "source": [
    "from haystack.document_stores import FAISSDocumentStore\n",
    "from haystack.nodes import DensePassageRetriever\n",
    "from haystack.pipelines import Pipeline\n",
    "from haystack.nodes import TransformersReader\n",
    "from haystack.utils import print_answers\n",
    "\n",
    "document_store = FAISSDocumentStore.load(\"document_store.faiss\")\n",
    "\n",
    "retriever = DensePassageRetriever(\n",
    "    document_store=document_store,\n",
    "    query_embedding_model=\"facebook/dpr-question_encoder-single-nq-base\",\n",
    "    passage_embedding_model=\"facebook/dpr-ctx_encoder-single-nq-base\",\n",
    "    use_gpu=True\n",
    ")\n",
    "reader = TransformersReader(model_name_or_path=\"..\\initial_moddeling\\distilbert-nlb-qa\", use_gpu=True)"
   ]
  },
  {
   "cell_type": "code",
   "execution_count": 32,
   "metadata": {},
   "outputs": [
    {
     "name": "stdout",
     "output_type": "stream",
     "text": [
      "'Query: When were the anticorruption policies and procedures revised?'\n",
      "'Answers:'\n",
      "[   {   'answer': '2020',\n",
      "        'context': 'ules, instructions, or\\n'\n",
      "                   'There were no confirmed cases of corruption in 2020. '},\n",
      "    {   'answer': '2020',\n",
      "        'context': 'and Bribery\\n'\n",
      "                   'and on Management of Conflicts of Interest was renewed in '\n",
      "                   '2020. The\\n'\n",
      "                   'system of risk management of corruption and bribery was '\n",
      "                   'suppleme'},\n",
      "    {   'answer': 'second\\nhalf of 2020',\n",
      "        'context': 'o corruption\\n'\n",
      "                   'The anticorruption policy and\\n'\n",
      "                   'procedures were revised in second\\n'\n",
      "                   'half of 2020. There were no confirmed\\n'\n",
      "                   'cases of corruption in 2020.\\n'\n",
      "                   'Non-discriminat'},\n",
      "    {   'answer': '2021',\n",
      "        'context': 'Implementation activities will continue in 2021.\\n'\n",
      "                   'The main risks in relation to the above stated issues '\n",
      "                   'related to act'},\n",
      "    {   'answer': 'This year, the system\\nof mobbing prevention was revised.',\n",
      "        'context': ' latter has\\n'\n",
      "                   'established a system for preventing all forms of mobbing. '\n",
      "                   'This year, the system\\n'\n",
      "                   'of mobbing prevention was revised. A special commission '\n",
      "                   'for the renewal of\\n'\n",
      "                   'anti-mobbing mechanisms in NL'}]\n"
     ]
    }
   ],
   "source": [
    "p_extractive = Pipeline()\n",
    "p_extractive.add_node(component=retriever, name=\"Retriever\", inputs=[\"Query\"])\n",
    "p_extractive.add_node(component=reader, name=\"Reader\", inputs=[\"Retriever\"])\n",
    "res = p_extractive.run(\n",
    "    query=\"When were the anticorruption policies and procedures revised?\", params={\"Retriever\": {\"top_k\": 10}, \"Reader\": {\"top_k\": 5}}\n",
    ")\n",
    "print_answers(res, details=\"minimum\")\n"
   ]
  }
 ],
 "metadata": {
  "kernelspec": {
   "display_name": "project_ds",
   "language": "python",
   "name": "python3"
  },
  "language_info": {
   "codemirror_mode": {
    "name": "ipython",
    "version": 3
   },
   "file_extension": ".py",
   "mimetype": "text/x-python",
   "name": "python",
   "nbconvert_exporter": "python",
   "pygments_lexer": "ipython3",
   "version": "3.10.11"
  },
  "orig_nbformat": 4
 },
 "nbformat": 4,
 "nbformat_minor": 2
}
