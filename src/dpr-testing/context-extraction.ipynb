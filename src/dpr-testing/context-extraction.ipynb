{
 "cells": [
  {
   "cell_type": "code",
   "execution_count": 1,
   "metadata": {},
   "outputs": [],
   "source": [
    "# Set up logging\n",
    "import logging\n",
    "\n",
    "logging.basicConfig(format=\"%(levelname)s - %(name)s -  %(message)s\", level=logging.WARNING)\n",
    "logging.getLogger(\"haystack\").setLevel(logging.INFO)\n"
   ]
  },
  {
   "cell_type": "code",
   "execution_count": 2,
   "metadata": {},
   "outputs": [],
   "source": [
    "# Imports for the DPR pipeline\n",
    "from haystack.nodes import TransformersReader, DensePassageRetriever, PreProcessor, PDFToTextConverter\n",
    "from haystack.document_stores import FAISSDocumentStore\n",
    "from haystack.pipelines import ExtractiveQAPipeline\n",
    "\n",
    "# Library for path handling\n",
    "import pathlib as pl\n",
    "\n",
    "# Library for data handling\n",
    "import pandas as pd"
   ]
  },
  {
   "cell_type": "code",
   "execution_count": 3,
   "metadata": {},
   "outputs": [],
   "source": [
    "# Model for text extraction from pdf\n",
    "converter = PDFToTextConverter(remove_numeric_tables=True)\n",
    "# Extracting text from pdf\n",
    "extracted = converter.convert(file_path=pl.Path(\"../data/raw/sustainability-report-2020.pdf\"), meta=False, encoding=\"UTF-8\")[0]"
   ]
  },
  {
   "cell_type": "code",
   "execution_count": 4,
   "metadata": {},
   "outputs": [
    {
     "data": {
      "application/vnd.jupyter.widget-view+json": {
       "model_id": "71205287988641ed9c0619fbf3ba5bbc",
       "version_major": 2,
       "version_minor": 0
      },
      "text/plain": [
       "Preprocessing:   0%|          | 0/1 [00:00<?, ?docs/s]"
      ]
     },
     "metadata": {},
     "output_type": "display_data"
    }
   ],
   "source": [
    "# Preprocessing text\n",
    "preprocessor = PreProcessor(\n",
    "    clean_empty_lines=True,\n",
    "    clean_whitespace=True,\n",
    "    clean_header_footer=True,\n",
    "    split_by=\"sentence\",\n",
    "    split_length=4,\n",
    "    split_respect_sentence_boundary=False,\n",
    "    split_overlap=0\n",
    ")\n",
    "cleaned = preprocessor.process([extracted])"
   ]
  },
  {
   "cell_type": "code",
   "execution_count": 5,
   "metadata": {},
   "outputs": [
    {
     "data": {
      "application/vnd.jupyter.widget-view+json": {
       "model_id": "2e2f077de7a34d9793216296d79fff1f",
       "version_major": 2,
       "version_minor": 0
      },
      "text/plain": [
       "Writing Documents:   0%|          | 0/252 [00:00<?, ?it/s]"
      ]
     },
     "metadata": {},
     "output_type": "display_data"
    }
   ],
   "source": [
    "# Storing the text in a FAISS document store (local SQL database)\n",
    "document_store = FAISSDocumentStore(faiss_index_factory_str='Flat', similarity=\"dot_product\")\n",
    "document_store.write_documents(cleaned)"
   ]
  },
  {
   "cell_type": "code",
   "execution_count": 6,
   "metadata": {},
   "outputs": [
    {
     "name": "stderr",
     "output_type": "stream",
     "text": [
      "INFO - haystack.modeling.utils -  Using devices: CUDA:0 - Number of GPUs: 1\n",
      "c:\\Users\\rjutr\\miniconda3\\envs\\project_ds_2\\lib\\site-packages\\torch\\_utils.py:776: UserWarning: TypedStorage is deprecated. It will be removed in the future and UntypedStorage will be the only storage class. This should only matter to you if you are using storages directly.  To access UntypedStorage directly, use tensor.untyped_storage() instead of tensor.storage()\n",
      "  return self.fget.__get__(instance, owner)()\n",
      "INFO - haystack.modeling.model.language_model -  Auto-detected model language: english\n",
      "The tokenizer class you load from this checkpoint is not the same type as the class this function is called from. It may result in unexpected tokenization. \n",
      "The tokenizer class you load from this checkpoint is 'DPRQuestionEncoderTokenizer'. \n",
      "The class this function is called from is 'DPRContextEncoderTokenizerFast'.\n",
      "INFO - haystack.modeling.model.language_model -  Auto-detected model language: english\n",
      "INFO - haystack.document_stores.faiss -  Updating embeddings for 252 docs...\n"
     ]
    },
    {
     "data": {
      "application/vnd.jupyter.widget-view+json": {
       "model_id": "36e9b7a4485f4b37805d8c59d47bdb7b",
       "version_major": 2,
       "version_minor": 0
      },
      "text/plain": [
       "Updating Embedding:   0%|          | 0/252 [00:00<?, ? docs/s]"
      ]
     },
     "metadata": {},
     "output_type": "display_data"
    },
    {
     "data": {
      "application/vnd.jupyter.widget-view+json": {
       "model_id": "9843413ade47457cbe30372969c780f7",
       "version_major": 2,
       "version_minor": 0
      },
      "text/plain": [
       "Create embeddings:   0%|          | 0/256 [00:00<?, ? Docs/s]"
      ]
     },
     "metadata": {},
     "output_type": "display_data"
    }
   ],
   "source": [
    "# Defining the dense passage retriever model\n",
    "retriever = DensePassageRetriever(\n",
    "    document_store=document_store,\n",
    "    query_embedding_model=\"facebook/dpr-question_encoder-single-nq-base\",\n",
    "    passage_embedding_model=\"facebook/dpr-ctx_encoder-single-nq-base\",\n",
    "    max_seq_len_query=64,\n",
    "    max_seq_len_passage=256,\n",
    "    batch_size=16,\n",
    "    use_gpu=True,\n",
    "    embed_title=True,\n",
    "    use_fast_tokenizers=True,\n",
    ")\n",
    "# Updating the embeddings in the document store using the model\n",
    "document_store.update_embeddings(retriever)\n",
    "document_store.save(\"document_store.faiss\")"
   ]
  },
  {
   "cell_type": "code",
   "execution_count": 7,
   "metadata": {},
   "outputs": [
    {
     "name": "stderr",
     "output_type": "stream",
     "text": [
      "INFO - haystack.modeling.utils -  Using devices: CUDA:0 - Number of GPUs: 1\n"
     ]
    }
   ],
   "source": [
    "# Defining the reader model (same as for the QA generation pipeline)\n",
    "reader = TransformersReader(\"deepset/roberta-base-squad2\", use_gpu=1)"
   ]
  },
  {
   "cell_type": "code",
   "execution_count": 8,
   "metadata": {},
   "outputs": [],
   "source": [
    "# Defining the pipeline for context extraction\n",
    "pipe = ExtractiveQAPipeline(reader, retriever)"
   ]
  },
  {
   "cell_type": "code",
   "execution_count": 9,
   "metadata": {},
   "outputs": [],
   "source": [
    "# Test prediction only\n",
    "prediction = pipe.run(query=\"When were the anticorruption policies and procedures revised?\", params={\"Retriever\": {\"top_k\": 10}, \"Reader\": {\"top_k\": 5}})"
   ]
  },
  {
   "cell_type": "code",
   "execution_count": 10,
   "metadata": {},
   "outputs": [
    {
     "data": {
      "text/plain": [
       "{'query': 'When were the anticorruption policies and procedures revised?',\n",
       " 'answers': [<Answer {'answer': 'second\\nhalf of 2020', 'type': 'extractive', 'score': 0.8555406332015991, 'context': 'o corruption\\nThe anticorruption policy and\\nprocedures were revised in second\\nhalf of 2020. There were no confirmed\\ncases of corruption in 2020.\\nNon-discriminat', 'offsets_in_document': [{'start': 123, 'end': 142}], 'offsets_in_context': [{'start': 70, 'end': 89}], 'document_ids': ['baeb9fdd6531b33d53a369cd89476249'], 'meta': {'_split_id': 2, 'vector_id': '177'}}>,\n",
       "  <Answer {'answer': '2020', 'type': 'extractive', 'score': 0.826786458492279, 'context': 'and Bribery\\nand on Management of Conflicts of Interest was renewed in 2020. The\\nsystem of risk management of corruption and bribery was suppleme', 'offsets_in_document': [{'start': 313, 'end': 317}], 'offsets_in_context': [{'start': 70, 'end': 74}], 'document_ids': ['6940e459fb997a495706c275bdd852a2'], 'meta': {'_split_id': 153, 'vector_id': '94'}}>,\n",
       "  <Answer {'answer': 'in second\\nhalf of 2020', 'type': 'extractive', 'score': 0.08879388868808746, 'context': '0\\nNo corruption\\nThe anticorruption policy and\\nprocedures were revised in second\\nhalf of 2020. There were no confirmed\\ncases of corruption in 2020.\\nNon-discriminat', 'offsets_in_document': [{'start': 120, 'end': 142}], 'offsets_in_context': [{'start': 70, 'end': 92}], 'document_ids': ['baeb9fdd6531b33d53a369cd89476249'], 'meta': {'_split_id': 2, 'vector_id': '177'}}>,\n",
       "  <Answer {'answer': 'in 2020', 'type': 'extractive', 'score': 0.047306183725595474, 'context': 'on and Bribery\\nand on Management of Conflicts of Interest was renewed in 2020. The\\nsystem of risk management of corruption and bribery was suppleme', 'offsets_in_document': [{'start': 310, 'end': 317}], 'offsets_in_context': [{'start': 70, 'end': 77}], 'document_ids': ['6940e459fb997a495706c275bdd852a2'], 'meta': {'_split_id': 153, 'vector_id': '94'}}>,\n",
       "  <Answer {'answer': 'second\\nhalf', 'type': 'extractive', 'score': 0.013237609528005123, 'context': 'o corruption\\nThe anticorruption policy and\\nprocedures were revised in second\\nhalf of 2020. There were no confirmed\\ncases of corruption in 2020.\\nNon-dis', 'offsets_in_document': [{'start': 123, 'end': 134}], 'offsets_in_context': [{'start': 70, 'end': 81}], 'document_ids': ['baeb9fdd6531b33d53a369cd89476249'], 'meta': {'_split_id': 2, 'vector_id': '177'}}>],\n",
       " 'documents': [<Document: {'content': 'Table 1: % of women in leadership positions in 2020\\nNo corruption\\nThe anticorruption policy and\\nprocedures were revised in second\\nhalf of 2020. There were no confirmed\\ncases of corruption in 2020.\\nNon-discrimination\\nWe have a policy of zero tolerance\\nto any form of discrimination and\\nviolence. In reporting period, we had\\n1 incident of discrimination, which was\\nresolved in February 2020 and there\\nhas not been any signs of mobbing.\\n', 'content_type': 'text', 'score': 0.6590033859811371, 'meta': {'_split_id': 2, 'vector_id': '177'}, 'id_hash_keys': ['content'], 'embedding': None, 'id': 'baeb9fdd6531b33d53a369cd89476249'}>,\n",
       "  <Document: {'content': 'in the process of complaint management are fast, efficient, and\\nprofessional complaint settlement on all levels of the process, settlement of\\ncongenial reimbursement requests in a unified way, registration of complaints\\nsuch as to enable content analysis with the purpose of improving products,\\nprocesses, customer experience (transparency, quality, customer relation,\\netc.) and the formation of proposals on improvements with the purpose of\\npreventing a larger number of similar mistakes and consequences of the\\nnegative customer experience.\\nEven in the time of extraordinary measures (COVID-19), NLB processed\\ncomplaints along the established guidelines and within statutory periods.\\nIn order not to expose customers to virus via direct postal delivery or via\\nappearance in the post office, classic registered mailing has been avoided\\nas much as possible. ', 'content_type': 'text', 'score': 0.6571665722874188, 'meta': {'_split_id': 165, 'vector_id': '230'}, 'id_hash_keys': ['content'], 'embedding': None, 'id': 'ea844cf4d61d912aac1b6d45638f2f60'}>,\n",
       "  <Document: {'content': ', the latter has\\nestablished a system for preventing all forms of mobbing. This year, the system\\nof mobbing prevention was revised. A special commission for the renewal of\\nanti-mobbing mechanisms in NLB d.d., composed of the representatives of\\nthe Bank, the NLB Workers’ Council, and the NLB Trade Union, revised the\\nPolicy for Prevention of Harassment and Mobbing of Employees in NLB d.d.', 'content_type': 'text', 'score': 0.6564186538274209, 'meta': {'_split_id': 134, 'vector_id': '93'}, 'id_hash_keys': ['content'], 'embedding': None, 'id': '68fa2971e62700ad6557cb7d9795059d'}>,\n",
       "  <Document: {'content': 'Trainings in the field\\nof prevention of corruption and bribery of employees were conducted within\\nthe set of trainings in the field of standards of conduct and ensuring integrity.\\nAt the NLB Group level, the Policy on Prevention of Corruption and Bribery\\nand on Management of Conflicts of Interest was renewed in 2020. The\\nsystem of risk management of corruption and bribery was supplemented with\\nadditional risk indicators (red flags), and followed international standards in\\nthe fight against corruption system of rules for the prevention of corruption\\nand bribery and the management of risks related to the engagement of agents\\nand intermediaries, employment or hiring of services of (former) civil servants,\\ncontacts with high (state) representatives, the prevention of nepotism and of\\naccelerated payments, and ensuring transparency in NLB Group operations.\\nCombined with awareness-raising, established control mechanisms, and\\ntraining in this area, this was significant progress in the implementation of\\nactivities in this area in 2020. ', 'content_type': 'text', 'score': 0.6516233219710503, 'meta': {'_split_id': 153, 'vector_id': '94'}, 'id_hash_keys': ['content'], 'embedding': None, 'id': '6940e459fb997a495706c275bdd852a2'}>,\n",
       "  <Document: {'content': 'GRI Topic GRI Disclosure Value Comment\\nGRI 403 - Occupational\\nHealth and Safety\\nDisclosure 403-2 Hazard\\nidentification, risk assessment,\\nand incident investigation\\nc. \\x07\\nA description of the policies and\\nprocesses for workers to remove\\nthemselves from work situations that\\nthey believe could cause injury or ill\\nhealth, and an explanation of how\\nworkers are protected against reprisals.\\nAll employees are informed about\\nhazards on their workplaces and with\\nprocedures and measures to avoid or\\nreduce them. If a danger to the safety\\nand health of the employee is identified,\\nthe employee must stop working. He/\\nShe must inform a superior, who must\\ntake care to eliminate the danger. ', 'content_type': 'text', 'score': 0.6504398652880188, 'meta': {'_split_id': 213, 'vector_id': '70'}, 'id_hash_keys': ['content'], 'embedding': None, 'id': '54801d5afb011fafac218eea52041d3e'}>,\n",
       "  <Document: {'content': 'Implementation activities will continue in 2021.\\nThe main risks in relation to the above stated issues related to activities of the\\ncompany, including its business relations, products, or services, when this is\\nappropriate and proportionate, which might cause serious detrimental effects,\\nand the methods employed by the company to manage these risks.\\nBased on the Enterprise Compliance and integrity Risk Assessment (ECRA)\\ndone at the group level, NLB Group did not detect any significant new risks\\nin the field of the fight against corruption and bribery in 2020. A specific\\nquestionnaire (World Economic Forum model: Good Practice Guidelines\\non Conducting Third-Party Due Diligence, Partnering Against Corruption\\nInitiative - PACI) is used for this purpose. ', 'content_type': 'text', 'score': 0.6496594735609219, 'meta': {'_split_id': 154, 'vector_id': '143'}, 'id_hash_keys': ['content'], 'embedding': None, 'id': '9880a9be6286139a933f6d3fe107fd3c'}>,\n",
       "  <Document: {'content': 'These are regulated in the Policy on the Prevention of Corruption\\nand Bribery and on the Management of Conflicts of Interest.\\nIn accordance with the Management and Supervision Policy of the NLB\\nGroup, the Standards in the field of Business Compliance and Strengthening\\nIntegrity also include obligations for members of the NLB Group to adopt\\nall internal acts of the NLB d.d. in the field of prevention of corruption and\\nconflicts of interest, and to implement their obligations.\\nThe results of policies and internal or external rules, instructions, or\\nThere were no confirmed cases of corruption in 2020. ', 'content_type': 'text', 'score': 0.6479736160215593, 'meta': {'_split_id': 152, 'vector_id': '146'}, 'id_hash_keys': ['content'], 'embedding': None, 'id': '9d62c736460f4723707cd101c87cf668'}>,\n",
       "  <Document: {'content': 'The supplier who carries\\nout the renovations takes the waste\\nconstruction material to the city landfill\\nGRI 307 – Environmental Compliance 307-1: Non-compliance with\\nenvironmental laws and regulations\\nNLB d.d. and NLB Group received no fines\\nor penalties regarding failure to comply\\nwith environmental laws. All legal waste\\ndisposal regulations are observed.\\nSocial\\nGRI Topic GRI Disclosure Value Comment\\nGRI 401 – Employment 401-1: New employee hires\\nand employee turnover\\na. ', 'content_type': 'text', 'score': 0.6468528726713799, 'meta': {'_split_id': 200, 'vector_id': '215'}, 'id_hash_keys': ['content'], 'embedding': None, 'id': 'dab3e16587e77fc186b1187eefd512c1'}>,\n",
       "  <Document: {'content': 'For all employees where working from\\nhome wasn’t an option, we introduced various quotas, such as for instance 70%\\nof employees working from home and 30% of employees working in the office.\\nWe gave all the technical support to our employees as a priority and provided\\nwork tools (computers with access to the banking environment and mobile\\nphones). All employees received five washable masks and hand disinfectants\\nwere available at all key locations. We marked special routes of movement in\\nthe workplaces, for visitors. ', 'content_type': 'text', 'score': 0.6463240189833409, 'meta': {'_split_id': 108, 'vector_id': '40'}, 'id_hash_keys': ['content'], 'embedding': None, 'id': '3679ea062311b473c2d99fe756138744'}>,\n",
       "  <Document: {'content': 'For employees who encounter a large number of\\ncustomers in their daily work, we introduced the so-called “Bubbles,” so that\\nthe same colleagues worked together, and potential different contacts that\\ncould result in spread of virus and complicate potential contact tracking, was\\nbrought to lowest possible risk. Customers entered the bank individually and\\neach employee had their own hand sanitizer, masks, and also gloves where\\nneeded. Workplaces were regularly ventilated and disinfected, in accordance\\nwith the regulations of each member state of the NLB Group.\\nWorking from home during COVID 19 is not the same as working from home\\nunder normal circumstances, as partners and children (kindergarten and\\nschool were closed) were also at home. ', 'content_type': 'text', 'score': 0.646236936319553, 'meta': {'_split_id': 109, 'vector_id': '103'}, 'id_hash_keys': ['content'], 'embedding': None, 'id': '705a756196c89ca20e9cd59b60353e1d'}>],\n",
       " 'root_node': 'Query',\n",
       " 'params': {'Retriever': {'top_k': 10}, 'Reader': {'top_k': 5}},\n",
       " 'node_id': 'Reader'}"
      ]
     },
     "execution_count": 10,
     "metadata": {},
     "output_type": "execute_result"
    }
   ],
   "source": [
    "prediction"
   ]
  }
 ],
 "metadata": {
  "kernelspec": {
   "display_name": "project_ds",
   "language": "python",
   "name": "python3"
  },
  "language_info": {
   "codemirror_mode": {
    "name": "ipython",
    "version": 3
   },
   "file_extension": ".py",
   "mimetype": "text/x-python",
   "name": "python",
   "nbconvert_exporter": "python",
   "pygments_lexer": "ipython3",
   "version": "3.10.11"
  },
  "orig_nbformat": 4
 },
 "nbformat": 4,
 "nbformat_minor": 2
}
