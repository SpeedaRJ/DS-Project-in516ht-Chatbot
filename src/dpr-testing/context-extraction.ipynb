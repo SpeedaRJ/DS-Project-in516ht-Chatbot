{
 "cells": [
  {
   "cell_type": "code",
   "execution_count": 7,
   "metadata": {},
   "outputs": [],
   "source": [
    "# Set up logging\n",
    "import logging\n",
    "\n",
    "logging.basicConfig(format=\"%(levelname)s - %(name)s -  %(message)s\", level=logging.WARNING)\n",
    "logging.getLogger(\"haystack\").setLevel(logging.INFO)\n"
   ]
  },
  {
   "cell_type": "code",
   "execution_count": 16,
   "metadata": {},
   "outputs": [],
   "source": [
    "# Imports for the DPR pipeline\n",
    "from haystack.nodes import TransformersReader, DensePassageRetriever, PreProcessor, PDFToTextConverter\n",
    "from haystack.document_stores import FAISSDocumentStore\n",
    "from haystack.pipelines import ExtractiveQAPipeline\n",
    "\n",
    "# Library for path handling\n",
    "import pathlib as pl\n",
    "\n",
    "# Library for data handling\n",
    "import pandas as pd"
   ]
  },
  {
   "cell_type": "code",
   "execution_count": 9,
   "metadata": {},
   "outputs": [],
   "source": [
    "# Model for text extraction from pdf\n",
    "converter = PDFToTextConverter(remove_numeric_tables=True, valid_languages=[\"en\"])\n",
    "# Extracting text from pdf\n",
    "extracted = converter.convert(file_path=pl.Path(\"../data/raw/sustainability-report-2020.pdf\"), meta=False, encoding=\"UTF-8\")[0]"
   ]
  },
  {
   "cell_type": "code",
   "execution_count": 12,
   "metadata": {},
   "outputs": [
    {
     "data": {
      "application/vnd.jupyter.widget-view+json": {
       "model_id": "d341e138ebd74059b8049be249a730da",
       "version_major": 2,
       "version_minor": 0
      },
      "text/plain": [
       "Preprocessing:   0%|          | 0/1 [00:00<?, ?docs/s]"
      ]
     },
     "metadata": {},
     "output_type": "display_data"
    }
   ],
   "source": [
    "# Preprocessing text\n",
    "preprocessor = PreProcessor(\n",
    "    clean_empty_lines=True,\n",
    "    clean_whitespace=True,\n",
    "    clean_header_footer=True,\n",
    "    split_by=\"sentence\",\n",
    "    split_length=4,\n",
    "    split_respect_sentence_boundary=False,\n",
    "    split_overlap=0\n",
    ")\n",
    "cleaned = preprocessor.process([extracted])"
   ]
  },
  {
   "cell_type": "code",
   "execution_count": 14,
   "metadata": {},
   "outputs": [
    {
     "data": {
      "application/vnd.jupyter.widget-view+json": {
       "model_id": "e024442ad441448b8558491881d9881b",
       "version_major": 2,
       "version_minor": 0
      },
      "text/plain": [
       "Writing Documents:   0%|          | 0/256 [00:00<?, ?it/s]"
      ]
     },
     "metadata": {},
     "output_type": "display_data"
    }
   ],
   "source": [
    "# Storing the text in a FAISS document store (local SQL database)\n",
    "document_store = FAISSDocumentStore(faiss_index_factory_str='Flat', similarity=\"dot_product\")\n",
    "document_store.write_documents(cleaned)"
   ]
  },
  {
   "cell_type": "code",
   "execution_count": 15,
   "metadata": {},
   "outputs": [
    {
     "name": "stderr",
     "output_type": "stream",
     "text": [
      "INFO:haystack.modeling.utils:Using devices: CPU - Number of GPUs: 0\n",
      "c:\\Users\\rjutr\\miniconda3\\envs\\ds_project_hs\\lib\\site-packages\\torch\\_utils.py:776: UserWarning: TypedStorage is deprecated. It will be removed in the future and UntypedStorage will be the only storage class. This should only matter to you if you are using storages directly.  To access UntypedStorage directly, use tensor.untyped_storage() instead of tensor.storage()\n",
      "  return self.fget.__get__(instance, owner)()\n",
      "INFO:haystack.modeling.model.language_model:Auto-detected model language: english\n",
      "The tokenizer class you load from this checkpoint is not the same type as the class this function is called from. It may result in unexpected tokenization. \n",
      "The tokenizer class you load from this checkpoint is 'DPRQuestionEncoderTokenizer'. \n",
      "The class this function is called from is 'DPRContextEncoderTokenizerFast'.\n",
      "INFO:haystack.modeling.model.language_model:Auto-detected model language: english\n",
      "INFO:haystack.document_stores.faiss:Updating embeddings for 256 docs...\n"
     ]
    },
    {
     "data": {
      "application/vnd.jupyter.widget-view+json": {
       "model_id": "ef6eb7e0441642ae97f2a60774a0eaeb",
       "version_major": 2,
       "version_minor": 0
      },
      "text/plain": [
       "Updating Embedding:   0%|          | 0/256 [00:00<?, ? docs/s]"
      ]
     },
     "metadata": {},
     "output_type": "display_data"
    },
    {
     "data": {
      "application/vnd.jupyter.widget-view+json": {
       "model_id": "786ce051017345bd8d548036a15fe8cd",
       "version_major": 2,
       "version_minor": 0
      },
      "text/plain": [
       "Create embeddings:   0%|          | 0/256 [00:00<?, ? Docs/s]"
      ]
     },
     "metadata": {},
     "output_type": "display_data"
    }
   ],
   "source": [
    "# Defining the dense passage retriever model\n",
    "retriever = DensePassageRetriever(\n",
    "    document_store=document_store,\n",
    "    query_embedding_model=\"facebook/dpr-question_encoder-single-nq-base\",\n",
    "    passage_embedding_model=\"facebook/dpr-ctx_encoder-single-nq-base\",\n",
    "    max_seq_len_query=64,\n",
    "    max_seq_len_passage=256,\n",
    "    batch_size=16,\n",
    "    use_gpu=True,\n",
    "    embed_title=True,\n",
    "    use_fast_tokenizers=True,\n",
    ")\n",
    "# Updating the embeddings in the document store using the model\n",
    "document_store.update_embeddings(retriever)"
   ]
  },
  {
   "cell_type": "code",
   "execution_count": 17,
   "metadata": {},
   "outputs": [
    {
     "name": "stderr",
     "output_type": "stream",
     "text": [
      "INFO:haystack.modeling.utils:Using devices: CPU - Number of GPUs: 0\n"
     ]
    }
   ],
   "source": [
    "# Defining the reader model (same as for the QA generation pipeline)\n",
    "reader = TransformersReader(\"deepset/roberta-base-squad2\", use_gpu=1)"
   ]
  },
  {
   "cell_type": "code",
   "execution_count": 19,
   "metadata": {},
   "outputs": [],
   "source": [
    "# Defining the pipeline for context extraction\n",
    "pipe = ExtractiveQAPipeline(reader, retriever)"
   ]
  },
  {
   "cell_type": "code",
   "execution_count": 21,
   "metadata": {},
   "outputs": [],
   "source": [
    "# Test prediction only\n",
    "prediction = pipe.run(query=\"When were the anticorruption policies and procedures revised?\", params={\"Retriever\": {\"top_k\": 10}, \"Reader\": {\"top_k\": 5}})"
   ]
  },
  {
   "cell_type": "code",
   "execution_count": 22,
   "metadata": {},
   "outputs": [
    {
     "data": {
      "text/plain": [
       "{'query': 'When were the anticorruption policies and procedures revised?',\n",
       " 'answers': [<Answer {'answer': 'second\\nhalf of 2020', 'type': 'extractive', 'score': 0.8555408716201782, 'context': 'o corruption\\nThe anticorruption policy and\\nprocedures were revised in second\\nhalf of 2020. There were no confirmed\\ncases of corruption in 2020.\\nNon-discriminat', 'offsets_in_document': [{'start': 123, 'end': 142}], 'offsets_in_context': [{'start': 70, 'end': 89}], 'document_ids': ['baeb9fdd6531b33d53a369cd89476249'], 'meta': {'_split_id': 2, 'vector_id': '170'}}>,\n",
       "  <Answer {'answer': 'second half of 2020', 'type': 'extractive', 'score': 0.795420229434967, 'context': 'embers: /\\nThe anticorruption policy and procedures were\\nrevised in in second half of 2020. Implementation\\nin NLB d.d. ', 'offsets_in_document': [{'start': 178, 'end': 197}], 'offsets_in_context': [{'start': 70, 'end': 89}], 'document_ids': ['e0b7aedcd1b234e2d71e232868af0dc9'], 'meta': {'_split_id': 182, 'vector_id': '218'}}>,\n",
       "  <Answer {'answer': '2020', 'type': 'extractive', 'score': 0.24625957012176514, 'context': 'and Bribery\\nand on Management of Conflicts of Interest was renewed in 2020. The\\nsystem of risk management of corruption and bribery was suppleme', 'offsets_in_document': [{'start': 439, 'end': 443}], 'offsets_in_context': [{'start': 70, 'end': 74}], 'document_ids': ['1dfdfd47d556b90d586e089d3c4b8f50'], 'meta': {'_split_id': 153, 'vector_id': '13'}}>,\n",
       "  <Answer {'answer': 'in second half of 2020', 'type': 'extractive', 'score': 0.09028777480125427, 'context': 'e members: /\\nThe anticorruption policy and procedures were\\nrevised in in second half of 2020. Implementation\\nin NLB d.d. ', 'offsets_in_document': [{'start': 175, 'end': 197}], 'offsets_in_context': [{'start': 70, 'end': 92}], 'document_ids': ['e0b7aedcd1b234e2d71e232868af0dc9'], 'meta': {'_split_id': 182, 'vector_id': '218'}}>,\n",
       "  <Answer {'answer': 'in second\\nhalf of 2020', 'type': 'extractive', 'score': 0.08879349380731583, 'context': '0\\nNo corruption\\nThe anticorruption policy and\\nprocedures were revised in second\\nhalf of 2020. There were no confirmed\\ncases of corruption in 2020.\\nNon-discriminat', 'offsets_in_document': [{'start': 120, 'end': 142}], 'offsets_in_context': [{'start': 70, 'end': 92}], 'document_ids': ['baeb9fdd6531b33d53a369cd89476249'], 'meta': {'_split_id': 2, 'vector_id': '170'}}>],\n",
       " 'documents': [<Document: {'content': 'Table 1: % of women in leadership positions in 2020\\nNo corruption\\nThe anticorruption policy and\\nprocedures were revised in second\\nhalf of 2020. There were no confirmed\\ncases of corruption in 2020.\\nNon-discrimination\\nWe have a policy of zero tolerance\\nto any form of discrimination and\\nviolence. In reporting period, we had\\n1 incident of discrimination, which was\\nresolved in February 2020 and there\\nhas not been any signs of mobbing.\\n', 'content_type': 'text', 'score': 0.6590033859811371, 'meta': {'_split_id': 2, 'vector_id': '170'}, 'id_hash_keys': ['content'], 'embedding': None, 'id': 'baeb9fdd6531b33d53a369cd89476249'}>,\n",
       "  <Document: {'content': 'The results of policies and internal or external rules, instructions, or regulations\\n(findings reached by the Bank on the basis of monitoring the implementation):\\nWith the purpose to ensure the dignity of employees and to provide a working\\nenvironment in which no worker is exposed to maltreatment and sexual or\\nother harassment by anybody performing tasks for NLB d.d., the latter has\\nestablished a system for preventing all forms of mobbing. This year, the system\\nof mobbing prevention was revised. A special commission for the renewal of\\nanti-mobbing mechanisms in NLB d.d.', 'content_type': 'text', 'score': 0.6570962833302244, 'meta': {'_split_id': 134, 'vector_id': '96'}, 'id_hash_keys': ['content'], 'embedding': None, 'id': '73bbfaf52ffab8e0b82447b0ca47599c'}>,\n",
       "  <Document: {'content': 'Targets followed by\\nNLB d.d. in the process of complaint management are fast, efficient, and\\nprofessional complaint settlement on all levels of the process, settlement of\\ncongenial reimbursement requests in a unified way, registration of complaints\\nsuch as to enable content analysis with the purpose of improving products,\\nprocesses, customer experience (transparency, quality, customer relation,\\netc.)and the formation of proposals on improvements with the purpose of\\npreventing a larger number of similar mistakes and consequences of the\\nnegative customer experience.\\nEven in the time of extraordinary measures (COVID-19), NLB processed\\ncomplaints along the established guidelines and within statutory periods.\\n', 'content_type': 'text', 'score': 0.6553347585596, 'meta': {'_split_id': 165, 'vector_id': '202'}, 'id_hash_keys': ['content'], 'embedding': None, 'id': 'd21b9d750b9e8fb11b3f26d9caca245c'}>,\n",
       "  <Document: {'content': 'The results of policies and internal or external rules, instructions, or\\nThere were no confirmed cases of corruption in 2020. Trainings in the field\\nof prevention of corruption and bribery of employees were conducted within\\nthe set of trainings in the field of standards of conduct and ensuring integrity.\\nAt the NLB Group level, the Policy on Prevention of Corruption and Bribery\\nand on Management of Conflicts of Interest was renewed in 2020. The\\nsystem of risk management of corruption and bribery was supplemented with\\nadditional risk indicators (red flags), and followed international standards in\\nthe fight against corruption system of rules for the prevention of corruption\\nand bribery and the management of risks related to the engagement of agents\\nand intermediaries, employment or hiring of services of (former) civil servants,\\ncontacts with high (state) representatives, the prevention of nepotism and of\\naccelerated payments, and ensuring transparency in NLB Group operations.\\n', 'content_type': 'text', 'score': 0.6550210231782475, 'meta': {'_split_id': 153, 'vector_id': '13'}, 'id_hash_keys': ['content'], 'embedding': None, 'id': '1dfdfd47d556b90d586e089d3c4b8f50'}>,\n",
       "  <Document: {'content': 'As part of the fight against corruption and bribery, the NLB Group carries\\nout several activities to manage these risks:\\n• Ensuring specific terms in written agreements and/or general terms\\nand conditions with third parties define anticorruption and antibribery\\nstandards as a minimum requirement for investment;\\n• Internal control mechanisms, including accounting controls, are in place for\\nantibribery and anticorruption area;\\n• Regular, at minimum annual review, identification and assessment of risks\\nof conflicts of interest and corruption in the case of external contractors\\nand suppliers and other contractual partners of NLB d.d. and the NLB\\nGroup through due diligence processes;\\n• For the purpose of appropriate identification of such events, various\\n(whistleblowing) channels are established for reporting of suspicions\\nof harmful conduct (internally and publicly available). Procedures and\\nmechanisms are in place to address suspicions of harmful conduct and to\\ntake corrective action in the event of a suspicion of corrupt conduct;\\n• NLB d.d. and NLB Group have implemented the envisaged measures for the\\nprotection of applicants (internal and external) and the manner of who orders\\nthem, and in what way and with what the protection of the applicant is ensured;\\n• In 2020, regular annual trainings were conducted for all employees and\\nmanagement of NLB d.d. ', 'content_type': 'text', 'score': 0.6506453794400223, 'meta': {'_split_id': 156, 'vector_id': '11'}, 'id_hash_keys': ['content'], 'embedding': None, 'id': '1cc6bab7a7f04d1f4eb6f62b75bda487'}>,\n",
       "  <Document: {'content': 'Internal acts furthermore\\ndefine the procedure for resolving and responding to complaints based on the\\ndirect or indirect impact of business activities on the environment and the\\nsocial environment.\\nWith the aim to protect the environment and minimise the possibility of\\nevents that might be harmful to the environment, and health or safety or the\\ncommunity as a whole, the Group uses a list of activities and projects that are\\nexcluded from funding or respects the defined limits for individual activities,\\nthus meeting the standards of good international practice in this area.\\nAt the beginning of 2020, the parent bank defined the possibility of financing\\nhighly controlled entities engaged in the activities of production and trade in\\narms and military equipment, i.e., dual-use items.\\n', 'content_type': 'text', 'score': 0.6501773367686877, 'meta': {'_split_id': 253, 'vector_id': '132'}, 'id_hash_keys': ['content'], 'embedding': None, 'id': '9541ddf4c873572e4494468fb89d81df'}>,\n",
       "  <Document: {'content': 'Measures against mobbing and measures\\nfor improvement of organisational culture\\nto protect human rights of employees\\nThe goal of NLB d.d. is written in the policy of preventing mobbing as\\nensuring the dignity of employees and providing working environment in\\nwhich no worker is exposed to maltreatment and sexual or other harassment\\nby anybody implementing the tasks for NLB d.d.\\nAlso, at the NLB Group level, equal opportunities, justice, and promoting\\nculture focused on performance are respected. The HR policies and practices\\nare based on culture promoting equal opportunities and performance of\\nemployees. ', 'content_type': 'text', 'score': 0.6500910710316968, 'meta': {'_split_id': 137, 'vector_id': '212'}, 'id_hash_keys': ['content'], 'embedding': None, 'id': 'da46636400ed49a9fb4332a9e0111e10'}>,\n",
       "  <Document: {'content': '- \\x07\\nKosovo: MB: 3 (100%), SB: 0 (0%).\\n- \\x07\\nNorth Macedonia: MB: 4 (100%), SB: 5 (100%).\\nNLB Group, non-core members: /\\nThe anticorruption policy and procedures were\\nrevised in in second half of 2020. Implementation\\nin NLB d.d. ', 'content_type': 'text', 'score': 0.6489613897749728, 'meta': {'_split_id': 182, 'vector_id': '218'}, 'id_hash_keys': ['content'], 'embedding': None, 'id': 'e0b7aedcd1b234e2d71e232868af0dc9'}>,\n",
       "  <Document: {'content': 'Due to the epidemic, the service is currently at a standstill. We\\nwill be bringing it back as soon as the circumstances allow it.\\nProcessing of Complaints\\nNLB d.d., has in compliance with legislation governing banking and financial\\nservices, two-tier customer complaint resolution system and selected institutions\\nresponsible for extra-judicial settlement of customer claims. ', 'content_type': 'text', 'score': 0.6486478323492981, 'meta': {'_split_id': 169, 'vector_id': '232'}, 'id_hash_keys': ['content'], 'embedding': None, 'id': 'f008700d904d32a873f8e7e08f511f72'}>,\n",
       "  <Document: {'content': 'A description of the scope of workers,\\nactivities, and workplaces covered by\\nthe occupational health and safety\\nmanagement system, and an explanation\\nof whether and, if so, why any workers,\\nactivities, or workplaces are not covered.\\nDisclosure 403-2 Hazard\\nidentification, risk assessment,\\nand incident investigation\\na. \\x07\\nA description of the processes used\\nto identify work-related hazards\\nand assess risks on a routine and\\nnon-routine basis, and to apply the\\nhierarchy of controls in order to\\neliminate hazards and minimise risks.\\na. ', 'content_type': 'text', 'score': 0.6481970721564924, 'meta': {'_split_id': 212, 'vector_id': '177'}, 'id_hash_keys': ['content'], 'embedding': None, 'id': 'c5beb3c89a12341a06edaf2fd51d7609'}>],\n",
       " 'root_node': 'Query',\n",
       " 'params': {'Retriever': {'top_k': 10}, 'Reader': {'top_k': 5}},\n",
       " 'node_id': 'Reader'}"
      ]
     },
     "execution_count": 22,
     "metadata": {},
     "output_type": "execute_result"
    }
   ],
   "source": [
    "prediction"
   ]
  }
 ],
 "metadata": {
  "kernelspec": {
   "display_name": "project_ds",
   "language": "python",
   "name": "python3"
  },
  "language_info": {
   "codemirror_mode": {
    "name": "ipython",
    "version": 3
   },
   "file_extension": ".py",
   "mimetype": "text/x-python",
   "name": "python",
   "nbconvert_exporter": "python",
   "pygments_lexer": "ipython3",
   "version": "3.10.9"
  },
  "orig_nbformat": 4
 },
 "nbformat": 4,
 "nbformat_minor": 2
}
