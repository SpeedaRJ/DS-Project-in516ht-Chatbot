{
 "cells": [
  {
   "cell_type": "code",
   "execution_count": null,
   "metadata": {},
   "outputs": [],
   "source": [
    "# Imports for the DPR pipeline\n",
    "from haystack.nodes import TransformersReader, DensePassageRetriever, PreProcessor, PDFToTextConverter\n",
    "from haystack.document_stores import FAISSDocumentStore\n",
    "from haystack.pipelines import ExtractiveQAPipeline\n",
    "import shutil\n",
    "\n",
    "# Library for path handling\n",
    "import pathlib as pl\n",
    "\n",
    "# Library for data handling\n",
    "import pandas as pd\n",
    "\n",
    "# Year identifier\n",
    "year = 2020\n",
    "\n",
    "# Target location for the document store\n",
    "ds_path = f\"../app/\""
   ]
  },
  {
   "cell_type": "code",
   "execution_count": null,
   "metadata": {},
   "outputs": [],
   "source": [
    "# Model for text extraction from pdf\n",
    "converter = PDFToTextConverter(remove_numeric_tables=True)\n",
    "# Extracting text from pdf\n",
    "extracted = converter.convert(file_path=pl.Path(f\"../data/raw/sustainability-report-{year}.pdf\"), meta=False, encoding=\"UTF-8\")[0]"
   ]
  },
  {
   "cell_type": "code",
   "execution_count": null,
   "metadata": {},
   "outputs": [],
   "source": [
    "# Preprocessing text\n",
    "preprocessor = PreProcessor(\n",
    "    clean_empty_lines=True,\n",
    "    clean_whitespace=True,\n",
    "    clean_header_footer=True,\n",
    "    split_by=\"sentence\",\n",
    "    split_length=4,\n",
    "    split_respect_sentence_boundary=False,\n",
    "    split_overlap=0\n",
    ")\n",
    "cleaned = preprocessor.process([extracted])"
   ]
  },
  {
   "cell_type": "code",
   "execution_count": null,
   "metadata": {},
   "outputs": [],
   "source": [
    "# Storing the text in a FAISS document store (local SQL database)\n",
    "document_store = FAISSDocumentStore(faiss_index_factory_str='Flat', similarity=\"dot_product\")\n",
    "document_store.write_documents(cleaned)"
   ]
  },
  {
   "cell_type": "code",
   "execution_count": null,
   "metadata": {},
   "outputs": [],
   "source": [
    "# Defining the dense passage retriever model\n",
    "retriever = DensePassageRetriever.load(load_dir=f\"../models/DPR/{year}\", document_store=document_store, use_gpu=True)\n",
    "# Updating the embeddings in the document store using the model\n",
    "document_store.update_embeddings(retriever)\n",
    "document_store.save(\"document_store.faiss\")"
   ]
  },
  {
   "cell_type": "code",
   "execution_count": null,
   "metadata": {},
   "outputs": [],
   "source": [
    "shutil.move(\"./faiss_document_store.db\", ds_path)"
   ]
  }
 ],
 "metadata": {
  "kernelspec": {
   "display_name": "project_ds",
   "language": "python",
   "name": "python3"
  },
  "language_info": {
   "codemirror_mode": {
    "name": "ipython",
    "version": 3
   },
   "file_extension": ".py",
   "mimetype": "text/x-python",
   "name": "python",
   "nbconvert_exporter": "python",
   "pygments_lexer": "ipython3",
   "version": "3.10.11"
  },
  "orig_nbformat": 4
 },
 "nbformat": 4,
 "nbformat_minor": 2
}
