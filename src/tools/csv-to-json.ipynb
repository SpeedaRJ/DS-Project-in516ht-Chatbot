{
 "cells": [
  {
   "cell_type": "code",
   "execution_count": 1,
   "metadata": {},
   "outputs": [],
   "source": [
    "# Library Imports\n",
    "import pandas as pd\n",
    "import json\n",
    "import ast\n",
    "import numpy as np\n",
    "from sklearn.model_selection import train_test_split\n",
    "\n",
    "# The dataset selector\n",
    "year = 2042"
   ]
  },
  {
   "cell_type": "code",
   "execution_count": 2,
   "metadata": {},
   "outputs": [],
   "source": [
    "# Read the csv file\n",
    "data = pd.read_csv(f'..\\data\\clean\\sustainability-report-{year}-squad-format.csv', sep=\";\")"
   ]
  },
  {
   "cell_type": "code",
   "execution_count": 3,
   "metadata": {},
   "outputs": [],
   "source": [
    "# Expand the answers column into multiple columns\n",
    "df1 = pd.DataFrame(data['answers'].apply(ast.literal_eval).values.tolist())\n",
    "df1.columns = 'answers.'+ df1.columns\n",
    "col = data.columns.difference(['answers'])\n",
    "data = pd.concat([data[col], df1],axis=1)"
   ]
  },
  {
   "cell_type": "code",
   "execution_count": 4,
   "metadata": {},
   "outputs": [],
   "source": [
    "# Split into test and validation sets\n",
    "train, dev = train_test_split(data, test_size=0.15, random_state=42, shuffle=True)"
   ]
  },
  {
   "cell_type": "code",
   "execution_count": 5,
   "metadata": {},
   "outputs": [],
   "source": [
    "# Create the boilerplate json files\n",
    "json_data_train = {\"version\":\"train\", \"data\":[]}\n",
    "json_data_dev = {\"version\":\"dev\", \"data\":[]}"
   ]
  },
  {
   "cell_type": "code",
   "execution_count": 6,
   "metadata": {},
   "outputs": [],
   "source": [
    "# Fill in the json files with the SQuAD data\n",
    "for row in train.iterrows():\n",
    "    row_data = row[1]\n",
    "    id = row_data[\"id\"]\n",
    "    question = row_data[\"question\"]\n",
    "    context = row_data[\"context\"]\n",
    "    answer = row_data[\"answers.text\"][0]\n",
    "    answer_start = row_data[\"answers.answer_start\"][0]\n",
    "    single_row = {\n",
    "        \"title\": f\"Title {id}\",\n",
    "        \"paragraphs\": [\n",
    "            {\n",
    "                \"context\": f\"{context}\",\n",
    "                \"qas\": [\n",
    "                    {\n",
    "                        \"id\": f\"{id}\",\n",
    "                        \"question\": f\"{question}\",\n",
    "                        \"answers\": [\n",
    "                            {\n",
    "                                \"text\": f\"{answer}\",\n",
    "                                \"answer_start\": answer_start\n",
    "                            }\n",
    "                        ]\n",
    "                    }\n",
    "                ]\n",
    "            }\n",
    "        ]\n",
    "    }\n",
    "    json_data_train[\"data\"].append(single_row)"
   ]
  },
  {
   "cell_type": "code",
   "execution_count": 7,
   "metadata": {},
   "outputs": [],
   "source": [
    "# Serialize json\n",
    "json_object_train = json.dumps(json_data_train, indent=4)\n",
    "json_object_dev = json.dumps(json_data_train, indent=4)\n",
    " \n",
    "# Write to files\n",
    "with open(f'..\\data\\clean\\json\\sustainability-report-{year}-squad-format-train.json', \"w\") as outfile:\n",
    "    outfile.write(json_object_train)\n",
    "with open(f'..\\data\\clean\\json\\sustainability-report-{year}-squad-format-dev.json', \"w\") as outfile:\n",
    "    outfile.write(json_object_train)"
   ]
  }
 ],
 "metadata": {
  "kernelspec": {
   "display_name": "project_ds_2",
   "language": "python",
   "name": "python3"
  },
  "language_info": {
   "codemirror_mode": {
    "name": "ipython",
    "version": 3
   },
   "file_extension": ".py",
   "mimetype": "text/x-python",
   "name": "python",
   "nbconvert_exporter": "python",
   "pygments_lexer": "ipython3",
   "version": "3.10.11"
  },
  "orig_nbformat": 4
 },
 "nbformat": 4,
 "nbformat_minor": 2
}
