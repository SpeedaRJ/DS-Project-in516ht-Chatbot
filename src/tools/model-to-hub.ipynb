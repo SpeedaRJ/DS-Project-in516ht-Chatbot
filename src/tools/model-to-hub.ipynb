{
 "cells": [
  {
   "cell_type": "code",
   "execution_count": 4,
   "metadata": {},
   "outputs": [],
   "source": [
    "# Library Imports\n",
    "from transformers import AutoTokenizer, AutoModelForQuestionAnswering, AutoModelForSeq2SeqLM, DPRConfig, DPRContextEncoder, DPRQuestionEncoder\n",
    "from pathlib import Path\n",
    "\n",
    "# Weather we are saving a DPR model or not\n",
    "dpr = True"
   ]
  },
  {
   "cell_type": "code",
   "execution_count": 5,
   "metadata": {},
   "outputs": [],
   "source": [
    "model_path = \"../data/models/DPR/2042/query_encoder/\" # Local path to model\n",
    "model_type = \"T5\" # Model type (actually local subfolder)\n",
    "model_name = \"dpr-fb-finetuned-nlb-question-encoder\" # Model name (local and on huggingface - possible to change later)\n",
    "checkpoint = \"checkpoint-2375\" # Local checkpoint of the model \n",
    "\n",
    "if not dpr:\n",
    "    # Load model and tokenizer based on model type\n",
    "    tokenizer = AutoTokenizer.from_pretrained(f\"{model_path}/{model_type}/{model_name}/{checkpoint}\", local_files_only=True)\n",
    "    if 'bert' in model_name:\n",
    "        model = AutoModelForQuestionAnswering.from_pretrained(f\"{model_path}/{model_type}/{model_name}/{checkpoint}\", local_files_only=True)\n",
    "    elif 't5' in model_name:\n",
    "        model = AutoModelForSeq2SeqLM.from_pretrained(f\"{model_path}/{model_type}/{model_name}/{checkpoint}\", local_files_only=True)\n",
    "else:\n",
    "    # Config path\n",
    "    lm_config = Path(model_path) / \"language_model_config.json\"\n",
    "    # Generate config\n",
    "    config = DPRConfig.from_pretrained(lm_config, local_files_only=True)\n",
    "    # Load model and tokenizer\n",
    "    tokenizer = AutoTokenizer.from_pretrained(model_path, local_files_only=True)\n",
    "    if 'passage' in model_path:\n",
    "        model = DPRContextEncoder(config)\n",
    "    elif 'query' in model_path:\n",
    "        model = DPRQuestionEncoder(config)"
   ]
  },
  {
   "cell_type": "code",
   "execution_count": 6,
   "metadata": {},
   "outputs": [
    {
     "data": {
      "application/vnd.jupyter.widget-view+json": {
       "model_id": "10dfbd0e95e54bd1a4579a4f978f8088",
       "version_major": 2,
       "version_minor": 0
      },
      "text/plain": [
       "Upload 1 LFS files:   0%|          | 0/1 [00:00<?, ?it/s]"
      ]
     },
     "metadata": {},
     "output_type": "display_data"
    },
    {
     "data": {
      "application/vnd.jupyter.widget-view+json": {
       "model_id": "ea7e856d05a247f0bfc6f2228c5fe9c2",
       "version_major": 2,
       "version_minor": 0
      },
      "text/plain": [
       "pytorch_model.bin:   0%|          | 0.00/436M [00:00<?, ?B/s]"
      ]
     },
     "metadata": {},
     "output_type": "display_data"
    },
    {
     "data": {
      "text/plain": [
       "CommitInfo(commit_url='https://huggingface.co/SpeedaRJ/t5-base-finetuned-squadv2-finetuned-NLB-QA-2042-full_combined/commit/5c667546cfe60d093a5426490650874bd54578cd', commit_message='Upload tokenizer', commit_description='', oid='5c667546cfe60d093a5426490650874bd54578cd', pr_url=None, pr_revision=None, pr_num=None)"
      ]
     },
     "execution_count": 6,
     "metadata": {},
     "output_type": "execute_result"
    }
   ],
   "source": [
    "# Push model and tokenizer to hub\n",
    "model.push_to_hub(model_name)\n",
    "tokenizer.push_to_hub(model_name)"
   ]
  }
 ],
 "metadata": {
  "kernelspec": {
   "display_name": "project_ds_2",
   "language": "python",
   "name": "python3"
  },
  "language_info": {
   "codemirror_mode": {
    "name": "ipython",
    "version": 3
   },
   "file_extension": ".py",
   "mimetype": "text/x-python",
   "name": "python",
   "nbconvert_exporter": "python",
   "pygments_lexer": "ipython3",
   "version": "3.10.11"
  },
  "orig_nbformat": 4
 },
 "nbformat": 4,
 "nbformat_minor": 2
}
