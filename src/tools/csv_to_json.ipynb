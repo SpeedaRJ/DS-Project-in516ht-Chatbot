{
 "cells": [
  {
   "cell_type": "code",
   "execution_count": 82,
   "metadata": {},
   "outputs": [],
   "source": [
    "import pandas as pd\n",
    "import json\n",
    "import ast\n",
    "\n",
    "year = 2022"
   ]
  },
  {
   "cell_type": "code",
   "execution_count": 83,
   "metadata": {},
   "outputs": [],
   "source": [
    "data = pd.read_csv(f'..\\data\\clean\\sustainability-report-{year}-squad-format.csv', sep=\";\")"
   ]
  },
  {
   "cell_type": "code",
   "execution_count": 84,
   "metadata": {},
   "outputs": [],
   "source": [
    "df1 = pd.DataFrame(data['answers'].apply(ast.literal_eval).values.tolist())\n",
    "df1.columns = 'answers.'+ df1.columns\n",
    "col = data.columns.difference(['answers'])\n",
    "data = pd.concat([data[col], df1],axis=1)"
   ]
  },
  {
   "cell_type": "code",
   "execution_count": 85,
   "metadata": {},
   "outputs": [],
   "source": [
    "json_data = {\"version\":1, \"data\":[]}"
   ]
  },
  {
   "cell_type": "code",
   "execution_count": 86,
   "metadata": {},
   "outputs": [],
   "source": [
    "for row in data.iterrows():\n",
    "    row_data = row[1]\n",
    "    id = row_data[\"id\"]\n",
    "    question = row_data[\"question\"]\n",
    "    context = row_data[\"context\"]\n",
    "    answer = row_data[\"answers.text\"][0]\n",
    "    answer_start = row_data[\"answers.answer_start\"][0]\n",
    "    single_row = {\n",
    "        \"title\": f\"Title {id}\",\n",
    "        \"paragraphs\": [\n",
    "            {\n",
    "                \"context\": f\"{context}\",\n",
    "                \"qas\": [\n",
    "                    {\n",
    "                        \"id\": f\"{id}\",\n",
    "                        \"question\": f\"{question}\",\n",
    "                        \"answers\": [\n",
    "                            {\n",
    "                                \"text\": f\"{answer}\",\n",
    "                                \"answer_start\": answer_start\n",
    "                            }\n",
    "                        ],\n",
    "                        \"is_impossible\": True\n",
    "                    }\n",
    "                ]\n",
    "            }\n",
    "        ]\n",
    "    }\n",
    "    json_data[\"data\"].append(single_row)"
   ]
  },
  {
   "cell_type": "code",
   "execution_count": 87,
   "metadata": {},
   "outputs": [],
   "source": [
    "# Serializing json\n",
    "json_object = json.dumps(json_data, indent=4)\n",
    " \n",
    "# Writing to sample.json\n",
    "with open(f'..\\data\\clean\\sustainability-report-{year}-squad-format.json', \"w\") as outfile:\n",
    "    outfile.write(json_object)"
   ]
  }
 ],
 "metadata": {
  "kernelspec": {
   "display_name": "project_ds_2",
   "language": "python",
   "name": "python3"
  },
  "language_info": {
   "codemirror_mode": {
    "name": "ipython",
    "version": 3
   },
   "file_extension": ".py",
   "mimetype": "text/x-python",
   "name": "python",
   "nbconvert_exporter": "python",
   "pygments_lexer": "ipython3",
   "version": "3.10.11"
  },
  "orig_nbformat": 4
 },
 "nbformat": 4,
 "nbformat_minor": 2
}
