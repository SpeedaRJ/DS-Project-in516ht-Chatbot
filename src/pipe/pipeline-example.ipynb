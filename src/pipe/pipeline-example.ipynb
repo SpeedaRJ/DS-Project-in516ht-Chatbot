{
 "cells": [
  {
   "attachments": {},
   "cell_type": "markdown",
   "metadata": {},
   "source": [
    "# Extractive Model Pipeline"
   ]
  },
  {
   "cell_type": "code",
   "execution_count": null,
   "metadata": {},
   "outputs": [],
   "source": [
    "from haystack.document_stores import FAISSDocumentStore\n",
    "from haystack.nodes import DensePassageRetriever\n",
    "from haystack.pipelines import Pipeline\n",
    "from haystack.nodes import TransformersReader\n",
    "from haystack.utils import print_answers\n",
    "\n",
    "document_store = FAISSDocumentStore.load(index_path=\"document_store.faiss\", config_path=\"document_store.json\")\n",
    "\n",
    "retriever = DensePassageRetriever(\n",
    "    document_store=document_store,\n",
    "    query_embedding_model=\"facebook/dpr-question_encoder-single-nq-base\",\n",
    "    passage_embedding_model=\"facebook/dpr-ctx_encoder-single-nq-base\",\n",
    "    use_gpu=True\n",
    ")\n",
    "reader = TransformersReader(model_name_or_path=\"../models/BERT/roberta-base-squad2-finetuned-NLB-QA-2042-full_combined\", use_gpu=True)"
   ]
  },
  {
   "cell_type": "code",
   "execution_count": null,
   "metadata": {},
   "outputs": [],
   "source": [
    "p_extractive = Pipeline()\n",
    "p_extractive.add_node(component=retriever, name=\"Retriever\", inputs=[\"Query\"])\n",
    "p_extractive.add_node(component=reader, name=\"Reader\", inputs=[\"Retriever\"])\n",
    "res = p_extractive.run(\n",
    "    query=\"When were the anticorruption policies and procedures revised?\", params={\"Reader\": {\"top_k\": 5}}\n",
    ")\n",
    "print_answers(res, details=\"all\")"
   ]
  },
  {
   "attachments": {},
   "cell_type": "markdown",
   "metadata": {},
   "source": [
    "# Generative Model Pipeline"
   ]
  },
  {
   "cell_type": "code",
   "execution_count": null,
   "metadata": {},
   "outputs": [],
   "source": [
    "from haystack.nodes import Seq2SeqGenerator\n",
    "from haystack.nodes.answer_generator.transformers import _BartEli5Converter\n",
    "\n",
    "generator = Seq2SeqGenerator(model_name_or_path=\"../models/T5/t5-small-finetuned-squadv2-finetuned-NLB-QA-2042-full_combined\", input_converter=_BartEli5Converter())"
   ]
  },
  {
   "cell_type": "code",
   "execution_count": null,
   "metadata": {},
   "outputs": [],
   "source": [
    "p_generative = Pipeline()\n",
    "p_generative.add_node(component=retriever, name=\"Retriever\", inputs=[\"Query\"])\n",
    "p_generative.add_node(component=generator,\n",
    "                      name=\"Generator\", inputs=[\"Retriever\"])\n",
    "res = p_generative.run(\n",
    "    query=\"When were the anticorruption policies and procedures revised?\", params={\"Generator\": {\"top_k\": 5}}\n",
    ")\n",
    "print_answers(res, details=\"all\")"
   ]
  }
 ],
 "metadata": {
  "kernelspec": {
   "display_name": "project_ds",
   "language": "python",
   "name": "python3"
  },
  "language_info": {
   "codemirror_mode": {
    "name": "ipython",
    "version": 3
   },
   "file_extension": ".py",
   "mimetype": "text/x-python",
   "name": "python",
   "nbconvert_exporter": "python",
   "pygments_lexer": "ipython3",
   "version": "3.10.11"
  },
  "orig_nbformat": 4
 },
 "nbformat": 4,
 "nbformat_minor": 2
}
