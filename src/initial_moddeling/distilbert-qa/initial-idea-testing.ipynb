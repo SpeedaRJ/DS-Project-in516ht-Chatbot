{
 "cells": [
  {
   "cell_type": "code",
   "execution_count": null,
   "metadata": {},
   "outputs": [],
   "source": [
    "# Model imports\n",
    "from transformers import pipeline as pip\n",
    "\n",
    "# Data handling imports\n",
    "import pandas as pd\n",
    "import numpy as np\n",
    "\n",
    "\n",
    "import warnings\n",
    "warnings.filterwarnings(\"ignore\")"
   ]
  },
  {
   "cell_type": "code",
   "execution_count": null,
   "metadata": {},
   "outputs": [],
   "source": [
    "# Read the data\n",
    "data = pd.read_csv('../data/clean/sustainability-report-2020-NLB-reviewed.csv', sep=';', encoding='utf-8')"
   ]
  },
  {
   "cell_type": "code",
   "execution_count": null,
   "metadata": {},
   "outputs": [],
   "source": [
    "# Drop rows that have nan values in any column except LABEL\n",
    "data = data.dropna(subset=['answer'], how='any')\n",
    "data = data.dropna(subset=['context'], how='any')\n",
    "data = data.dropna(subset=['question'], how='any')"
   ]
  },
  {
   "cell_type": "code",
   "execution_count": null,
   "metadata": {},
   "outputs": [],
   "source": [
    "# Load a model\n",
    "qa = pip('question-answering', device=0)"
   ]
  },
  {
   "cell_type": "code",
   "execution_count": null,
   "metadata": {},
   "outputs": [],
   "source": [
    "# Sanity check the performance\n",
    "qa(data['question'][1200], data['context'][1200])"
   ]
  },
  {
   "cell_type": "code",
   "execution_count": null,
   "metadata": {},
   "outputs": [],
   "source": [
    "# Join all the contexts into one string\n",
    "full_context = \". \".join(data.context)"
   ]
  },
  {
   "cell_type": "code",
   "execution_count": null,
   "metadata": {},
   "outputs": [],
   "source": [
    "# Make a prediction for each question on the full context - sliding window approach\n",
    "for index, row in data.iterrows():\n",
    "    data.loc[index, \"prediction\"] = qa(row['question'], full_context)['answer']\n",
    "    #print(f\"Done with question {index} out of {len(data)}\")"
   ]
  },
  {
   "cell_type": "code",
   "execution_count": null,
   "metadata": {},
   "outputs": [],
   "source": [
    "# Sentence transformer imports\n",
    "from sentence_transformers import SentenceTransformer, util"
   ]
  },
  {
   "cell_type": "code",
   "execution_count": null,
   "metadata": {},
   "outputs": [],
   "source": [
    "# Load a sentence transformer model\n",
    "model = SentenceTransformer('sentence-transformers/all-MiniLM-L6-v2')"
   ]
  },
  {
   "cell_type": "code",
   "execution_count": null,
   "metadata": {},
   "outputs": [],
   "source": [
    "# Calculate the similarity score between the prediction and the answer based on embeddings (Bertscore)\n",
    "data['similarity_score'] = data.apply(lambda row: util.pytorch_cos_sim(*model.encode([row.prediction, row.answer])).item(), axis=1)"
   ]
  },
  {
   "cell_type": "code",
   "execution_count": null,
   "metadata": {},
   "outputs": [],
   "source": [
    "# Plotting imports\n",
    "import matplotlib.pyplot as plt\n",
    "import seaborn as sns\n",
    "\n",
    "sns.set_theme(style=\"whitegrid\")"
   ]
  },
  {
   "cell_type": "code",
   "execution_count": null,
   "metadata": {},
   "outputs": [],
   "source": [
    "# Make a histogram plot with a density of similarity scores\n",
    "ax = sns.histplot(data=data, x=\"similarity_score\", bins=20, kde=True)\n",
    "# Mark the mean\n",
    "ax.axvline(data['similarity_score'].mean(), color='r', linestyle='--')\n",
    "# Show the plot\n",
    "plt.title('Similarity score distribution')\n",
    "plt.show()"
   ]
  },
  {
   "cell_type": "code",
   "execution_count": null,
   "metadata": {},
   "outputs": [],
   "source": [
    "# Plot only the ones with LABEL not nan\n",
    "ax = sns.histplot(data=data[data['LABEL'].notna()], x=\"similarity_score\", bins=20, kde=True)\n",
    "# Mark the mean\n",
    "ax.axvline(data['similarity_score'].mean(), color='r', linestyle='--')\n",
    "# Show the plot\n",
    "plt.title('Similarity score distribution - LABEL = OK')\n",
    "plt.show()"
   ]
  }
 ],
 "metadata": {
  "kernelspec": {
   "display_name": "ds_project",
   "language": "python",
   "name": "python3"
  },
  "language_info": {
   "codemirror_mode": {
    "name": "ipython",
    "version": 3
   },
   "file_extension": ".py",
   "mimetype": "text/x-python",
   "name": "python",
   "nbconvert_exporter": "python",
   "pygments_lexer": "ipython3",
   "version": "3.10.11"
  },
  "orig_nbformat": 4
 },
 "nbformat": 4,
 "nbformat_minor": 2
}
