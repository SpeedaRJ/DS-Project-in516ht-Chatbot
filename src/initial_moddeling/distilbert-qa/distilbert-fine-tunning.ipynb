{
 "cells": [
  {
   "cell_type": "code",
   "execution_count": 1,
   "metadata": {},
   "outputs": [],
   "source": [
    "from transformers import AutoTokenizer, AutoModelForQuestionAnswering, DefaultDataCollator, Trainer, TrainingArguments, set_seed\n",
    "from datasets import *\n",
    "import numpy as np\n",
    "import torch\n",
    "import ast\n",
    "\n",
    "torch.cuda.empty_cache()"
   ]
  },
  {
   "cell_type": "code",
   "execution_count": 2,
   "metadata": {},
   "outputs": [],
   "source": [
    "SEED = 42\n",
    "set_seed(SEED)\n",
    "\n",
    "# any combination of these years and dataset types can be used\n",
    "# year = 2020\n",
    "year = 2022\n",
    "# dataset_type = \"full\"\n",
    "dataset_type = \"smaller\"\n",
    "\n",
    "# only combination of these years and dataset types can be used\n",
    "# year = 2042 # idk some random number for file names\n",
    "# dataset_type = \"full_combined\"\n",
    "# dataset_type = \"smaller_combined\"\n",
    "\n",
    "# only combination of these years and dataset types can be used\n",
    "# year = 2022\n",
    "# dataset_type = \"handwritten\"\n",
    "\n",
    "local_models_path = '../../data/models/BERT'\n",
    "\n",
    "#model_name = 'distilbert-base-cased-distilled-squad'\n",
    "model_name = \"deepset/roberta-base-squad2\""
   ]
  },
  {
   "attachments": {},
   "cell_type": "markdown",
   "metadata": {},
   "source": [
    "### Load tokenizer and model"
   ]
  },
  {
   "cell_type": "code",
   "execution_count": 3,
   "metadata": {},
   "outputs": [],
   "source": [
    "tokenizer = AutoTokenizer.from_pretrained(model_name)\n",
    "model = AutoModelForQuestionAnswering.from_pretrained(model_name)"
   ]
  },
  {
   "attachments": {},
   "cell_type": "markdown",
   "metadata": {},
   "source": [
    "### Load the dataset"
   ]
  },
  {
   "cell_type": "code",
   "execution_count": 4,
   "metadata": {},
   "outputs": [
    {
     "name": "stderr",
     "output_type": "stream",
     "text": [
      "Found cached dataset csv (C:/Users/Luka/.cache/huggingface/datasets/csv/default-003bb09dc8228b5f/0.0.0/6954658bab30a358235fa864b05cf819af0e179325c740e4bc853bcc7ec513e1)\n",
      "Loading cached split indices for dataset at C:\\Users\\Luka\\.cache\\huggingface\\datasets\\csv\\default-003bb09dc8228b5f\\0.0.0\\6954658bab30a358235fa864b05cf819af0e179325c740e4bc853bcc7ec513e1\\cache-515ab9eb5e89ae1b.arrow and C:\\Users\\Luka\\.cache\\huggingface\\datasets\\csv\\default-003bb09dc8228b5f\\0.0.0\\6954658bab30a358235fa864b05cf819af0e179325c740e4bc853bcc7ec513e1\\cache-bf44f2d0ce4c658e.arrow\n"
     ]
    }
   ],
   "source": [
    "# Load the dataset from file and split it into train and test datasets\n",
    "if dataset_type == \"full\":\n",
    "    data = load_dataset('csv', data_files=f\"../../data/clean/sustainability-report-{year}-squad-format.csv\",\n",
    "                        delimiter=\";\", split='train').train_test_split(test_size=0.3, shuffle=True, seed=SEED)\n",
    "elif dataset_type == \"smaller\":\n",
    "    data = load_dataset('csv', data_files=f\"../../data/clean/sustainability-report-{year}-squad-format.csv\",\n",
    "                        delimiter=\";\", split='train').train_test_split(test_size=0.3, shuffle=True, seed=SEED)\n",
    "    data[\"train\"] = data[\"train\"].select(range(len(data[\"train\"]) // 2))\n",
    "elif dataset_type == \"full_combined\":\n",
    "    data = load_dataset('csv', data_files=\"../../data/clean/sustainability-report-2042-squad-format.csv\",\n",
    "                        delimiter=\";\", split=\"train\").train_test_split(test_size=0.3, shuffle=True, seed=SEED)\n",
    "elif dataset_type == \"smaller_combined\":\n",
    "    data = load_dataset('csv', data_files=\"../../data/clean/sustainability-report-2042-squad-format.csv\",\n",
    "                        delimiter=\";\", split=\"train\").train_test_split(test_size=0.3, shuffle=True, seed=SEED)\n",
    "    data[\"train\"] = data[\"train\"].select(range(len(data[\"train\"]) // 2))\n",
    "elif dataset_type == \"handwritten\":\n",
    "    data = load_dataset('csv', data_files=f\"../../data/clean/QA_SR_2022_Expert-squad-format.csv\",\n",
    "                        delimiter=\";\", split='train').train_test_split(test_size=0.3, shuffle=True, seed=SEED)\n",
    "else:\n",
    "    raise Exception(\"Invalid dataset type\")"
   ]
  },
  {
   "cell_type": "code",
   "execution_count": 5,
   "metadata": {},
   "outputs": [
    {
     "name": "stderr",
     "output_type": "stream",
     "text": [
      "Loading cached processed dataset at C:\\Users\\Luka\\.cache\\huggingface\\datasets\\csv\\default-003bb09dc8228b5f\\0.0.0\\6954658bab30a358235fa864b05cf819af0e179325c740e4bc853bcc7ec513e1\\cache-0158f993dabee325.arrow\n",
      "Loading cached processed dataset at C:\\Users\\Luka\\.cache\\huggingface\\datasets\\csv\\default-003bb09dc8228b5f\\0.0.0\\6954658bab30a358235fa864b05cf819af0e179325c740e4bc853bcc7ec513e1\\cache-bee36876181b6213.arrow\n",
      "Loading cached processed dataset at C:\\Users\\Luka\\.cache\\huggingface\\datasets\\csv\\default-003bb09dc8228b5f\\0.0.0\\6954658bab30a358235fa864b05cf819af0e179325c740e4bc853bcc7ec513e1\\cache-74602f82da6cdf7e.arrow\n",
      "Loading cached processed dataset at C:\\Users\\Luka\\.cache\\huggingface\\datasets\\csv\\default-003bb09dc8228b5f\\0.0.0\\6954658bab30a358235fa864b05cf819af0e179325c740e4bc853bcc7ec513e1\\cache-458ddfff9d8ca38f.arrow\n",
      "Loading cached processed dataset at C:\\Users\\Luka\\.cache\\huggingface\\datasets\\csv\\default-003bb09dc8228b5f\\0.0.0\\6954658bab30a358235fa864b05cf819af0e179325c740e4bc853bcc7ec513e1\\cache-f7705f480a681253.arrow\n",
      "Loading cached processed dataset at C:\\Users\\Luka\\.cache\\huggingface\\datasets\\csv\\default-003bb09dc8228b5f\\0.0.0\\6954658bab30a358235fa864b05cf819af0e179325c740e4bc853bcc7ec513e1\\cache-8404b7dc543e653f.arrow\n"
     ]
    }
   ],
   "source": [
    "# Reformat the train and test set such as they adhere to the SQuAD format (reading from cvs loads strings not objects as expected)\n",
    "data[\"test\"] = data[\"test\"].map(\n",
    "    lambda example: ast.literal_eval(example[\"answers\"]))\n",
    "data[\"test\"] = data[\"test\"].map(lambda example: {\"question\": example[\"question\"], \"context\": example[\"context\"], \"answers\": {\n",
    "                                \"text\": example[\"text\"], \"answer_start\": example[\"answer_start\"]}})\n",
    "# replace all \"\\n\" with \" \" in the context, answers and questions\n",
    "data[\"test\"] = data[\"test\"].map(lambda example: {\"question\": example[\"question\"].replace(\"\\n\", \" \"), \"context\": example[\"context\"].replace(\"\\n\", \" \"), \"answers\": {\n",
    "                                \"text\": [example[\"answers\"][\"text\"][0].replace(\"\\n\", \" \")], \"answer_start\": example[\"answers\"][\"answer_start\"]}})\n",
    "data[\"test\"] = data[\"test\"].remove_columns([\"text\", \"answer_start\"])\n",
    "\n",
    "data[\"train\"] = data[\"train\"].map(\n",
    "    lambda example: ast.literal_eval(example[\"answers\"]))\n",
    "data[\"train\"] = data[\"train\"].map(lambda example: {\"question\": example[\"question\"], \"context\": example[\"context\"], \"answers\": {\n",
    "                                  \"text\": example[\"text\"], \"answer_start\": example[\"answer_start\"]}})\n",
    "# replace all \"\\n\" with \" \" in the context, answers and questions\n",
    "data[\"train\"] = data[\"train\"].map(lambda example: {\"question\": example[\"question\"].replace(\"\\n\", \" \"), \"context\": example[\"context\"].replace(\"\\n\", \" \"), \"answers\": {\n",
    "                                \"text\": [example[\"answers\"][\"text\"][0].replace(\"\\n\", \" \")], \"answer_start\": example[\"answers\"][\"answer_start\"]}})\n",
    "data[\"train\"] = data[\"train\"].remove_columns([\"text\", \"answer_start\"])"
   ]
  },
  {
   "cell_type": "code",
   "execution_count": 6,
   "metadata": {},
   "outputs": [
    {
     "data": {
      "application/vnd.jupyter.widget-view+json": {
       "model_id": "120fba51b08c4117b8252d50878d9e6f",
       "version_major": 2,
       "version_minor": 0
      },
      "text/plain": [
       "Map:   0%|          | 0/124 [00:00<?, ? examples/s]"
      ]
     },
     "metadata": {},
     "output_type": "display_data"
    },
    {
     "name": "stderr",
     "output_type": "stream",
     "text": [
      "Loading cached processed dataset at C:\\Users\\Luka\\.cache\\huggingface\\datasets\\csv\\default-003bb09dc8228b5f\\0.0.0\\6954658bab30a358235fa864b05cf819af0e179325c740e4bc853bcc7ec513e1\\cache-a9c452fb8a40bd48.arrow\n"
     ]
    }
   ],
   "source": [
    "def tokenize_sample_data(data):\n",
    "    # Tokenize the data\n",
    "    tokenized_feature = tokenizer(\n",
    "        data[\"question\"],\n",
    "        data[\"context\"],\n",
    "        max_length=384,\n",
    "        return_overflowing_tokens=True,\n",
    "        stride=128,\n",
    "        truncation=\"only_second\",\n",
    "        padding=\"max_length\",\n",
    "        return_offsets_mapping=True,\n",
    "    )\n",
    "\n",
    "    # When it overflows, multiple rows will be returned for a single example.\n",
    "    # The following then gets the array of corresponding the original sample index.\n",
    "    sample_mapping = tokenized_feature.pop(\"overflow_to_sample_mapping\")\n",
    "    # Get the array of [start_char, end_char + 1] in each token.\n",
    "    # The shape is [returned_row_size, max_length]\n",
    "    offset_mapping = tokenized_feature.pop(\"offset_mapping\")\n",
    "\n",
    "    start_positions = []\n",
    "    end_positions = []\n",
    "    for i, offset in enumerate(offset_mapping):\n",
    "        sample_index = sample_mapping[i]\n",
    "        answers = data[\"answers\"][sample_index]\n",
    "        start_char = answers[\"answer_start\"][0]\n",
    "        end_char = start_char + len(answers[\"text\"][0]) - 1\n",
    "        # The format of sequence_ids is [None, 0, ..., 0, None, None, 1, ..., 1, None, None, ...]\n",
    "        # in which question's token is 0 and contex's token is 1\n",
    "        sequence_ids = tokenized_feature.sequence_ids(i)\n",
    "        # find the start and end index of context\n",
    "        idx = 0\n",
    "        while sequence_ids[idx] != 1:\n",
    "            idx += 1\n",
    "        context_start = idx\n",
    "        while sequence_ids[idx] == 1:\n",
    "            idx += 1\n",
    "        context_end = idx - 1\n",
    "        # Set start positions and end positions in inputs_ids\n",
    "        # Note: The second element in offset is end_char + 1\n",
    "        # if offset[context_start][0] > end_char or offset[context_end][1] <= start_char:\n",
    "        if not (offset[context_start][0] <= start_char and end_char < offset[context_end][1]):\n",
    "            # The case that answer is not inside the context\n",
    "            # Note : Some tokenizer (such as, tokenizer in rinna model) doesn't place CLS\n",
    "            # for the first token in sequence, and I then set -1 as positions.\n",
    "            # (Later I'll process rows with start_positions=-1.)\n",
    "            start_positions.append(-1)\n",
    "            end_positions.append(-1)\n",
    "        else:\n",
    "            # The case that answer is found in the context\n",
    "\n",
    "            # Set start position\n",
    "            idx = context_start\n",
    "            while offset[idx][0] < start_char:\n",
    "                idx += 1\n",
    "            if offset[idx][0] == start_char:\n",
    "                start_positions.append(idx)\n",
    "            else:\n",
    "                start_positions.append(idx - 1)\n",
    "\n",
    "            # Set end position\n",
    "            idx = context_end\n",
    "            while offset[idx][1] > end_char + 1:\n",
    "                idx -= 1\n",
    "            if offset[idx][1] == end_char + 1:\n",
    "                end_positions.append(idx)\n",
    "            else:\n",
    "                end_positions.append(idx + 1)\n",
    "\n",
    "    # Build result\n",
    "    tokenized_feature[\"start_positions\"] = start_positions\n",
    "    tokenized_feature[\"end_positions\"] = end_positions\n",
    "    return tokenized_feature\n",
    "\n",
    "\n",
    "# Run conversion\n",
    "if dataset_type == \"handwritten\":\n",
    "    remove_columns = [\"context\", \"question\", \"answers\"]\n",
    "else:\n",
    "    remove_columns = [\"id\", \"context\", \"question\", \"answers\"]\n",
    "tokenized_ds = data.map(\n",
    "    tokenize_sample_data,\n",
    "    remove_columns=remove_columns,\n",
    "    batched=True,\n",
    "    batch_size=128)"
   ]
  },
  {
   "cell_type": "code",
   "execution_count": 7,
   "metadata": {},
   "outputs": [],
   "source": [
    "name = model_name.split(\"/\")[-1]\n",
    "output_dir = f\"{local_models_path}/{name}-finetuned-NLB-QA-{year}-{dataset_type}\"\n",
    "\n",
    "# Set the data collator\n",
    "data_collator = DefaultDataCollator()\n",
    "\n",
    "# Define the training arguments\n",
    "if \"roberta\" in model_name:\n",
    "    training_args = TrainingArguments(\n",
    "        output_dir=output_dir,\n",
    "        per_device_train_batch_size=8,\n",
    "        per_device_eval_batch_size=8,\n",
    "        evaluation_strategy=\"epoch\",\n",
    "        save_strategy=\"epoch\",\n",
    "        learning_rate=2e-5,\n",
    "        weight_decay=0.01,\n",
    "        save_total_limit=3,\n",
    "        num_train_epochs=25,\n",
    "        fp16=True,\n",
    "        push_to_hub=False,\n",
    "        load_best_model_at_end=True\n",
    "    )\n",
    "elif \"distilbert\" in model_name:\n",
    "    training_args = TrainingArguments(\n",
    "        output_dir=output_dir,\n",
    "        per_device_train_batch_size=16,\n",
    "        per_device_eval_batch_size=16,\n",
    "        evaluation_strategy=\"epoch\",\n",
    "        save_strategy=\"epoch\",\n",
    "        learning_rate=2e-5,\n",
    "        weight_decay=0.01,\n",
    "        save_total_limit=3,\n",
    "        num_train_epochs=25,\n",
    "        fp16=True,\n",
    "        push_to_hub=False,\n",
    "        load_best_model_at_end=True\n",
    "    )\n",
    "else:\n",
    "    raise ValueError(\"Model name not supported\")\n",
    "\n",
    "# Define the trainer\n",
    "trainer = Trainer(\n",
    "    model=model,\n",
    "    args=training_args,\n",
    "    data_collator=data_collator,\n",
    "    train_dataset=tokenized_ds[\"train\"],\n",
    "    eval_dataset=tokenized_ds[\"test\"],\n",
    "    tokenizer=tokenizer,\n",
    ")"
   ]
  },
  {
   "cell_type": "code",
   "execution_count": 8,
   "metadata": {},
   "outputs": [
    {
     "name": "stderr",
     "output_type": "stream",
     "text": [
      "c:\\Users\\Luka\\miniconda3\\envs\\project_ds\\lib\\site-packages\\transformers\\optimization.py:391: FutureWarning: This implementation of AdamW is deprecated and will be removed in a future version. Use the PyTorch implementation torch.optim.AdamW instead, or set `no_deprecation_warning=True` to disable this warning\n",
      "  warnings.warn(\n"
     ]
    },
    {
     "data": {
      "application/vnd.jupyter.widget-view+json": {
       "model_id": "d4dbd3099c9d493ebb386bb22941adb0",
       "version_major": 2,
       "version_minor": 0
      },
      "text/plain": [
       "  0%|          | 0/400 [00:00<?, ?it/s]"
      ]
     },
     "metadata": {},
     "output_type": "display_data"
    },
    {
     "data": {
      "application/vnd.jupyter.widget-view+json": {
       "model_id": "b3db1886b9c74f69952865bfac502d9d",
       "version_major": 2,
       "version_minor": 0
      },
      "text/plain": [
       "  0%|          | 0/14 [00:00<?, ?it/s]"
      ]
     },
     "metadata": {},
     "output_type": "display_data"
    },
    {
     "name": "stdout",
     "output_type": "stream",
     "text": [
      "{'eval_loss': 0.36988285183906555, 'eval_runtime': 0.794, 'eval_samples_per_second': 134.767, 'eval_steps_per_second': 17.633, 'epoch': 1.0}\n"
     ]
    },
    {
     "data": {
      "application/vnd.jupyter.widget-view+json": {
       "model_id": "f2f0115fc7ca4b6fa7061c1f68888e15",
       "version_major": 2,
       "version_minor": 0
      },
      "text/plain": [
       "  0%|          | 0/14 [00:00<?, ?it/s]"
      ]
     },
     "metadata": {},
     "output_type": "display_data"
    },
    {
     "name": "stdout",
     "output_type": "stream",
     "text": [
      "{'eval_loss': 0.36255428194999695, 'eval_runtime': 0.7051, 'eval_samples_per_second': 151.741, 'eval_steps_per_second': 19.854, 'epoch': 2.0}\n"
     ]
    },
    {
     "data": {
      "application/vnd.jupyter.widget-view+json": {
       "model_id": "af5ff75a28b248cdbda63327a3b46adf",
       "version_major": 2,
       "version_minor": 0
      },
      "text/plain": [
       "  0%|          | 0/14 [00:00<?, ?it/s]"
      ]
     },
     "metadata": {},
     "output_type": "display_data"
    },
    {
     "name": "stdout",
     "output_type": "stream",
     "text": [
      "{'eval_loss': 0.3544045090675354, 'eval_runtime': 0.7311, 'eval_samples_per_second': 146.353, 'eval_steps_per_second': 19.149, 'epoch': 3.0}\n"
     ]
    },
    {
     "data": {
      "application/vnd.jupyter.widget-view+json": {
       "model_id": "ccd0c10a21f74123938e5d45f17873d6",
       "version_major": 2,
       "version_minor": 0
      },
      "text/plain": [
       "  0%|          | 0/14 [00:00<?, ?it/s]"
      ]
     },
     "metadata": {},
     "output_type": "display_data"
    },
    {
     "name": "stdout",
     "output_type": "stream",
     "text": [
      "{'eval_loss': 0.4069691002368927, 'eval_runtime': 0.6878, 'eval_samples_per_second': 155.57, 'eval_steps_per_second': 20.355, 'epoch': 4.0}\n"
     ]
    },
    {
     "data": {
      "application/vnd.jupyter.widget-view+json": {
       "model_id": "215e88ddceb542b5a34f3885b24f558c",
       "version_major": 2,
       "version_minor": 0
      },
      "text/plain": [
       "  0%|          | 0/14 [00:00<?, ?it/s]"
      ]
     },
     "metadata": {},
     "output_type": "display_data"
    },
    {
     "name": "stdout",
     "output_type": "stream",
     "text": [
      "{'eval_loss': 0.455201655626297, 'eval_runtime': 0.7902, 'eval_samples_per_second': 135.41, 'eval_steps_per_second': 17.717, 'epoch': 5.0}\n"
     ]
    },
    {
     "data": {
      "application/vnd.jupyter.widget-view+json": {
       "model_id": "ccd5cca942054ef5878ef6cd1b70db86",
       "version_major": 2,
       "version_minor": 0
      },
      "text/plain": [
       "  0%|          | 0/14 [00:00<?, ?it/s]"
      ]
     },
     "metadata": {},
     "output_type": "display_data"
    },
    {
     "name": "stdout",
     "output_type": "stream",
     "text": [
      "{'eval_loss': 0.5123716592788696, 'eval_runtime': 0.7897, 'eval_samples_per_second': 135.49, 'eval_steps_per_second': 17.728, 'epoch': 6.0}\n"
     ]
    },
    {
     "data": {
      "application/vnd.jupyter.widget-view+json": {
       "model_id": "b0ccfa4edac74d0ca8af30abdb4e5075",
       "version_major": 2,
       "version_minor": 0
      },
      "text/plain": [
       "  0%|          | 0/14 [00:00<?, ?it/s]"
      ]
     },
     "metadata": {},
     "output_type": "display_data"
    },
    {
     "name": "stdout",
     "output_type": "stream",
     "text": [
      "{'eval_loss': 0.5021241903305054, 'eval_runtime': 0.7299, 'eval_samples_per_second': 146.592, 'eval_steps_per_second': 19.18, 'epoch': 7.0}\n"
     ]
    },
    {
     "data": {
      "application/vnd.jupyter.widget-view+json": {
       "model_id": "5ec4053a64e740d2a99933b6e789dbee",
       "version_major": 2,
       "version_minor": 0
      },
      "text/plain": [
       "  0%|          | 0/14 [00:00<?, ?it/s]"
      ]
     },
     "metadata": {},
     "output_type": "display_data"
    },
    {
     "name": "stdout",
     "output_type": "stream",
     "text": [
      "{'eval_loss': 0.5525029897689819, 'eval_runtime': 0.6992, 'eval_samples_per_second': 153.026, 'eval_steps_per_second': 20.022, 'epoch': 8.0}\n"
     ]
    },
    {
     "data": {
      "application/vnd.jupyter.widget-view+json": {
       "model_id": "7bd7436c8666449e99c3813b999c0c3f",
       "version_major": 2,
       "version_minor": 0
      },
      "text/plain": [
       "  0%|          | 0/14 [00:00<?, ?it/s]"
      ]
     },
     "metadata": {},
     "output_type": "display_data"
    },
    {
     "name": "stdout",
     "output_type": "stream",
     "text": [
      "{'eval_loss': 0.5368020534515381, 'eval_runtime': 0.7208, 'eval_samples_per_second': 148.454, 'eval_steps_per_second': 19.424, 'epoch': 9.0}\n"
     ]
    },
    {
     "data": {
      "application/vnd.jupyter.widget-view+json": {
       "model_id": "fa5bf810b6fc495cb2cae7903e41432e",
       "version_major": 2,
       "version_minor": 0
      },
      "text/plain": [
       "  0%|          | 0/14 [00:00<?, ?it/s]"
      ]
     },
     "metadata": {},
     "output_type": "display_data"
    },
    {
     "name": "stdout",
     "output_type": "stream",
     "text": [
      "{'eval_loss': 0.5554725527763367, 'eval_runtime': 0.7584, 'eval_samples_per_second': 141.086, 'eval_steps_per_second': 18.46, 'epoch': 10.0}\n"
     ]
    },
    {
     "data": {
      "application/vnd.jupyter.widget-view+json": {
       "model_id": "f1d1834b5374499ebefc22b665467cd8",
       "version_major": 2,
       "version_minor": 0
      },
      "text/plain": [
       "  0%|          | 0/14 [00:00<?, ?it/s]"
      ]
     },
     "metadata": {},
     "output_type": "display_data"
    },
    {
     "name": "stdout",
     "output_type": "stream",
     "text": [
      "{'eval_loss': 0.5286325812339783, 'eval_runtime': 0.7483, 'eval_samples_per_second': 142.982, 'eval_steps_per_second': 18.708, 'epoch': 11.0}\n"
     ]
    },
    {
     "data": {
      "application/vnd.jupyter.widget-view+json": {
       "model_id": "0e0f553c5df24bf4940c4186de9f6215",
       "version_major": 2,
       "version_minor": 0
      },
      "text/plain": [
       "  0%|          | 0/14 [00:00<?, ?it/s]"
      ]
     },
     "metadata": {},
     "output_type": "display_data"
    },
    {
     "name": "stdout",
     "output_type": "stream",
     "text": [
      "{'eval_loss': 0.5565110445022583, 'eval_runtime': 0.6376, 'eval_samples_per_second': 167.814, 'eval_steps_per_second': 21.957, 'epoch': 12.0}\n"
     ]
    },
    {
     "data": {
      "application/vnd.jupyter.widget-view+json": {
       "model_id": "416d1b59308c4305a027942e93ca9ee3",
       "version_major": 2,
       "version_minor": 0
      },
      "text/plain": [
       "  0%|          | 0/14 [00:00<?, ?it/s]"
      ]
     },
     "metadata": {},
     "output_type": "display_data"
    },
    {
     "name": "stdout",
     "output_type": "stream",
     "text": [
      "{'eval_loss': 0.5881377458572388, 'eval_runtime': 0.6626, 'eval_samples_per_second': 161.475, 'eval_steps_per_second': 21.128, 'epoch': 13.0}\n"
     ]
    },
    {
     "data": {
      "application/vnd.jupyter.widget-view+json": {
       "model_id": "87361228e11f4f63859c6c0ed0eff809",
       "version_major": 2,
       "version_minor": 0
      },
      "text/plain": [
       "  0%|          | 0/14 [00:00<?, ?it/s]"
      ]
     },
     "metadata": {},
     "output_type": "display_data"
    },
    {
     "name": "stdout",
     "output_type": "stream",
     "text": [
      "{'eval_loss': 0.5846410393714905, 'eval_runtime': 0.7312, 'eval_samples_per_second': 146.334, 'eval_steps_per_second': 19.147, 'epoch': 14.0}\n"
     ]
    },
    {
     "data": {
      "application/vnd.jupyter.widget-view+json": {
       "model_id": "787cc9d8873f4903ba01eccdc4e17c9f",
       "version_major": 2,
       "version_minor": 0
      },
      "text/plain": [
       "  0%|          | 0/14 [00:00<?, ?it/s]"
      ]
     },
     "metadata": {},
     "output_type": "display_data"
    },
    {
     "name": "stdout",
     "output_type": "stream",
     "text": [
      "{'eval_loss': 0.5345399379730225, 'eval_runtime': 0.7549, 'eval_samples_per_second': 141.749, 'eval_steps_per_second': 18.547, 'epoch': 15.0}\n"
     ]
    },
    {
     "data": {
      "application/vnd.jupyter.widget-view+json": {
       "model_id": "fc5e678799f7436588d5c9e02c928f61",
       "version_major": 2,
       "version_minor": 0
      },
      "text/plain": [
       "  0%|          | 0/14 [00:00<?, ?it/s]"
      ]
     },
     "metadata": {},
     "output_type": "display_data"
    },
    {
     "name": "stdout",
     "output_type": "stream",
     "text": [
      "{'eval_loss': 0.5486778020858765, 'eval_runtime': 0.7833, 'eval_samples_per_second': 136.61, 'eval_steps_per_second': 17.874, 'epoch': 16.0}\n"
     ]
    },
    {
     "data": {
      "application/vnd.jupyter.widget-view+json": {
       "model_id": "fa1bb455efa74b5891e086b1665444d3",
       "version_major": 2,
       "version_minor": 0
      },
      "text/plain": [
       "  0%|          | 0/14 [00:00<?, ?it/s]"
      ]
     },
     "metadata": {},
     "output_type": "display_data"
    },
    {
     "name": "stdout",
     "output_type": "stream",
     "text": [
      "{'eval_loss': 0.6030770540237427, 'eval_runtime': 0.7119, 'eval_samples_per_second': 150.296, 'eval_steps_per_second': 19.665, 'epoch': 17.0}\n"
     ]
    },
    {
     "data": {
      "application/vnd.jupyter.widget-view+json": {
       "model_id": "03c258e0e3b54fb1aa028052aeb54ef9",
       "version_major": 2,
       "version_minor": 0
      },
      "text/plain": [
       "  0%|          | 0/14 [00:00<?, ?it/s]"
      ]
     },
     "metadata": {},
     "output_type": "display_data"
    },
    {
     "name": "stdout",
     "output_type": "stream",
     "text": [
      "{'eval_loss': 0.5826606154441833, 'eval_runtime': 0.709, 'eval_samples_per_second': 150.923, 'eval_steps_per_second': 19.747, 'epoch': 18.0}\n"
     ]
    },
    {
     "data": {
      "application/vnd.jupyter.widget-view+json": {
       "model_id": "5757ea6e64b4401a90a98b65d9a2e3eb",
       "version_major": 2,
       "version_minor": 0
      },
      "text/plain": [
       "  0%|          | 0/14 [00:00<?, ?it/s]"
      ]
     },
     "metadata": {},
     "output_type": "display_data"
    },
    {
     "name": "stdout",
     "output_type": "stream",
     "text": [
      "{'eval_loss': 0.5690815448760986, 'eval_runtime': 0.709, 'eval_samples_per_second': 150.926, 'eval_steps_per_second': 19.747, 'epoch': 19.0}\n"
     ]
    },
    {
     "data": {
      "application/vnd.jupyter.widget-view+json": {
       "model_id": "a5ebba34fc6b4d4782d8a12c333f23e2",
       "version_major": 2,
       "version_minor": 0
      },
      "text/plain": [
       "  0%|          | 0/14 [00:00<?, ?it/s]"
      ]
     },
     "metadata": {},
     "output_type": "display_data"
    },
    {
     "name": "stdout",
     "output_type": "stream",
     "text": [
      "{'eval_loss': 0.5517743229866028, 'eval_runtime': 0.6972, 'eval_samples_per_second': 153.482, 'eval_steps_per_second': 20.082, 'epoch': 20.0}\n"
     ]
    },
    {
     "data": {
      "application/vnd.jupyter.widget-view+json": {
       "model_id": "86f6d3d4892549bea76ca0e6a90ec2c2",
       "version_major": 2,
       "version_minor": 0
      },
      "text/plain": [
       "  0%|          | 0/14 [00:00<?, ?it/s]"
      ]
     },
     "metadata": {},
     "output_type": "display_data"
    },
    {
     "name": "stdout",
     "output_type": "stream",
     "text": [
      "{'eval_loss': 0.5442247986793518, 'eval_runtime': 0.7104, 'eval_samples_per_second': 150.611, 'eval_steps_per_second': 19.706, 'epoch': 21.0}\n"
     ]
    },
    {
     "data": {
      "application/vnd.jupyter.widget-view+json": {
       "model_id": "76b0acbcc3904db8a784309dcf89708a",
       "version_major": 2,
       "version_minor": 0
      },
      "text/plain": [
       "  0%|          | 0/14 [00:00<?, ?it/s]"
      ]
     },
     "metadata": {},
     "output_type": "display_data"
    },
    {
     "name": "stdout",
     "output_type": "stream",
     "text": [
      "{'eval_loss': 0.5446170568466187, 'eval_runtime': 0.7028, 'eval_samples_per_second': 152.247, 'eval_steps_per_second': 19.92, 'epoch': 22.0}\n"
     ]
    },
    {
     "data": {
      "application/vnd.jupyter.widget-view+json": {
       "model_id": "1cd43f8ad42d4262b235d5f579141a88",
       "version_major": 2,
       "version_minor": 0
      },
      "text/plain": [
       "  0%|          | 0/14 [00:00<?, ?it/s]"
      ]
     },
     "metadata": {},
     "output_type": "display_data"
    },
    {
     "name": "stdout",
     "output_type": "stream",
     "text": [
      "{'eval_loss': 0.5450494289398193, 'eval_runtime': 0.7616, 'eval_samples_per_second': 140.486, 'eval_steps_per_second': 18.381, 'epoch': 23.0}\n"
     ]
    },
    {
     "data": {
      "application/vnd.jupyter.widget-view+json": {
       "model_id": "79cc41c793844367a0d73c03b72e139e",
       "version_major": 2,
       "version_minor": 0
      },
      "text/plain": [
       "  0%|          | 0/14 [00:00<?, ?it/s]"
      ]
     },
     "metadata": {},
     "output_type": "display_data"
    },
    {
     "name": "stdout",
     "output_type": "stream",
     "text": [
      "{'eval_loss': 0.5432375073432922, 'eval_runtime': 0.7123, 'eval_samples_per_second': 150.221, 'eval_steps_per_second': 19.655, 'epoch': 24.0}\n"
     ]
    },
    {
     "data": {
      "application/vnd.jupyter.widget-view+json": {
       "model_id": "a7bb3d712c394fa4a26da039d71745cf",
       "version_major": 2,
       "version_minor": 0
      },
      "text/plain": [
       "  0%|          | 0/14 [00:00<?, ?it/s]"
      ]
     },
     "metadata": {},
     "output_type": "display_data"
    },
    {
     "name": "stdout",
     "output_type": "stream",
     "text": [
      "{'eval_loss': 0.5431069135665894, 'eval_runtime': 0.7834, 'eval_samples_per_second': 136.588, 'eval_steps_per_second': 17.871, 'epoch': 25.0}\n",
      "{'train_runtime': 174.3455, 'train_samples_per_second': 17.781, 'train_steps_per_second': 2.294, 'train_loss': 0.036245877742767336, 'epoch': 25.0}\n"
     ]
    }
   ],
   "source": [
    "trainer.train()\n",
    "trainer.save_model(output_dir)"
   ]
  }
 ],
 "metadata": {
  "kernelspec": {
   "display_name": "project_ds",
   "language": "python",
   "name": "python3"
  },
  "language_info": {
   "codemirror_mode": {
    "name": "ipython",
    "version": 3
   },
   "file_extension": ".py",
   "mimetype": "text/x-python",
   "name": "python",
   "nbconvert_exporter": "python",
   "pygments_lexer": "ipython3",
   "version": "3.10.10"
  },
  "orig_nbformat": 4
 },
 "nbformat": 4,
 "nbformat_minor": 2
}
