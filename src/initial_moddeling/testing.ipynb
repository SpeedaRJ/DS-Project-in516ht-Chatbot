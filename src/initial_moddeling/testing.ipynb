{
 "cells": [
  {
   "cell_type": "code",
   "execution_count": 2,
   "metadata": {},
   "outputs": [],
   "source": [
    "import pandas as pd\n",
    "import numpy as np\n",
    "from transformers import pipeline as pip"
   ]
  },
  {
   "cell_type": "code",
   "execution_count": 5,
   "metadata": {},
   "outputs": [],
   "source": [
    "data = pd.read_csv('../data/clean/sustainability-report-2020-clean-BST_KK.csv', sep=';')"
   ]
  },
  {
   "cell_type": "code",
   "execution_count": 7,
   "metadata": {},
   "outputs": [
    {
     "name": "stderr",
     "output_type": "stream",
     "text": [
      "No model was supplied, defaulted to distilbert-base-cased-distilled-squad and revision 626af31 (https://huggingface.co/distilbert-base-cased-distilled-squad).\n",
      "Using a pipeline without specifying a model name and revision in production is not recommended.\n"
     ]
    },
    {
     "data": {
      "application/vnd.jupyter.widget-view+json": {
       "model_id": "06d72adfa2574c77b03926ec503f6f21",
       "version_major": 2,
       "version_minor": 0
      },
      "text/plain": [
       "Downloading (…)lve/main/config.json:   0%|          | 0.00/473 [00:00<?, ?B/s]"
      ]
     },
     "metadata": {},
     "output_type": "display_data"
    },
    {
     "data": {
      "application/vnd.jupyter.widget-view+json": {
       "model_id": "058c8bdff7b749429522f442f05d7cb9",
       "version_major": 2,
       "version_minor": 0
      },
      "text/plain": [
       "Downloading pytorch_model.bin:   0%|          | 0.00/261M [00:00<?, ?B/s]"
      ]
     },
     "metadata": {},
     "output_type": "display_data"
    },
    {
     "data": {
      "application/vnd.jupyter.widget-view+json": {
       "model_id": "edc281f8565f4c889239fbdb8d4d2af3",
       "version_major": 2,
       "version_minor": 0
      },
      "text/plain": [
       "Downloading (…)okenizer_config.json:   0%|          | 0.00/29.0 [00:00<?, ?B/s]"
      ]
     },
     "metadata": {},
     "output_type": "display_data"
    },
    {
     "data": {
      "application/vnd.jupyter.widget-view+json": {
       "model_id": "ea0f8ec2a03243c78f99e4c39d1f1d3a",
       "version_major": 2,
       "version_minor": 0
      },
      "text/plain": [
       "Downloading (…)solve/main/vocab.txt:   0%|          | 0.00/213k [00:00<?, ?B/s]"
      ]
     },
     "metadata": {},
     "output_type": "display_data"
    },
    {
     "data": {
      "application/vnd.jupyter.widget-view+json": {
       "model_id": "f336eac3a0234342bc5843b5c1ed16a2",
       "version_major": 2,
       "version_minor": 0
      },
      "text/plain": [
       "Downloading (…)/main/tokenizer.json:   0%|          | 0.00/436k [00:00<?, ?B/s]"
      ]
     },
     "metadata": {},
     "output_type": "display_data"
    }
   ],
   "source": [
    "qa = pip('question-answering')"
   ]
  },
  {
   "cell_type": "code",
   "execution_count": 13,
   "metadata": {},
   "outputs": [
    {
     "data": {
      "text/plain": [
       "{'score': 0.12903167307376862,\n",
       " 'start': 93,\n",
       " 'end': 128,\n",
       " 'answer': 'Human Rights Regulation  Governance'}"
      ]
     },
     "execution_count": 13,
     "metadata": {},
     "output_type": "execute_result"
    }
   ],
   "source": [
    "qa(data['question'][1], data['context'][1])"
   ]
  },
  {
   "cell_type": "code",
   "execution_count": 10,
   "metadata": {},
   "outputs": [
    {
     "data": {
      "text/html": [
       "<div>\n",
       "<style scoped>\n",
       "    .dataframe tbody tr th:only-of-type {\n",
       "        vertical-align: middle;\n",
       "    }\n",
       "\n",
       "    .dataframe tbody tr th {\n",
       "        vertical-align: top;\n",
       "    }\n",
       "\n",
       "    .dataframe thead th {\n",
       "        text-align: right;\n",
       "    }\n",
       "</style>\n",
       "<table border=\"1\" class=\"dataframe\">\n",
       "  <thead>\n",
       "    <tr style=\"text-align: right;\">\n",
       "      <th></th>\n",
       "      <th>LABEL</th>\n",
       "      <th>question</th>\n",
       "      <th>answer</th>\n",
       "      <th>context</th>\n",
       "    </tr>\n",
       "  </thead>\n",
       "  <tbody>\n",
       "    <tr>\n",
       "      <th>0</th>\n",
       "      <td>NaN</td>\n",
       "      <td>What is the name of the NLB Group Sustainabili...</td>\n",
       "      <td>Sustainability Framework</td>\n",
       "      <td>mation StatementNLB Group Sustainability Repor...</td>\n",
       "    </tr>\n",
       "    <tr>\n",
       "      <th>1</th>\n",
       "      <td>NaN</td>\n",
       "      <td>What are GRI Standards 2021 Roadmap?</td>\n",
       "      <td>Sustainability Framework Human Rights Regulati...</td>\n",
       "      <td>Home2 NLB Group Sustainability Report 2020Con...</td>\n",
       "    </tr>\n",
       "    <tr>\n",
       "      <th>2</th>\n",
       "      <td>NaN</td>\n",
       "      <td>The NLB Annual Report 2020 is available on the...</td>\n",
       "      <td>56%</td>\n",
       "      <td>ents.56% of female managersAt the end of the y...</td>\n",
       "    </tr>\n",
       "    <tr>\n",
       "      <th>3</th>\n",
       "      <td>NaN</td>\n",
       "      <td>What is the name of the banks website?</td>\n",
       "      <td>https//www.nlb.si</td>\n",
       "      <td>The NLB Group Annual Report 2020 is available ...</td>\n",
       "    </tr>\n",
       "    <tr>\n",
       "      <th>4</th>\n",
       "      <td>NaN</td>\n",
       "      <td>What are the three Pillars of NLB Group Sustai...</td>\n",
       "      <td>B-3</td>\n",
       "      <td>d management levelB-2, 60% of women at the thi...</td>\n",
       "    </tr>\n",
       "    <tr>\n",
       "      <th>...</th>\n",
       "      <td>...</td>\n",
       "      <td>...</td>\n",
       "      <td>...</td>\n",
       "      <td>...</td>\n",
       "    </tr>\n",
       "    <tr>\n",
       "      <th>1451</th>\n",
       "      <td>NaN</td>\n",
       "      <td>What was the name of Georg Weiferts book?</td>\n",
       "      <td>Stranci koji su zaduÅ¾ili Srbiju</td>\n",
       "      <td>monograph on the firstgovernor, Georg Weifert...</td>\n",
       "    </tr>\n",
       "    <tr>\n",
       "      <th>1452</th>\n",
       "      <td>NaN</td>\n",
       "      <td>What is the name of the book that Komercijalna...</td>\n",
       "      <td>Stranci koji su zaduÅ¾ili Srbiju</td>\n",
       "      <td>monograph on the firstgovernor, Georg Weifert...</td>\n",
       "    </tr>\n",
       "    <tr>\n",
       "      <th>1453</th>\n",
       "      <td>NaN</td>\n",
       "      <td>What was the award given by the Serbian Philan...</td>\n",
       "      <td>National Day of Giving</td>\n",
       "      <td>d an award from theSerbian Philanthropy Forum ...</td>\n",
       "    </tr>\n",
       "    <tr>\n",
       "      <th>1454</th>\n",
       "      <td>NaN</td>\n",
       "      <td>Who was the photographer for Gigodesign?</td>\n",
       "      <td>PrimoÅ¾ KoroÅ¡ec</td>\n",
       "      <td>Production Gigodesign, TaktikPhotographs Primo...</td>\n",
       "    </tr>\n",
       "    <tr>\n",
       "      <th>1455</th>\n",
       "      <td>NaN</td>\n",
       "      <td>When was Primo Koroec born?</td>\n",
       "      <td>Apr-21</td>\n",
       "      <td>PrimoÅ¾ KoroÅ¡ec, Archive NLBCopyright NLB d.d...</td>\n",
       "    </tr>\n",
       "  </tbody>\n",
       "</table>\n",
       "<p>1456 rows × 4 columns</p>\n",
       "</div>"
      ],
      "text/plain": [
       "     LABEL                                           question  \\\n",
       "0      NaN  What is the name of the NLB Group Sustainabili...   \n",
       "1      NaN               What are GRI Standards 2021 Roadmap?   \n",
       "2      NaN  The NLB Annual Report 2020 is available on the...   \n",
       "3      NaN             What is the name of the banks website?   \n",
       "4      NaN  What are the three Pillars of NLB Group Sustai...   \n",
       "...    ...                                                ...   \n",
       "1451   NaN          What was the name of Georg Weiferts book?   \n",
       "1452   NaN  What is the name of the book that Komercijalna...   \n",
       "1453   NaN  What was the award given by the Serbian Philan...   \n",
       "1454   NaN           Who was the photographer for Gigodesign?   \n",
       "1455   NaN                        When was Primo Koroec born?   \n",
       "\n",
       "                                                 answer  \\\n",
       "0                              Sustainability Framework   \n",
       "1     Sustainability Framework Human Rights Regulati...   \n",
       "2                                                   56%   \n",
       "3                                     https//www.nlb.si   \n",
       "4                                                   B-3   \n",
       "...                                                 ...   \n",
       "1451                   Stranci koji su zaduÅ¾ili Srbiju   \n",
       "1452                   Stranci koji su zaduÅ¾ili Srbiju   \n",
       "1453                             National Day of Giving   \n",
       "1454                                   PrimoÅ¾ KoroÅ¡ec   \n",
       "1455                                             Apr-21   \n",
       "\n",
       "                                                context  \n",
       "0     mation StatementNLB Group Sustainability Repor...  \n",
       "1      Home2 NLB Group Sustainability Report 2020Con...  \n",
       "2     ents.56% of female managersAt the end of the y...  \n",
       "3     The NLB Group Annual Report 2020 is available ...  \n",
       "4     d management levelB-2, 60% of women at the thi...  \n",
       "...                                                 ...  \n",
       "1451   monograph on the firstgovernor, Georg Weifert...  \n",
       "1452   monograph on the firstgovernor, Georg Weifert...  \n",
       "1453  d an award from theSerbian Philanthropy Forum ...  \n",
       "1454  Production Gigodesign, TaktikPhotographs Primo...  \n",
       "1455  PrimoÅ¾ KoroÅ¡ec, Archive NLBCopyright NLB d.d...  \n",
       "\n",
       "[1456 rows x 4 columns]"
      ]
     },
     "execution_count": 10,
     "metadata": {},
     "output_type": "execute_result"
    }
   ],
   "source": [
    "data"
   ]
  }
 ],
 "metadata": {
  "kernelspec": {
   "display_name": "ds_project",
   "language": "python",
   "name": "python3"
  },
  "language_info": {
   "codemirror_mode": {
    "name": "ipython",
    "version": 3
   },
   "file_extension": ".py",
   "mimetype": "text/x-python",
   "name": "python",
   "nbconvert_exporter": "python",
   "pygments_lexer": "ipython3",
   "version": "3.10.9"
  },
  "orig_nbformat": 4
 },
 "nbformat": 4,
 "nbformat_minor": 2
}
