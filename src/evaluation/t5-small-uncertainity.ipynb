{
 "cells": [
  {
   "cell_type": "code",
   "execution_count": null,
   "metadata": {},
   "outputs": [],
   "source": [
    "# Import libraries\n",
    "from transformers import AutoModelForSeq2SeqLM, AutoTokenizer, set_seed\n",
    "from datasets import *\n",
    "import numpy as np\n",
    "import pandas as pd\n",
    "import torch\n",
    "import ast\n",
    "import evaluate\n",
    "import os"
   ]
  },
  {
   "cell_type": "code",
   "execution_count": null,
   "metadata": {},
   "outputs": [],
   "source": [
    "# Standard model path\n",
    "local_models_path = '../models/T5/SE'\n",
    "\n",
    "# Boilerplate results\n",
    "results = pd.DataFrame(columns=['Model', 'Data Type', 'Bert.Precision', 'Bert.Recall', 'Bert.F1', 'BLEU'])"
   ]
  },
  {
   "cell_type": "code",
   "execution_count": null,
   "metadata": {},
   "outputs": [],
   "source": [
    "# Load evaluation metrics\n",
    "bertscore = evaluate.load(\"bertscore\")\n",
    "bleu = evaluate.load(\"bleu\")"
   ]
  },
  {
   "cell_type": "code",
   "execution_count": null,
   "metadata": {},
   "outputs": [],
   "source": [
    "# Define the prediction function\n",
    "def get_answer(question, context, tokenizer, model):\n",
    "    input_text = \"question: %s  context: %s\" % (question, context)\n",
    "    features = tokenizer([input_text], return_tensors='pt')\n",
    "\n",
    "    output = model.generate(input_ids=features['input_ids'], attention_mask=features['attention_mask'])\n",
    "\n",
    "    return tokenizer.decode(output[0], skip_special_tokens=True)"
   ]
  },
  {
   "cell_type": "code",
   "execution_count": null,
   "metadata": {},
   "outputs": [],
   "source": [
    "# Get list of all models\n",
    "models = os.listdir(local_models_path)"
   ]
  },
  {
   "cell_type": "code",
   "execution_count": null,
   "metadata": {},
   "outputs": [],
   "source": [
    "# Split them by dataset type\n",
    "handwritten = [model for model in models if 'handwritten' in model]\n",
    "rest = [model for model in models if 'handwritten' not in model]"
   ]
  },
  {
   "cell_type": "code",
   "execution_count": null,
   "metadata": {},
   "outputs": [],
   "source": [
    "# Empty initialization\n",
    "model = None\n",
    "tokenizer = None\n",
    "\n",
    "for model in rest:\n",
    "    model_data = model.split(\"-\")\n",
    "\n",
    "    # We get the model name and the seed the model was trained with\n",
    "    print(f\"Evaluating model {model}...\")\n",
    "    model_name = f\"{local_models_path}/{model}\"\n",
    "    seed = model_data[-1]\n",
    "    set_seed(int(seed))\n",
    "\n",
    "    data_2020_2022 = load_dataset('csv', data_files=\"../data/clean/squad/sustainability-report-2042-squad-format.csv\",\n",
    "                                delimiter=\";\", split=\"train\").train_test_split(test_size=0.3, shuffle=True, seed=int(seed))\n",
    "\n",
    "    # Reformat the train and test set such as they adhere to the SQuAD format (reading from cvs loads strings not objects as expected)\n",
    "    data_2020_2022[\"test\"] = data_2020_2022[\"test\"].map(\n",
    "        lambda example: ast.literal_eval(example[\"answers\"]))\n",
    "    data_2020_2022[\"test\"] = data_2020_2022[\"test\"].map(lambda example: {\"question\": example[\"question\"], \"context\": example[\"context\"], \"answers\": {\n",
    "                                    \"text\": example[\"text\"], \"answer_start\": example[\"answer_start\"]}})\n",
    "    # replace all \"\\n\" with \" \" in the context, answers and questions\n",
    "    data_2020_2022[\"test\"] = data_2020_2022[\"test\"].map(lambda example: {\"question\": example[\"question\"].replace(\"\\n\", \" \"), \"context\": example[\"context\"].replace(\"\\n\", \" \"), \"answers\": {\n",
    "                                    \"text\": [example[\"answers\"][\"text\"][0].replace(\"\\n\", \" \")], \"answer_start\": example[\"answers\"][\"answer_start\"]}})\n",
    "    data_2020_2022[\"test\"] = data_2020_2022[\"test\"].remove_columns([\"text\", \"answer_start\"])\n",
    "    # get ground truth answers\n",
    "    test_data_2020_2022 = data_2020_2022[\"test\"]\n",
    "    gt_answers_2020_2022 = [temp[\"answers\"][\"text\"][0] for temp in test_data_2020_2022]\n",
    "\n",
    "    tokenizer = AutoTokenizer.from_pretrained(model_name, local_files_only=True)\n",
    "    model = AutoModelForSeq2SeqLM.from_pretrained(model_name, local_files_only=True)\n",
    "\n",
    "    answers_2020_2022 = [get_answer(question, context, tokenizer, model) for question, context in zip(test_data_2020_2022[\"question\"], test_data_2020_2022[\"context\"])]\n",
    "\n",
    "    bert_results_2020_2022 = bertscore.compute(predictions=answers_2020_2022, references=gt_answers_2020_2022, lang=\"en\")\n",
    "    bleu_results_2020_2022 = bleu.compute(predictions=answers_2020_2022, references=gt_answers_2020_2022)\n",
    "\n",
    "    results.loc[len(results)] = ['t5-small', '2020-2022', np.array(bert_results_2020_2022['precision']).mean(), np.array(bert_results_2020_2022['recall']).mean(), np.array(bert_results_2020_2022['f1']).mean(), bleu_results_2020_2022['bleu']]\n",
    "    \n",
    "    # Empty the cache for next model\n",
    "    del tokenizer\n",
    "    del model\n",
    "    torch.cuda.empty_cache()"
   ]
  },
  {
   "cell_type": "code",
   "execution_count": null,
   "metadata": {},
   "outputs": [],
   "source": [
    "# Empty initialization\n",
    "tokenizer = None\n",
    "model = None\n",
    "\n",
    "for model in handwritten:\n",
    "    model_data = model.split(\"-\")\n",
    "\n",
    "    # We get the model name and the seed the model was trained with\n",
    "    print(f\"Evaluating model {model}...\")\n",
    "    model_name = f\"{local_models_path}/{model}\"\n",
    "    seed = model_data[-1]\n",
    "    set_seed(int(seed))\n",
    "\n",
    "    data_2022_handwritten = load_dataset('csv', data_files=f\"../data/clean/squad/QA_SR_2022_Expert-squad-format.csv\",\n",
    "                                        delimiter=\";\", split='train').train_test_split(test_size=0.3, shuffle=True, seed=int(seed))\n",
    "\n",
    "    # Reformat the train and test set such as they adhere to the SQuAD format (reading from cvs loads strings not objects as expected)\n",
    "    data_2022_handwritten[\"test\"] = data_2022_handwritten[\"test\"].map(\n",
    "        lambda example: ast.literal_eval(example[\"answers\"]))\n",
    "    data_2022_handwritten[\"test\"] = data_2022_handwritten[\"test\"].map(lambda example: {\"question\": example[\"question\"], \"context\": example[\"context\"], \"answers\": {\n",
    "                                    \"text\": example[\"text\"], \"answer_start\": example[\"answer_start\"]}})\n",
    "    # replace all \"\\n\" with \" \" in the context, answers and questions\n",
    "    data_2022_handwritten[\"test\"] = data_2022_handwritten[\"test\"].map(lambda example: {\"question\": example[\"question\"].replace(\"\\n\", \" \"), \"context\": example[\"context\"].replace(\"\\n\", \" \"), \"answers\": {\n",
    "                                    \"text\": [example[\"answers\"][\"text\"][0].replace(\"\\n\", \" \")], \"answer_start\": example[\"answers\"][\"answer_start\"]}})\n",
    "    data_2022_handwritten[\"test\"] = data_2022_handwritten[\"test\"].remove_columns([\"text\", \"answer_start\"])\n",
    "\n",
    "    test_data_2022_handwritten = data_2022_handwritten[\"test\"]\n",
    "    gt_answers_2022_handwritten = [temp[\"answers\"][\"text\"][0] for temp in test_data_2022_handwritten]\n",
    "\n",
    "    tokenizer = AutoTokenizer.from_pretrained(model_name, local_files_only=True)\n",
    "    model = AutoModelForSeq2SeqLM.from_pretrained(model_name, local_files_only=True)\n",
    "\n",
    "    answers_2022_handwritten = [get_answer(question, context, tokenizer, model) for question, context in zip(test_data_2022_handwritten[\"question\"], test_data_2022_handwritten[\"context\"])]\n",
    "\n",
    "    bert_results_2022_handwritten = bertscore.compute(predictions=answers_2022_handwritten, references=gt_answers_2022_handwritten, lang=\"en\")\n",
    "    bleu_results_2022_handwritten = bleu.compute(predictions=answers_2022_handwritten, references=gt_answers_2022_handwritten)\n",
    "\n",
    "    \n",
    "    results.loc[len(results)] = ['t5-small', 'handwritten', np.array(bert_results_2022_handwritten['precision']).mean(), np.array(bert_results_2022_handwritten['recall']).mean(), np.array(bert_results_2022_handwritten['f1']).mean(), bleu_results_2022_handwritten['bleu']]\n",
    "    \n",
    "    # Empty the cache for next model\n",
    "    del tokenizer\n",
    "    del model\n",
    "    torch.cuda.empty_cache()"
   ]
  },
  {
   "cell_type": "code",
   "execution_count": null,
   "metadata": {},
   "outputs": [],
   "source": [
    "df_2020_2022 = results[results['Data Type'] == '2020-2022']\n",
    "df_handwritten = results[results['Data Type'] == 'handwritten']\n",
    "display(df_2020_2022)\n",
    "display(df_handwritten)"
   ]
  },
  {
   "cell_type": "code",
   "execution_count": null,
   "metadata": {},
   "outputs": [],
   "source": [
    "# get average results and standard error\n",
    "df_2020_2022_mean = df_2020_2022.mean(axis=0)\n",
    "df_2020_2022_sem = df_2020_2022.sem(axis=0)\n",
    "df_2020_2022_std = df_2020_2022.std(axis=0)\n",
    "\n",
    "df_handwritten_mean = df_handwritten.mean(axis=0)\n",
    "df_handwritten_sem = df_handwritten.sem(axis=0)\n",
    "df_handwritten_std = df_handwritten.std(axis=0)"
   ]
  },
  {
   "cell_type": "code",
   "execution_count": null,
   "metadata": {},
   "outputs": [],
   "source": [
    "# display results\n",
    "print(\"2020-2022\")\n",
    "print(\"Mean\")\n",
    "display(df_2020_2022_mean)\n",
    "print(\"Standard Error\")\n",
    "display(df_2020_2022_sem)\n",
    "print(\"Standard Deviation\")\n",
    "display(df_2020_2022_std)\n",
    "\n",
    "print()\n",
    "\n",
    "print(\"HANDWRITTEN\")\n",
    "print(\"Mean\")\n",
    "display(df_handwritten_mean)\n",
    "print(\"Standard Error\")\n",
    "display(df_handwritten_sem)\n",
    "print(\"Standard Deviation\")\n",
    "display(df_handwritten_std)"
   ]
  }
 ],
 "metadata": {
  "kernelspec": {
   "display_name": "project_ds_2",
   "language": "python",
   "name": "python3"
  },
  "language_info": {
   "codemirror_mode": {
    "name": "ipython",
    "version": 3
   },
   "file_extension": ".py",
   "mimetype": "text/x-python",
   "name": "python",
   "nbconvert_exporter": "python",
   "pygments_lexer": "ipython3",
   "version": "3.10.10"
  },
  "orig_nbformat": 4
 },
 "nbformat": 4,
 "nbformat_minor": 2
}
