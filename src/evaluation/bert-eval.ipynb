{
 "cells": [
  {
   "cell_type": "code",
   "execution_count": null,
   "metadata": {},
   "outputs": [],
   "source": [
    "# Library Imports\n",
    "from transformers import DistilBertTokenizerFast, AutoTokenizer, AutoModelForQuestionAnswering, set_seed\n",
    "from datasets import *\n",
    "import numpy as np\n",
    "import pandas as pd\n",
    "import torch\n",
    "import ast\n",
    "import evaluate"
   ]
  },
  {
   "cell_type": "code",
   "execution_count": null,
   "metadata": {},
   "outputs": [],
   "source": [
    "# Set the seed\n",
    "SEED = 42\n",
    "set_seed(SEED)\n",
    "\n",
    "# Standard model path\n",
    "local_models_path = '../models/BERT'\n",
    "\n",
    "# Boilerplate results\n",
    "results = pd.DataFrame(columns=['Model', 'Train Data', 'Data Type', 'Bert.Precision', 'Bert.Recall', 'Bert.F1', 'BLEU', 'Squad.Exact', 'Squad.F1'])"
   ]
  },
  {
   "cell_type": "code",
   "execution_count": null,
   "metadata": {},
   "outputs": [],
   "source": [
    "# Define the prediction function\n",
    "def inference_answer(question, context, tokenizer, model):\n",
    "    question = question\n",
    "    context = context\n",
    "    test_feature = tokenizer(\n",
    "        question,\n",
    "        context,\n",
    "        max_length=318\n",
    "    )\n",
    "    with torch.no_grad():\n",
    "        outputs = model(torch.tensor([test_feature[\"input_ids\"]]))\n",
    "    start_logits = outputs.start_logits.cpu().numpy()\n",
    "    end_logits = outputs.end_logits.cpu().numpy()\n",
    "    answer_ids = test_feature[\"input_ids\"][np.argmax(\n",
    "        start_logits):np.argmax(end_logits)+1]\n",
    "    return \" \".join(tokenizer.batch_decode(answer_ids, skip_special_tokens=True))"
   ]
  },
  {
   "attachments": {},
   "cell_type": "markdown",
   "metadata": {},
   "source": [
    "## Load all data"
   ]
  },
  {
   "attachments": {},
   "cell_type": "markdown",
   "metadata": {},
   "source": [
    "2020"
   ]
  },
  {
   "cell_type": "code",
   "execution_count": null,
   "metadata": {},
   "outputs": [],
   "source": [
    "# Load the dataset from file and split it into train and test datasets\n",
    "data_2020_full = load_dataset('csv', data_files=f\"../data/clean/squad/sustainability-report-2020-squad-format.csv\",\n",
    "                    delimiter=\";\", split='train').train_test_split(test_size=0.3, shuffle=True, seed=SEED)\n",
    "\n",
    "# Reformat the train and test set such as they adhere to the SQuAD format (reading from cvs loads strings not objects as expected)\n",
    "data_2020_full[\"test\"] = data_2020_full[\"test\"].map(\n",
    "    lambda example: ast.literal_eval(example[\"answers\"]))\n",
    "data_2020_full[\"test\"] = data_2020_full[\"test\"].map(lambda example: {\"question\": example[\"question\"], \"context\": example[\"context\"], \"answers\": {\n",
    "                                \"text\": example[\"text\"], \"answer_start\": example[\"answer_start\"]}})\n",
    "# Replace all \"\\n\" with \" \" in the context, answers and questions\n",
    "data_2020_full[\"test\"] = data_2020_full[\"test\"].map(lambda example: {\"question\": example[\"question\"].replace(\"\\n\", \" \"), \"context\": example[\"context\"].replace(\"\\n\", \" \"), \"answers\": {\n",
    "                                \"text\": [example[\"answers\"][\"text\"][0].replace(\"\\n\", \" \")], \"answer_start\": example[\"answers\"][\"answer_start\"]}})\n",
    "data_2020_full[\"test\"] = data_2020_full[\"test\"].remove_columns([\"text\", \"answer_start\"])\n",
    "# Get ground truth answers\n",
    "test_data_2020_full = data_2020_full[\"test\"]\n",
    "gt_answers_2020_full = [temp[\"answers\"][\"text\"][0] for temp in test_data_2020_full]\n",
    "\n",
    "# Squad formatted data\n",
    "references_2020 = [{\"answers\": {\"answer_start\": [answer[\"answer_start\"][0]], \"text\": [answer[\"text\"][0]]}, \"id\": str(id)} for id, answer in zip(data_2020_full[\"test\"][\"id\"], data_2020_full[\"test\"][\"answers\"])]"
   ]
  },
  {
   "attachments": {},
   "cell_type": "markdown",
   "metadata": {},
   "source": [
    "2022"
   ]
  },
  {
   "cell_type": "code",
   "execution_count": null,
   "metadata": {},
   "outputs": [],
   "source": [
    "data_2022_full = load_dataset('csv', data_files=f\"../data/clean/squad/sustainability-report-2022-squad-format.csv\",\n",
    "                    delimiter=\";\", split='train').train_test_split(test_size=0.3, shuffle=True, seed=SEED)\n",
    "\n",
    "# Reformat the train and test set such as they adhere to the SQuAD format (reading from cvs loads strings not objects as expected)\n",
    "data_2022_full[\"test\"] = data_2022_full[\"test\"].map(\n",
    "    lambda example: ast.literal_eval(example[\"answers\"]))\n",
    "data_2022_full[\"test\"] = data_2022_full[\"test\"].map(lambda example: {\"question\": example[\"question\"], \"context\": example[\"context\"], \"answers\": {\n",
    "                                \"text\": example[\"text\"], \"answer_start\": example[\"answer_start\"]}})\n",
    "# Replace all \"\\n\" with \" \" in the context, answers and questions\n",
    "data_2022_full[\"test\"] = data_2022_full[\"test\"].map(lambda example: {\"question\": example[\"question\"].replace(\"\\n\", \" \"), \"context\": example[\"context\"].replace(\"\\n\", \" \"), \"answers\": {\n",
    "                                \"text\": [example[\"answers\"][\"text\"][0].replace(\"\\n\", \" \")], \"answer_start\": example[\"answers\"][\"answer_start\"]}})\n",
    "data_2022_full[\"test\"] = data_2022_full[\"test\"].remove_columns([\"text\", \"answer_start\"])\n",
    "\n",
    "test_data_2022_full = data_2022_full[\"test\"]\n",
    "gt_answers_2022_full = [temp[\"answers\"][\"text\"][0] for temp in test_data_2022_full]\n",
    "\n",
    "# Squad formatted data\n",
    "references_2022 = [{\"answers\": {\"answer_start\": [answer[\"answer_start\"][0]], \"text\": [answer[\"text\"][0]]}, \"id\": str(id)} for id, answer in zip(data_2022_full[\"test\"][\"id\"], data_2022_full[\"test\"][\"answers\"])]"
   ]
  },
  {
   "attachments": {},
   "cell_type": "markdown",
   "metadata": {},
   "source": [
    "2020 + 2022"
   ]
  },
  {
   "cell_type": "code",
   "execution_count": null,
   "metadata": {},
   "outputs": [],
   "source": [
    "data_2020_2022 = load_dataset('csv', data_files=\"../data/clean/squad/sustainability-report-2042-squad-format.csv\",\n",
    "                                delimiter=\";\", split=\"train\").train_test_split(test_size=0.3, shuffle=True, seed=SEED)\n",
    "\n",
    "# Reformat the train and test set such as they adhere to the SQuAD format (reading from cvs loads strings not objects as expected)\n",
    "data_2020_2022[\"test\"] = data_2020_2022[\"test\"].map(\n",
    "    lambda example: ast.literal_eval(example[\"answers\"]))\n",
    "data_2020_2022[\"test\"] = data_2020_2022[\"test\"].map(lambda example: {\"question\": example[\"question\"], \"context\": example[\"context\"], \"answers\": {\n",
    "                                \"text\": example[\"text\"], \"answer_start\": example[\"answer_start\"]}})\n",
    "# Replace all \"\\n\" with \" \" in the context, answers and questions\n",
    "data_2020_2022[\"test\"] = data_2020_2022[\"test\"].map(lambda example: {\"question\": example[\"question\"].replace(\"\\n\", \" \"), \"context\": example[\"context\"].replace(\"\\n\", \" \"), \"answers\": {\n",
    "                                \"text\": [example[\"answers\"][\"text\"][0].replace(\"\\n\", \" \")], \"answer_start\": example[\"answers\"][\"answer_start\"]}})\n",
    "data_2020_2022[\"test\"] = data_2020_2022[\"test\"].remove_columns([\"text\", \"answer_start\"])\n",
    "# Get ground truth answers\n",
    "test_data_2020_2022 = data_2020_2022[\"test\"]\n",
    "gt_answers_2020_2022 = [temp[\"answers\"][\"text\"][0] for temp in test_data_2020_2022]\n",
    "\n",
    "# Squad formatted data\n",
    "references_2020_2022 = [{\"answers\": {\"answer_start\": [answer[\"answer_start\"][0]], \"text\": [answer[\"text\"][0]]}, \"id\": str(id)} for id, answer in zip(data_2020_2022[\"test\"][\"id\"], data_2020_2022[\"test\"][\"answers\"])]"
   ]
  },
  {
   "attachments": {},
   "cell_type": "markdown",
   "metadata": {},
   "source": [
    "2022 handwritten"
   ]
  },
  {
   "cell_type": "code",
   "execution_count": null,
   "metadata": {},
   "outputs": [],
   "source": [
    "data_2022_handwritten = load_dataset('csv', data_files=f\"../data/clean/squad/QA_SR_2022_Expert-squad-format.csv\",\n",
    "                                        delimiter=\";\", split='train').train_test_split(test_size=0.3, shuffle=True, seed=SEED)\n",
    "\n",
    "# Reformat the train and test set such as they adhere to the SQuAD format (reading from cvs loads strings not objects as expected)\n",
    "data_2022_handwritten[\"test\"] = data_2022_handwritten[\"test\"].map(\n",
    "    lambda example: ast.literal_eval(example[\"answers\"]))\n",
    "data_2022_handwritten[\"test\"] = data_2022_handwritten[\"test\"].map(lambda example: {\"question\": example[\"question\"], \"context\": example[\"context\"], \"answers\": {\n",
    "                                \"text\": example[\"text\"], \"answer_start\": example[\"answer_start\"]}})\n",
    "# Replace all \"\\n\" with \" \" in the context, answers and questions\n",
    "data_2022_handwritten[\"test\"] = data_2022_handwritten[\"test\"].map(lambda example: {\"question\": example[\"question\"].replace(\"\\n\", \" \"), \"context\": example[\"context\"].replace(\"\\n\", \" \"), \"answers\": {\n",
    "                                \"text\": [example[\"answers\"][\"text\"][0].replace(\"\\n\", \" \")], \"answer_start\": example[\"answers\"][\"answer_start\"]}})\n",
    "data_2022_handwritten[\"test\"] = data_2022_handwritten[\"test\"].remove_columns([\"text\", \"answer_start\"])\n",
    "\n",
    "test_data_2022_handwritten = data_2022_handwritten[\"test\"]\n",
    "gt_answers_2022_handwritten = [temp[\"answers\"][\"text\"][0] for temp in test_data_2022_handwritten]\n",
    "\n",
    "# Squad formatted data\n",
    "references_2022_handwritten = [{\"answers\": {\"answer_start\": [answer[\"answer_start\"][0]], \"text\": [answer[\"text\"][0]]}, \"id\": str(id)} for id, answer in enumerate(data_2022_handwritten[\"test\"][\"answers\"])]"
   ]
  },
  {
   "attachments": {},
   "cell_type": "markdown",
   "metadata": {},
   "source": [
    "## SIMPLE EVALUATION"
   ]
  },
  {
   "cell_type": "code",
   "execution_count": null,
   "metadata": {},
   "outputs": [],
   "source": [
    "bertscore = evaluate.load(\"bertscore\")\n",
    "bleu = evaluate.load(\"bleu\")\n",
    "squad_v2_metric = evaluate.load(\"squad_v2\")"
   ]
  },
  {
   "attachments": {},
   "cell_type": "markdown",
   "metadata": {},
   "source": [
    "### Distilbert"
   ]
  },
  {
   "cell_type": "code",
   "execution_count": null,
   "metadata": {},
   "outputs": [],
   "source": [
    "model_name = \"distilbert-base-cased-distilled-squad\"\n",
    "tokenizer = DistilBertTokenizerFast.from_pretrained(model_name)\n",
    "model = AutoModelForQuestionAnswering.from_pretrained(model_name)\n",
    "\n",
    "answers_2020 = [inference_answer(data_2020_full[\"test\"][\"question\"][idx], data_2020_full[\"test\"][\"context\"][idx], tokenizer, model) for idx in range(data_2020_full[\"test\"].shape[0])]\n",
    "answers_2020_squad = [{\"id\": str(id), \"prediction_text\": answer, \"no_answer_probability\": 0.} for id, answer in zip(data_2020_full[\"test\"][\"id\"], answers_2020)]\n",
    "answers_2022 = [inference_answer(data_2022_full[\"test\"][\"question\"][idx], data_2022_full[\"test\"][\"context\"][idx], tokenizer, model) for idx in range(data_2022_full[\"test\"].shape[0])]\n",
    "answers_2022_squad = [{\"id\": str(id), \"prediction_text\": answer, \"no_answer_probability\": 0.} for id, answer in zip(data_2022_full[\"test\"][\"id\"], answers_2022)]\n",
    "answers_2020_2022 = [inference_answer(data_2020_2022[\"test\"][\"question\"][idx], data_2020_2022[\"test\"][\"context\"][idx], tokenizer, model) for idx in range(data_2020_2022[\"test\"].shape[0])]\n",
    "answers_2020_2022_squad = [{\"id\": str(id), \"prediction_text\": answer, \"no_answer_probability\": 0.} for id, answer in zip(data_2020_2022[\"test\"][\"id\"], answers_2020_2022)]\n",
    "answers_2022_handwritten = [inference_answer(data_2022_handwritten[\"test\"][\"question\"][idx], data_2022_handwritten[\"test\"][\"context\"][idx], tokenizer, model) for idx in range(data_2022_handwritten[\"test\"].shape[0])]\n",
    "answers_2022_handwritten_squad = [{\"id\": str(id), \"prediction_text\": answer, \"no_answer_probability\": 0.} for id, answer in enumerate(answers_2022_handwritten)]\n",
    "\n",
    "# bertscore\n",
    "bert_results_2020 = bertscore.compute(predictions=answers_2020, references=gt_answers_2020_full, lang=\"en\")\n",
    "bert_results_2022 = bertscore.compute(predictions=answers_2022, references=gt_answers_2022_full, lang=\"en\")\n",
    "bert_results_2020_2022 = bertscore.compute(predictions=answers_2020_2022, references=gt_answers_2020_2022, lang=\"en\")\n",
    "bert_results_2022_handwritten = bertscore.compute(predictions=answers_2022_handwritten, references=gt_answers_2022_handwritten, lang=\"en\")\n",
    "\n",
    "# bleu\n",
    "bleu_results_2020 = bleu.compute(predictions=answers_2020, references=gt_answers_2020_full)\n",
    "bleu_results_2022 = bleu.compute(predictions=answers_2022, references=gt_answers_2022_full)\n",
    "bleu_results_2020_2022 = bleu.compute(predictions=answers_2020_2022, references=gt_answers_2020_2022)\n",
    "bleu_results_2022_handwritten = bleu.compute(predictions=answers_2022_handwritten, references=gt_answers_2022_handwritten)\n",
    "\n",
    "# squad_v2\n",
    "squad_results_2020 = squad_v2_metric.compute(predictions=answers_2020_squad, references=references_2020)\n",
    "squad_results_2022 = squad_v2_metric.compute(predictions=answers_2022_squad, references=references_2022)\n",
    "squad_results_2020_2022 = squad_v2_metric.compute(predictions=answers_2020_2022_squad, references=references_2020_2022)\n",
    "squad_results_2022_handwritten = squad_v2_metric.compute(predictions=answers_2022_handwritten_squad, references=references_2022_handwritten)\n",
    "\n",
    "# add results to dataframe\n",
    "results.loc[len(results)] = ['distilbert', None, '2020', np.array(bert_results_2020['precision']).mean(), np.array(bert_results_2020['recall']).mean(), np.array(bert_results_2020['f1']).mean(), bleu_results_2020['bleu'], squad_results_2020['exact'], squad_results_2020['f1']]\n",
    "results.loc[len(results)] = ['distilbert', None, '2022', np.array(bert_results_2022['precision']).mean(), np.array(bert_results_2022['recall']).mean(), np.array(bert_results_2022['f1']).mean(), bleu_results_2022['bleu'], squad_results_2022['exact'], squad_results_2022['f1']]\n",
    "results.loc[len(results)] = ['distilbert', None, '2020-2022', np.array(bert_results_2020_2022['precision']).mean(), np.array(bert_results_2020_2022['recall']).mean(), np.array(bert_results_2020_2022['f1']).mean(), bleu_results_2020_2022['bleu'], squad_results_2020_2022['exact'], squad_results_2020_2022['f1']]\n",
    "results.loc[len(results)] = ['distilbert', None, '2022 handwritten', np.array(bert_results_2022_handwritten['precision']).mean(), np.array(bert_results_2022_handwritten['recall']).mean(), np.array(bert_results_2022_handwritten['f1']).mean(), bleu_results_2022_handwritten['bleu'], squad_results_2022_handwritten['exact'], squad_results_2022_handwritten['f1']]"
   ]
  },
  {
   "attachments": {},
   "cell_type": "markdown",
   "metadata": {},
   "source": [
    "### Roberta"
   ]
  },
  {
   "cell_type": "code",
   "execution_count": null,
   "metadata": {},
   "outputs": [],
   "source": [
    "model_name = \"deepset/roberta-base-squad2\"\n",
    "tokenizer = AutoTokenizer.from_pretrained(model_name)\n",
    "model = AutoModelForQuestionAnswering.from_pretrained(model_name)\n",
    "\n",
    "answers_2020 = [inference_answer(data_2020_full[\"test\"][\"question\"][idx], data_2020_full[\"test\"][\"context\"][idx], tokenizer, model) for idx in range(data_2020_full[\"test\"].shape[0])]\n",
    "answers_2020_squad = [{\"id\": str(id), \"prediction_text\": answer, \"no_answer_probability\": 0.} for id, answer in zip(data_2020_full[\"test\"][\"id\"], answers_2020)]\n",
    "answers_2022 = [inference_answer(data_2022_full[\"test\"][\"question\"][idx], data_2022_full[\"test\"][\"context\"][idx], tokenizer, model) for idx in range(data_2022_full[\"test\"].shape[0])]\n",
    "answers_2022_squad = [{\"id\": str(id), \"prediction_text\": answer, \"no_answer_probability\": 0.} for id, answer in zip(data_2022_full[\"test\"][\"id\"], answers_2022)]\n",
    "answers_2020_2022 = [inference_answer(data_2020_2022[\"test\"][\"question\"][idx], data_2020_2022[\"test\"][\"context\"][idx], tokenizer, model) for idx in range(data_2020_2022[\"test\"].shape[0])]\n",
    "answers_2020_2022_squad = [{\"id\": str(id), \"prediction_text\": answer, \"no_answer_probability\": 0.} for id, answer in zip(data_2020_2022[\"test\"][\"id\"], answers_2020_2022)]\n",
    "answers_2022_handwritten = [inference_answer(data_2022_handwritten[\"test\"][\"question\"][idx], data_2022_handwritten[\"test\"][\"context\"][idx], tokenizer, model) for idx in range(data_2022_handwritten[\"test\"].shape[0])]\n",
    "answers_2022_handwritten_squad = [{\"id\": str(id), \"prediction_text\": answer, \"no_answer_probability\": 0.} for id, answer in enumerate(answers_2022_handwritten)]\n",
    "\n",
    "# bertscore\n",
    "bert_results_2020 = bertscore.compute(predictions=answers_2020, references=gt_answers_2020_full, lang=\"en\")\n",
    "bert_results_2022 = bertscore.compute(predictions=answers_2022, references=gt_answers_2022_full, lang=\"en\")\n",
    "bert_results_2020_2022 = bertscore.compute(predictions=answers_2020_2022, references=gt_answers_2020_2022, lang=\"en\")\n",
    "bert_results_2022_handwritten = bertscore.compute(predictions=answers_2022_handwritten, references=gt_answers_2022_handwritten, lang=\"en\")\n",
    "\n",
    "# bleu\n",
    "bleu_results_2020 = bleu.compute(predictions=answers_2020, references=gt_answers_2020_full)\n",
    "bleu_results_2022 = bleu.compute(predictions=answers_2022, references=gt_answers_2022_full)\n",
    "bleu_results_2020_2022 = bleu.compute(predictions=answers_2020_2022, references=gt_answers_2020_2022)\n",
    "bleu_results_2022_handwritten = bleu.compute(predictions=answers_2022_handwritten, references=gt_answers_2022_handwritten)\n",
    "\n",
    "# squad_v2\n",
    "squad_results_2020 = squad_v2_metric.compute(predictions=answers_2020_squad, references=references_2020)\n",
    "squad_results_2022 = squad_v2_metric.compute(predictions=answers_2022_squad, references=references_2022)\n",
    "squad_results_2020_2022 = squad_v2_metric.compute(predictions=answers_2020_2022_squad, references=references_2020_2022)\n",
    "squad_results_2022_handwritten = squad_v2_metric.compute(predictions=answers_2022_handwritten_squad, references=references_2022_handwritten)\n",
    "\n",
    "# add results to dataframe\n",
    "results.loc[len(results)] = ['roberta', None, '2020', np.array(bert_results_2020['precision']).mean(), np.array(bert_results_2020['recall']).mean(), np.array(bert_results_2020['f1']).mean(), bleu_results_2020['bleu'], squad_results_2020['exact'], squad_results_2020['f1']]\n",
    "results.loc[len(results)] = ['roberta', None, '2022', np.array(bert_results_2022['precision']).mean(), np.array(bert_results_2022['recall']).mean(), np.array(bert_results_2022['f1']).mean(), bleu_results_2022['bleu'], squad_results_2022['exact'], squad_results_2022['f1']]\n",
    "results.loc[len(results)] = ['roberta', None, '2020-2022', np.array(bert_results_2020_2022['precision']).mean(), np.array(bert_results_2020_2022['recall']).mean(), np.array(bert_results_2020_2022['f1']).mean(), bleu_results_2020_2022['bleu'], squad_results_2020_2022['exact'], squad_results_2020_2022['f1']]\n",
    "results.loc[len(results)] = ['roberta', None, '2022 handwritten', np.array(bert_results_2022_handwritten['precision']).mean(), np.array(bert_results_2022_handwritten['recall']).mean(), np.array(bert_results_2022_handwritten['f1']).mean(), bleu_results_2022_handwritten['bleu'], squad_results_2022_handwritten['exact'], squad_results_2022_handwritten['f1']]"
   ]
  },
  {
   "attachments": {},
   "cell_type": "markdown",
   "metadata": {},
   "source": [
    "### Distilbert - finetuned"
   ]
  },
  {
   "cell_type": "code",
   "execution_count": null,
   "metadata": {},
   "outputs": [],
   "source": [
    "model_name_2020 = f\"{local_models_path}/distilbert-base-cased-distilled-squad-finetuned-NLB-QA-2020-full\"\n",
    "tokenizer_2020 = DistilBertTokenizerFast.from_pretrained(model_name_2020)\n",
    "model_2020 = AutoModelForQuestionAnswering.from_pretrained(model_name_2020)\n",
    "\n",
    "model_name_2022 = f\"{local_models_path}/distilbert-base-cased-distilled-squad-finetuned-NLB-QA-2022-full\"\n",
    "tokenizer_2022 = DistilBertTokenizerFast.from_pretrained(model_name_2022)\n",
    "model_2022 = AutoModelForQuestionAnswering.from_pretrained(model_name_2022)\n",
    "\n",
    "model_name_2020_2022 = f\"{local_models_path}/distilbert-base-cased-distilled-squad-finetuned-NLB-QA-2042-full_combined\"\n",
    "tokenizer_2020_2022 = DistilBertTokenizerFast.from_pretrained(model_name_2020_2022)\n",
    "model_2020_2022 = AutoModelForQuestionAnswering.from_pretrained(model_name_2020_2022)\n",
    "\n",
    "model_name_2022_handwritten = f\"{local_models_path}/distilbert-base-cased-distilled-squad-finetuned-NLB-QA-2022-handwritten\"\n",
    "tokenizer_2022_handwritten = DistilBertTokenizerFast.from_pretrained(model_name_2022_handwritten)\n",
    "model_2022_handwritten = AutoModelForQuestionAnswering.from_pretrained(model_name_2022_handwritten)\n",
    "\n",
    "answers_2020 = [inference_answer(data_2020_full[\"test\"][\"question\"][idx], data_2020_full[\"test\"][\"context\"][idx], tokenizer_2020, model_2020) for idx in range(data_2020_full[\"test\"].shape[0])]\n",
    "answers_2020_squad = [{\"id\": str(id), \"prediction_text\": answer, \"no_answer_probability\": 0.} for id, answer in zip(data_2020_full[\"test\"][\"id\"], answers_2020)]\n",
    "answers_2022 = [inference_answer(data_2022_full[\"test\"][\"question\"][idx], data_2022_full[\"test\"][\"context\"][idx], tokenizer_2022, model_2022) for idx in range(data_2022_full[\"test\"].shape[0])]\n",
    "answers_2022_squad = [{\"id\": str(id), \"prediction_text\": answer, \"no_answer_probability\": 0.} for id, answer in zip(data_2022_full[\"test\"][\"id\"], answers_2022)]\n",
    "answers_2020_2022 = [inference_answer(data_2020_2022[\"test\"][\"question\"][idx], data_2020_2022[\"test\"][\"context\"][idx], tokenizer_2020_2022, model_2020_2022) for idx in range(data_2020_2022[\"test\"].shape[0])]\n",
    "answers_2020_2022_squad = [{\"id\": str(id), \"prediction_text\": answer, \"no_answer_probability\": 0.} for id, answer in zip(data_2020_2022[\"test\"][\"id\"], answers_2020_2022)]\n",
    "answers_2022_handwritten = [inference_answer(data_2022_handwritten[\"test\"][\"question\"][idx], data_2022_handwritten[\"test\"][\"context\"][idx], tokenizer_2022_handwritten, model_2022_handwritten) for idx in range(data_2022_handwritten[\"test\"].shape[0])]\n",
    "answers_2022_handwritten_squad = [{\"id\": str(id), \"prediction_text\": answer, \"no_answer_probability\": 0.} for id, answer in enumerate(answers_2022_handwritten)]\n",
    "\n",
    "# bertscore\n",
    "bert_results_2020 = bertscore.compute(predictions=answers_2020, references=gt_answers_2020_full, lang=\"en\")\n",
    "bert_results_2022 = bertscore.compute(predictions=answers_2022, references=gt_answers_2022_full, lang=\"en\")\n",
    "bert_results_2020_2022 = bertscore.compute(predictions=answers_2020_2022, references=gt_answers_2020_2022, lang=\"en\")\n",
    "bert_results_2022_handwritten = bertscore.compute(predictions=answers_2022_handwritten, references=gt_answers_2022_handwritten, lang=\"en\")\n",
    "\n",
    "# bleu\n",
    "bleu_results_2020 = bleu.compute(predictions=answers_2020, references=gt_answers_2020_full)\n",
    "bleu_results_2022 = bleu.compute(predictions=answers_2022, references=gt_answers_2022_full)\n",
    "bleu_results_2020_2022 = bleu.compute(predictions=answers_2020_2022, references=gt_answers_2020_2022)\n",
    "bleu_results_2022_handwritten = bleu.compute(predictions=answers_2022_handwritten, references=gt_answers_2022_handwritten)\n",
    "\n",
    "# squad_v2\n",
    "squad_results_2020 = squad_v2_metric.compute(predictions=answers_2020_squad, references=references_2020)\n",
    "squad_results_2022 = squad_v2_metric.compute(predictions=answers_2022_squad, references=references_2022)\n",
    "squad_results_2020_2022 = squad_v2_metric.compute(predictions=answers_2020_2022_squad, references=references_2020_2022)\n",
    "squad_results_2022_handwritten = squad_v2_metric.compute(predictions=answers_2022_handwritten_squad, references=references_2022_handwritten)\n",
    "\n",
    "# add results to dataframe\n",
    "results.loc[len(results)] = ['distilbert', 'full', '2020', np.array(bert_results_2020['precision']).mean(), np.array(bert_results_2020['recall']).mean(), np.array(bert_results_2020['f1']).mean(), bleu_results_2020['bleu'], squad_results_2020['exact'], squad_results_2020['f1']]\n",
    "results.loc[len(results)] = ['distilbert', 'full', '2022', np.array(bert_results_2022['precision']).mean(), np.array(bert_results_2022['recall']).mean(), np.array(bert_results_2022['f1']).mean(), bleu_results_2022['bleu'], squad_results_2022['exact'], squad_results_2022['f1']]\n",
    "results.loc[len(results)] = ['distilbert', 'full', '2020-2022', np.array(bert_results_2020_2022['precision']).mean(), np.array(bert_results_2020_2022['recall']).mean(), np.array(bert_results_2020_2022['f1']).mean(), bleu_results_2020_2022['bleu'], squad_results_2020_2022['exact'], squad_results_2020_2022['f1']]\n",
    "results.loc[len(results)] = ['distilbert', 'full', '2022 handwritten', np.array(bert_results_2022_handwritten['precision']).mean(), np.array(bert_results_2022_handwritten['recall']).mean(), np.array(bert_results_2022_handwritten['f1']).mean(), bleu_results_2022_handwritten['bleu'], squad_results_2022_handwritten['exact'], squad_results_2022_handwritten['f1']]"
   ]
  },
  {
   "attachments": {},
   "cell_type": "markdown",
   "metadata": {},
   "source": [
    "### Roberta - finetuned"
   ]
  },
  {
   "cell_type": "code",
   "execution_count": null,
   "metadata": {},
   "outputs": [],
   "source": [
    "model_name_2020 = f\"{local_models_path}/roberta-base-squad2-finetuned-NLB-QA-2020-full\"\n",
    "tokenizer_2020 = AutoTokenizer.from_pretrained(model_name_2020)\n",
    "model_2020 = AutoModelForQuestionAnswering.from_pretrained(model_name_2020)\n",
    "\n",
    "model_name_2022 = f\"{local_models_path}/roberta-base-squad2-finetuned-NLB-QA-2022-full\"\n",
    "tokenizer_2022 = AutoTokenizer.from_pretrained(model_name_2022)\n",
    "model_2022 = AutoModelForQuestionAnswering.from_pretrained(model_name_2022)\n",
    "\n",
    "model_name_2020_2022 = f\"{local_models_path}/roberta-base-squad2-finetuned-NLB-QA-2042-full_combined\"\n",
    "tokenizer_2020_2022 = AutoTokenizer.from_pretrained(model_name_2020_2022)\n",
    "model_2020_2022 = AutoModelForQuestionAnswering.from_pretrained(model_name_2020_2022)\n",
    "\n",
    "model_name_2022_handwritten = f\"{local_models_path}/roberta-base-squad2-finetuned-NLB-QA-2022-handwritten\"\n",
    "tokenizer_2022_handwritten = AutoTokenizer.from_pretrained(model_name_2022_handwritten)\n",
    "model_2022_handwritten = AutoModelForQuestionAnswering.from_pretrained(model_name_2022_handwritten)\n",
    "\n",
    "answers_2020 = [inference_answer(data_2020_full[\"test\"][\"question\"][idx], data_2020_full[\"test\"][\"context\"][idx], tokenizer_2020, model_2020) for idx in range(data_2020_full[\"test\"].shape[0])]\n",
    "answers_2020_squad = [{\"id\": str(id), \"prediction_text\": answer, \"no_answer_probability\": 0.} for id, answer in zip(data_2020_full[\"test\"][\"id\"], answers_2020)]\n",
    "answers_2022 = [inference_answer(data_2022_full[\"test\"][\"question\"][idx], data_2022_full[\"test\"][\"context\"][idx], tokenizer_2022, model_2022) for idx in range(data_2022_full[\"test\"].shape[0])]\n",
    "answers_2022_squad = [{\"id\": str(id), \"prediction_text\": answer, \"no_answer_probability\": 0.} for id, answer in zip(data_2022_full[\"test\"][\"id\"], answers_2022)]\n",
    "answers_2020_2022 = [inference_answer(data_2020_2022[\"test\"][\"question\"][idx], data_2020_2022[\"test\"][\"context\"][idx], tokenizer_2020_2022, model_2020_2022) for idx in range(data_2020_2022[\"test\"].shape[0])]\n",
    "answers_2020_2022_squad = [{\"id\": str(id), \"prediction_text\": answer, \"no_answer_probability\": 0.} for id, answer in zip(data_2020_2022[\"test\"][\"id\"], answers_2020_2022)]\n",
    "answers_2022_handwritten = [inference_answer(data_2022_handwritten[\"test\"][\"question\"][idx], data_2022_handwritten[\"test\"][\"context\"][idx], tokenizer_2022_handwritten, model_2022_handwritten) for idx in range(data_2022_handwritten[\"test\"].shape[0])]\n",
    "answers_2022_handwritten_squad = [{\"id\": str(id), \"prediction_text\": answer, \"no_answer_probability\": 0.} for id, answer in enumerate(answers_2022_handwritten)]\n",
    "\n",
    "# bertscore\n",
    "bert_results_2020 = bertscore.compute(predictions=answers_2020, references=gt_answers_2020_full, lang=\"en\")\n",
    "bert_results_2022 = bertscore.compute(predictions=answers_2022, references=gt_answers_2022_full, lang=\"en\")\n",
    "bert_results_2020_2022 = bertscore.compute(predictions=answers_2020_2022, references=gt_answers_2020_2022, lang=\"en\")\n",
    "bert_results_2022_handwritten = bertscore.compute(predictions=answers_2022_handwritten, references=gt_answers_2022_handwritten, lang=\"en\")\n",
    "\n",
    "# bleu\n",
    "bleu_results_2020 = bleu.compute(predictions=answers_2020, references=gt_answers_2020_full)\n",
    "bleu_results_2022 = bleu.compute(predictions=answers_2022, references=gt_answers_2022_full)\n",
    "bleu_results_2020_2022 = bleu.compute(predictions=answers_2020_2022, references=gt_answers_2020_2022)\n",
    "bleu_results_2022_handwritten = bleu.compute(predictions=answers_2022_handwritten, references=gt_answers_2022_handwritten)\n",
    "\n",
    "# squad_v2\n",
    "squad_results_2020 = squad_v2_metric.compute(predictions=answers_2020_squad, references=references_2020)\n",
    "squad_results_2022 = squad_v2_metric.compute(predictions=answers_2022_squad, references=references_2022)\n",
    "squad_results_2020_2022 = squad_v2_metric.compute(predictions=answers_2020_2022_squad, references=references_2020_2022)\n",
    "squad_results_2022_handwritten = squad_v2_metric.compute(predictions=answers_2022_handwritten_squad, references=references_2022_handwritten)\n",
    "\n",
    "# add results to dataframe\n",
    "results.loc[len(results)] = ['roberta', 'full', '2020', np.array(bert_results_2020['precision']).mean(), np.array(bert_results_2020['recall']).mean(), np.array(bert_results_2020['f1']).mean(), bleu_results_2020['bleu'], squad_results_2020['exact'], squad_results_2020['f1']]\n",
    "results.loc[len(results)] = ['roberta', 'full', '2022', np.array(bert_results_2022['precision']).mean(), np.array(bert_results_2022['recall']).mean(), np.array(bert_results_2022['f1']).mean(), bleu_results_2022['bleu'], squad_results_2022['exact'], squad_results_2022['f1']]\n",
    "results.loc[len(results)] = ['roberta', 'full', '2020-2022', np.array(bert_results_2020_2022['precision']).mean(), np.array(bert_results_2020_2022['recall']).mean(), np.array(bert_results_2020_2022['f1']).mean(), bleu_results_2020_2022['bleu'], squad_results_2020_2022['exact'], squad_results_2020_2022['f1']]\n",
    "results.loc[len(results)] = ['roberta', 'full', '2022 handwritten', np.array(bert_results_2022_handwritten['precision']).mean(), np.array(bert_results_2022_handwritten['recall']).mean(), np.array(bert_results_2022_handwritten['f1']).mean(), bleu_results_2022_handwritten['bleu'], squad_results_2022_handwritten['exact'], squad_results_2022_handwritten['f1']]"
   ]
  },
  {
   "attachments": {},
   "cell_type": "markdown",
   "metadata": {},
   "source": [
    "### Distilbert - finetuned  - train set halved"
   ]
  },
  {
   "cell_type": "code",
   "execution_count": null,
   "metadata": {},
   "outputs": [],
   "source": [
    "model_name_2020 = f\"{local_models_path}/distilbert-base-cased-distilled-squad-finetuned-NLB-QA-2020-smaller\"\n",
    "tokenizer_2020 = DistilBertTokenizerFast.from_pretrained(model_name_2020)\n",
    "model_2020 = AutoModelForQuestionAnswering.from_pretrained(model_name_2020)\n",
    "\n",
    "model_name_2022 = f\"{local_models_path}/distilbert-base-cased-distilled-squad-finetuned-NLB-QA-2022-smaller\"\n",
    "tokenizer_2022 = DistilBertTokenizerFast.from_pretrained(model_name_2022)\n",
    "model_2022 = AutoModelForQuestionAnswering.from_pretrained(model_name_2022)\n",
    "\n",
    "model_name_2020_2022 = f\"{local_models_path}/distilbert-base-cased-distilled-squad-finetuned-NLB-QA-2042-smaller_combined\"\n",
    "tokenizer_2020_2022 = DistilBertTokenizerFast.from_pretrained(model_name_2020_2022)\n",
    "model_2020_2022 = AutoModelForQuestionAnswering.from_pretrained(model_name_2020_2022)\n",
    "\n",
    "answers_2020 = [inference_answer(data_2020_full[\"test\"][\"question\"][idx], data_2020_full[\"test\"][\"context\"][idx], tokenizer_2020, model_2020) for idx in range(data_2020_full[\"test\"].shape[0])]\n",
    "answers_2020_squad = [{\"id\": str(id), \"prediction_text\": answer, \"no_answer_probability\": 0.} for id, answer in zip(data_2020_full[\"test\"][\"id\"], answers_2020)]\n",
    "answers_2022 = [inference_answer(data_2022_full[\"test\"][\"question\"][idx], data_2022_full[\"test\"][\"context\"][idx], tokenizer_2022, model_2022) for idx in range(data_2022_full[\"test\"].shape[0])]\n",
    "answers_2022_squad = [{\"id\": str(id), \"prediction_text\": answer, \"no_answer_probability\": 0.} for id, answer in zip(data_2022_full[\"test\"][\"id\"], answers_2022)]\n",
    "answers_2020_2022 = [inference_answer(data_2020_2022[\"test\"][\"question\"][idx], data_2020_2022[\"test\"][\"context\"][idx], tokenizer_2020_2022, model_2020_2022) for idx in range(data_2020_2022[\"test\"].shape[0])]\n",
    "answers_2020_2022_squad = [{\"id\": str(id), \"prediction_text\": answer, \"no_answer_probability\": 0.} for id, answer in zip(data_2020_2022[\"test\"][\"id\"], answers_2020_2022)]\n",
    "\n",
    "# bertscore\n",
    "bert_results_2020 = bertscore.compute(predictions=answers_2020, references=gt_answers_2020_full, lang=\"en\")\n",
    "bert_results_2022 = bertscore.compute(predictions=answers_2022, references=gt_answers_2022_full, lang=\"en\")\n",
    "bert_results_2020_2022 = bertscore.compute(predictions=answers_2020_2022, references=gt_answers_2020_2022, lang=\"en\")\n",
    "\n",
    "# bleu\n",
    "bleu_results_2020 = bleu.compute(predictions=answers_2020, references=gt_answers_2020_full)\n",
    "bleu_results_2022 = bleu.compute(predictions=answers_2022, references=gt_answers_2022_full)\n",
    "bleu_results_2020_2022 = bleu.compute(predictions=answers_2020_2022, references=gt_answers_2020_2022)\n",
    "\n",
    "# squad_v2\n",
    "squad_results_2020 = squad_v2_metric.compute(predictions=answers_2020_squad, references=references_2020)\n",
    "squad_results_2022 = squad_v2_metric.compute(predictions=answers_2022_squad, references=references_2022)\n",
    "squad_results_2020_2022 = squad_v2_metric.compute(predictions=answers_2020_2022_squad, references=references_2020_2022)\n",
    "\n",
    "# add results to dataframe\n",
    "results.loc[len(results)] = ['distilbert', 'smaller', '2020', np.array(bert_results_2020['precision']).mean(), np.array(bert_results_2020['recall']).mean(), np.array(bert_results_2020['f1']).mean(), bleu_results_2020['bleu'], squad_results_2020['exact'], squad_results_2020['f1']]\n",
    "results.loc[len(results)] = ['distilbert', 'smaller', '2022', np.array(bert_results_2022['precision']).mean(), np.array(bert_results_2022['recall']).mean(), np.array(bert_results_2022['f1']).mean(), bleu_results_2022['bleu'], squad_results_2022['exact'], squad_results_2022['f1']]\n",
    "results.loc[len(results)] = ['distilbert', 'smaller', '2020-2022', np.array(bert_results_2020_2022['precision']).mean(), np.array(bert_results_2020_2022['recall']).mean(), np.array(bert_results_2020_2022['f1']).mean(), bleu_results_2020_2022['bleu'], squad_results_2020_2022['exact'], squad_results_2020_2022['f1']]"
   ]
  },
  {
   "attachments": {},
   "cell_type": "markdown",
   "metadata": {},
   "source": [
    "### Roberta - finetuned - train set halved"
   ]
  },
  {
   "cell_type": "code",
   "execution_count": null,
   "metadata": {},
   "outputs": [],
   "source": [
    "model_name_2020 = f\"{local_models_path}/roberta-base-squad2-finetuned-NLB-QA-2020-smaller\"\n",
    "tokenizer_2020 = AutoTokenizer.from_pretrained(model_name_2020)\n",
    "model_2020 = AutoModelForQuestionAnswering.from_pretrained(model_name_2020)\n",
    "\n",
    "model_name_2022 = f\"{local_models_path}/roberta-base-squad2-finetuned-NLB-QA-2022-smaller\"\n",
    "tokenizer_2022 = AutoTokenizer.from_pretrained(model_name_2022)\n",
    "model_2022 = AutoModelForQuestionAnswering.from_pretrained(model_name_2022)\n",
    "\n",
    "model_name_2020_2022 = f\"{local_models_path}/roberta-base-squad2-finetuned-NLB-QA-2042-smaller_combined\"\n",
    "tokenizer_2020_2022 = AutoTokenizer.from_pretrained(model_name_2020_2022)\n",
    "model_2020_2022 = AutoModelForQuestionAnswering.from_pretrained(model_name_2020_2022)\n",
    "\n",
    "answers_2020 = [inference_answer(data_2020_full[\"test\"][\"question\"][idx], data_2020_full[\"test\"][\"context\"][idx], tokenizer_2020, model_2020) for idx in range(data_2020_full[\"test\"].shape[0])]\n",
    "answers_2020_squad = [{\"id\": str(id), \"prediction_text\": answer, \"no_answer_probability\": 0.} for id, answer in zip(data_2020_full[\"test\"][\"id\"], answers_2020)]\n",
    "answers_2022 = [inference_answer(data_2022_full[\"test\"][\"question\"][idx], data_2022_full[\"test\"][\"context\"][idx], tokenizer_2022, model_2022) for idx in range(data_2022_full[\"test\"].shape[0])]\n",
    "answers_2022_squad = [{\"id\": str(id), \"prediction_text\": answer, \"no_answer_probability\": 0.} for id, answer in zip(data_2022_full[\"test\"][\"id\"], answers_2022)]\n",
    "answers_2020_2022 = [inference_answer(data_2020_2022[\"test\"][\"question\"][idx], data_2020_2022[\"test\"][\"context\"][idx], tokenizer_2020_2022, model_2020_2022) for idx in range(data_2020_2022[\"test\"].shape[0])]\n",
    "answers_2020_2022_squad = [{\"id\": str(id), \"prediction_text\": answer, \"no_answer_probability\": 0.} for id, answer in zip(data_2020_2022[\"test\"][\"id\"], answers_2020_2022)]\n",
    "\n",
    "# bertscore\n",
    "bert_results_2020 = bertscore.compute(predictions=answers_2020, references=gt_answers_2020_full, lang=\"en\")\n",
    "bert_results_2022 = bertscore.compute(predictions=answers_2022, references=gt_answers_2022_full, lang=\"en\")\n",
    "bert_results_2020_2022 = bertscore.compute(predictions=answers_2020_2022, references=gt_answers_2020_2022, lang=\"en\")\n",
    "\n",
    "# bleu\n",
    "bleu_results_2020 = bleu.compute(predictions=answers_2020, references=gt_answers_2020_full)\n",
    "bleu_results_2022 = bleu.compute(predictions=answers_2022, references=gt_answers_2022_full)\n",
    "bleu_results_2020_2022 = bleu.compute(predictions=answers_2020_2022, references=gt_answers_2020_2022)\n",
    "\n",
    "# squad_v2\n",
    "squad_results_2020 = squad_v2_metric.compute(predictions=answers_2020_squad, references=references_2020)\n",
    "squad_results_2022 = squad_v2_metric.compute(predictions=answers_2022_squad, references=references_2022)\n",
    "squad_results_2020_2022 = squad_v2_metric.compute(predictions=answers_2020_2022_squad, references=references_2020_2022)\n",
    "\n",
    "# add results to dataframe\n",
    "results.loc[len(results)] = ['roberta', 'smaller', '2020', np.array(bert_results_2020['precision']).mean(), np.array(bert_results_2020['recall']).mean(), np.array(bert_results_2020['f1']).mean(), bleu_results_2020['bleu'], squad_results_2020['exact'], squad_results_2020['f1']]\n",
    "results.loc[len(results)] = ['roberta', 'smaller', '2022', np.array(bert_results_2022['precision']).mean(), np.array(bert_results_2022['recall']).mean(), np.array(bert_results_2022['f1']).mean(), bleu_results_2022['bleu'], squad_results_2022['exact'], squad_results_2022['f1']]\n",
    "results.loc[len(results)] = ['roberta', 'smaller', '2020-2022', np.array(bert_results_2020_2022['precision']).mean(), np.array(bert_results_2020_2022['recall']).mean(), np.array(bert_results_2020_2022['f1']).mean(), bleu_results_2020_2022['bleu'], squad_results_2020_2022['exact'], squad_results_2020_2022['f1']]"
   ]
  },
  {
   "attachments": {},
   "cell_type": "markdown",
   "metadata": {},
   "source": [
    "## Display all results"
   ]
  },
  {
   "cell_type": "code",
   "execution_count": null,
   "metadata": {},
   "outputs": [],
   "source": [
    "with pd.option_context('display.max_rows', None, 'display.max_columns', None):\n",
    "    display(results)"
   ]
  }
 ],
 "metadata": {
  "kernelspec": {
   "display_name": "project_ds",
   "language": "python",
   "name": "python3"
  },
  "language_info": {
   "codemirror_mode": {
    "name": "ipython",
    "version": 3
   },
   "file_extension": ".py",
   "mimetype": "text/x-python",
   "name": "python",
   "nbconvert_exporter": "python",
   "pygments_lexer": "ipython3",
   "version": "3.10.11"
  },
  "orig_nbformat": 4
 },
 "nbformat": 4,
 "nbformat_minor": 2
}
