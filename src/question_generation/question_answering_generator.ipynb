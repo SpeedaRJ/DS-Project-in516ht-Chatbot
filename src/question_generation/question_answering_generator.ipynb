{
 "cells": [
  {
   "cell_type": "code",
   "execution_count": 1,
   "metadata": {},
   "outputs": [],
   "source": [
    "from haystack.nodes import PDFToTextConverter, PreProcessor\n",
    "from haystack.pipelines import QuestionAnswerGenerationPipeline\n",
    "from haystack.nodes import QuestionGenerator\n",
    "from haystack.nodes import TransformersReader\n",
    "\n",
    "import pathlib as pl\n",
    "\n",
    "import pandas as pd\n"
   ]
  },
  {
   "cell_type": "code",
   "execution_count": 2,
   "metadata": {},
   "outputs": [
    {
     "name": "stderr",
     "output_type": "stream",
     "text": [
      "c:\\Users\\rjutr\\miniconda3\\envs\\ds_project_hs\\lib\\site-packages\\torch\\_utils.py:776: UserWarning: TypedStorage is deprecated. It will be removed in the future and UntypedStorage will be the only storage class. This should only matter to you if you are using storages directly.  To access UntypedStorage directly, use tensor.untyped_storage() instead of tensor.storage()\n",
      "  return self.fget.__get__(instance, owner)()\n",
      "Using sep_token, but it is not set yet.\n"
     ]
    }
   ],
   "source": [
    "converter = PDFToTextConverter(remove_numeric_tables=True, valid_languages=[\"en\"])\n",
    "\n",
    "preprocessor = PreProcessor(\n",
    "    clean_empty_lines=True,\n",
    "    clean_whitespace=True,\n",
    "    clean_header_footer=True,\n",
    "    split_by=\"sentence\",\n",
    "    split_length=4,\n",
    "    split_respect_sentence_boundary=False,\n",
    "    split_overlap=0\n",
    ")\n",
    "\n",
    "reader = TransformersReader(\"deepset/roberta-base-squad2\", use_gpu=1)\n",
    "\n",
    "qg = QuestionGenerator()\n",
    "\n",
    "qag_pipeline = QuestionAnswerGenerationPipeline(qg, reader)"
   ]
  },
  {
   "cell_type": "code",
   "execution_count": 3,
   "metadata": {},
   "outputs": [],
   "source": [
    "extracted = converter.convert(file_path=pl.Path(\"../data/raw/sustainability-report-2020.pdf\"), meta=False, encoding=\"UTF-8\")[0]"
   ]
  },
  {
   "cell_type": "code",
   "execution_count": 4,
   "metadata": {},
   "outputs": [
    {
     "data": {
      "application/vnd.jupyter.widget-view+json": {
       "model_id": "78dd9e301c4b479da99ccbdae4e52e89",
       "version_major": 2,
       "version_minor": 0
      },
      "text/plain": [
       "Preprocessing:   0%|          | 0/1 [00:00<?, ?docs/s]"
      ]
     },
     "metadata": {},
     "output_type": "display_data"
    }
   ],
   "source": [
    "cleaned = preprocessor.process([extracted])"
   ]
  },
  {
   "cell_type": "code",
   "execution_count": 5,
   "metadata": {},
   "outputs": [],
   "source": [
    "data_frame = pd.DataFrame(columns=[\"question\", \"answer\", \"context\"])\n"
   ]
  },
  {
   "cell_type": "code",
   "execution_count": null,
   "metadata": {},
   "outputs": [],
   "source": [
    "for i, x in enumerate(cleaned):\n",
    "    result = qag_pipeline.run(documents=[x])\n",
    "    answers = [sorted(answer, key=lambda x: x.score, reverse=True)[0] for answer in result[\"answers\"]]\n",
    "    answers_x = [answer.answer for answer in answers]\n",
    "    context_x = [answer.context for answer in answers]\n",
    "    data_frame = pd.concat([data_frame,\n",
    "        pd.DataFrame({\"question\": result[\"queries\"], \"answer\": answers_x, \"context\": context_x})], \n",
    "        ignore_index=True\n",
    "    )\n"
   ]
  },
  {
   "cell_type": "code",
   "execution_count": 44,
   "metadata": {},
   "outputs": [],
   "source": [
    "data_frame.to_csv(\"../data/processed/sustainability-report-2-2020.csv\", index=False, encoding=\"utf-8\")"
   ]
  }
 ],
 "metadata": {
  "kernelspec": {
   "display_name": "ds_project",
   "language": "python",
   "name": "python3"
  },
  "language_info": {
   "codemirror_mode": {
    "name": "ipython",
    "version": 3
   },
   "file_extension": ".py",
   "mimetype": "text/x-python",
   "name": "python",
   "nbconvert_exporter": "python",
   "pygments_lexer": "ipython3",
   "version": "3.10.9"
  },
  "orig_nbformat": 4
 },
 "nbformat": 4,
 "nbformat_minor": 2
}
