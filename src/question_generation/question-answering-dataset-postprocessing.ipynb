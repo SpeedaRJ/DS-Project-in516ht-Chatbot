{
 "cells": [
  {
   "cell_type": "code",
   "execution_count": 33,
   "metadata": {},
   "outputs": [],
   "source": [
    "# Data handling libraries\n",
    "import pandas as pd\n",
    "import re"
   ]
  },
  {
   "cell_type": "code",
   "execution_count": 34,
   "metadata": {},
   "outputs": [],
   "source": [
    "# Read the data\n",
    "data = pd.read_csv(\n",
    "    '../data/clean/sustainability-report-2022-NLB-reviewed.csv', sep=',', encoding='utf8')\n",
    "# Remove all rows where Nan in column 'label'\n",
    "data = data.dropna(subset=['LABEL'])\n",
    "data = data.drop(columns=['Controlled by'])"
   ]
  },
  {
   "cell_type": "code",
   "execution_count": 35,
   "metadata": {},
   "outputs": [],
   "source": [
    "# Replace wrongly encoded characters with correct ones\n",
    "data.replace(\"Å¾\", \"ž\", inplace=True)\n",
    "data.replace(\"Å¾\", \"Ž\", inplace=True)\n",
    "data.replace(\"Å¾\", \"š\", inplace=True)\n",
    "data.replace(\"Å¾\", \"Š\", inplace=True)\n",
    "data.replace(\"Å¾\", \"ć\", inplace=True)"
   ]
  },
  {
   "cell_type": "code",
   "execution_count": 36,
   "metadata": {},
   "outputs": [],
   "source": [
    "# For each row in the data frame\n",
    "for index, rows in data.iterrows():\n",
    "    # Replace wrongly encoded characters with correct ones\n",
    "    data.loc[index, \"question\"] = str(rows.question).replace(\"Å¾\", \"ž\").replace(\n",
    "        \"Å¾\", \"Ž\").replace(\"Å¡\", \"š\").replace(\"Å\", \"Š\").replace(\"Ä‡\", \"ć\")\n",
    "    data.loc[index, \"answer\"] = str(rows.answer).replace(\"Å¾\", \"ž\").replace(\n",
    "        \"Å¾\", \"Ž\").replace(\"Å¡\", \"š\").replace(\"Å\", \"Š\").replace(\"Ä‡\", \"ć\")\n",
    "    data.loc[index, \"context\"] = str(rows.context).replace(\"Å¾\", \"ž\").replace(\n",
    "        \"Å¾\", \"Ž\").replace(\"Å¡\", \"š\").replace(\"Å\", \"Š\").replace(\"Ä‡\", \"ć\")\n",
    "\n",
    "    # Get the strings\n",
    "    answer = str(rows.answer)\n",
    "    context = str(rows.context)\n",
    "\n",
    "    # If the answer is a decimal number with different separators, replace the separator with the one used in the context\n",
    "    answer_match_1 = re.findall(r'[0-9]+.([0-9]+).*', answer)\n",
    "    context_match_1 = re.findall(r'[0-9]+,([0-9]+).*', context)\n",
    "    if answer_match_1 and context_match_1 and all(elm in context_match_1 for elm in answer_match_1):\n",
    "        data.loc[index, \"answer\"] = re.sub(\n",
    "            r'(\\d+).([0-9]+)(.*)', r'\\1,\\2\\3', answer)\n",
    "        continue\n",
    "\n",
    "    # And wise versa\n",
    "    answer_match_2 = re.findall(r'[0-9]+,([0-9]+).*', answer)\n",
    "    context_match_2 = re.findall(r'[0-9]+.([0-9]+).*', context)\n",
    "    if answer_match_2 and context_match_2 and all(elm in context_match_2 for elm in answer_match_2):\n",
    "        data.loc[index, \"answer\"] = re.sub(\n",
    "            r'(\\d+),?([0-9]+)(.*)', r'\\1.\\2\\3', answer)\n",
    "        \n",
    "data = data.reset_index()\n",
    "\n",
    "# Few lines of manual cleaning left over, this ensures that all the numbers in the data have the same separator for both the decimal and thousands"
   ]
  },
  {
   "cell_type": "code",
   "execution_count": 37,
   "metadata": {},
   "outputs": [],
   "source": [
    "# Go over each line and find the answer start\n",
    "for i in range(len(data)):\n",
    "    text = data[\"context\"][i]\n",
    "    answer = data[\"answer\"][i]\n",
    "    answer_start = text.find(answer)\n",
    "    if answer_start == -1:\n",
    "        print(\"Answer not found in text: \" + answer)\n",
    "    data.loc[i, \"answer_start\"] = int(answer_start)"
   ]
  },
  {
   "cell_type": "code",
   "execution_count": 38,
   "metadata": {},
   "outputs": [],
   "source": [
    "# Convert the data type of the answer_start column to int\n",
    "data[\"answer_start\"] = data[\"answer_start\"].astype(int)\n",
    "# And save the data\n",
    "data.to_csv(\"../data/clean/sustainability-report-2022-NLB-subset-with-starts.csv\",\n",
    "            sep=\";\", index=False)"
   ]
  }
 ],
 "metadata": {
  "kernelspec": {
   "display_name": "project_ds",
   "language": "python",
   "name": "python3"
  },
  "language_info": {
   "codemirror_mode": {
    "name": "ipython",
    "version": 3
   },
   "file_extension": ".py",
   "mimetype": "text/x-python",
   "name": "python",
   "nbconvert_exporter": "python",
   "pygments_lexer": "ipython3",
   "version": "3.10.11"
  },
  "orig_nbformat": 4
 },
 "nbformat": 4,
 "nbformat_minor": 2
}
