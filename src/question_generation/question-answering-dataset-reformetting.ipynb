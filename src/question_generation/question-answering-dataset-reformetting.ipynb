{
 "cells": [
  {
   "cell_type": "code",
   "execution_count": null,
   "metadata": {},
   "outputs": [],
   "source": [
    "# Data handling library\n",
    "import pandas as pd"
   ]
  },
  {
   "cell_type": "code",
   "execution_count": null,
   "metadata": {},
   "outputs": [],
   "source": [
    "# Read the data\n",
    "data_frame = pd.read_csv('../data/clean/sustainability-report-2020-NLB-subset-with-starts.csv', sep=';')"
   ]
  },
  {
   "cell_type": "code",
   "execution_count": null,
   "metadata": {},
   "outputs": [],
   "source": [
    "# Combine answer and answer_start into a new column called answers, make it a dict with keys 'text' and 'answer_start'\n",
    "data_frame['answers'] = data_frame.apply(lambda x: {'text': [x['answer']], 'answer_start': [x['answer_start']]}, axis=1)"
   ]
  },
  {
   "cell_type": "code",
   "execution_count": null,
   "metadata": {},
   "outputs": [],
   "source": [
    "# Add id column\n",
    "data_frame['id'] = data_frame.index"
   ]
  },
  {
   "cell_type": "code",
   "execution_count": null,
   "metadata": {},
   "outputs": [],
   "source": [
    "# Drop all unnecessary columns\n",
    "data_frame = data_frame.drop(columns=['fLABEL', \"answer\", \"answer_start\"])"
   ]
  },
  {
   "cell_type": "code",
   "execution_count": null,
   "metadata": {},
   "outputs": [],
   "source": [
    "# Save the file\n",
    "data_frame.to_csv('../data/clean/sustainability-report-2020-squad-format.csv', sep=';', index=False)"
   ]
  }
 ],
 "metadata": {
  "language_info": {
   "name": "python"
  },
  "orig_nbformat": 4
 },
 "nbformat": 4,
 "nbformat_minor": 2
}
