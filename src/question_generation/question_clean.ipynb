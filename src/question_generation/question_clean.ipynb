{
 "cells": [
  {
   "cell_type": "code",
   "execution_count": 54,
   "metadata": {},
   "outputs": [],
   "source": [
    "import pandas as pd"
   ]
  },
  {
   "cell_type": "code",
   "execution_count": 55,
   "metadata": {},
   "outputs": [],
   "source": [
    "df = pd.read_csv('../data/processed/sustainability-report-2020.csv')"
   ]
  },
  {
   "cell_type": "code",
   "execution_count": 56,
   "metadata": {},
   "outputs": [],
   "source": [
    "df = df.replace('[^a-zA-Z0-9 /.?!,čšžćđ\\-%]', '', regex=True)"
   ]
  },
  {
   "cell_type": "code",
   "execution_count": 57,
   "metadata": {},
   "outputs": [
    {
     "data": {
      "text/html": [
       "<div>\n",
       "<style scoped>\n",
       "    .dataframe tbody tr th:only-of-type {\n",
       "        vertical-align: middle;\n",
       "    }\n",
       "\n",
       "    .dataframe tbody tr th {\n",
       "        vertical-align: top;\n",
       "    }\n",
       "\n",
       "    .dataframe thead th {\n",
       "        text-align: right;\n",
       "    }\n",
       "</style>\n",
       "<table border=\"1\" class=\"dataframe\">\n",
       "  <thead>\n",
       "    <tr style=\"text-align: right;\">\n",
       "      <th></th>\n",
       "      <th>question</th>\n",
       "      <th>answer</th>\n",
       "      <th>context</th>\n",
       "    </tr>\n",
       "  </thead>\n",
       "  <tbody>\n",
       "    <tr>\n",
       "      <th>0</th>\n",
       "      <td>What is the name of the NLB Group Sustainabili...</td>\n",
       "      <td>Sustainability Framework</td>\n",
       "      <td>mation StatementNLB Group Sustainability Repor...</td>\n",
       "    </tr>\n",
       "    <tr>\n",
       "      <th>1</th>\n",
       "      <td>What are GRI Standards 2021 Roadmap?</td>\n",
       "      <td>Sustainability Framework Human Rights Regulati...</td>\n",
       "      <td>Home2 NLB Group Sustainability Report 2020Con...</td>\n",
       "    </tr>\n",
       "    <tr>\n",
       "      <th>2</th>\n",
       "      <td>The NLB Annual Report 2020 is available on the...</td>\n",
       "      <td>56%</td>\n",
       "      <td>ents.56% of female managersAt the end of the y...</td>\n",
       "    </tr>\n",
       "    <tr>\n",
       "      <th>3</th>\n",
       "      <td>What is the name of the banks website?</td>\n",
       "      <td>https//www.nlb.si</td>\n",
       "      <td>The NLB Group Annual Report 2020 is available ...</td>\n",
       "    </tr>\n",
       "    <tr>\n",
       "      <th>4</th>\n",
       "      <td>What are the three Pillars of NLB Group Sustai...</td>\n",
       "      <td>B-3</td>\n",
       "      <td>d management levelB-2, 60% of women at the thi...</td>\n",
       "    </tr>\n",
       "    <tr>\n",
       "      <th>...</th>\n",
       "      <td>...</td>\n",
       "      <td>...</td>\n",
       "      <td>...</td>\n",
       "    </tr>\n",
       "    <tr>\n",
       "      <th>1441</th>\n",
       "      <td>What was the name of Georg Weiferts book?</td>\n",
       "      <td>Stranci koji su zadužili Srbiju</td>\n",
       "      <td>monograph on the firstgovernor, Georg Weifert...</td>\n",
       "    </tr>\n",
       "    <tr>\n",
       "      <th>1442</th>\n",
       "      <td>What is the name of the book that Komercijalna...</td>\n",
       "      <td>Stranci koji su zadužili Srbiju</td>\n",
       "      <td>monograph on the firstgovernor, Georg Weifert...</td>\n",
       "    </tr>\n",
       "    <tr>\n",
       "      <th>1443</th>\n",
       "      <td>What was the award given by the Serbian Philan...</td>\n",
       "      <td>National Day of Giving</td>\n",
       "      <td>d an award from theSerbian Philanthropy Forum ...</td>\n",
       "    </tr>\n",
       "    <tr>\n",
       "      <th>1444</th>\n",
       "      <td>Who was the photographer for Gigodesign?</td>\n",
       "      <td>Primož Korošec</td>\n",
       "      <td>Production Gigodesign, TaktikPhotographs Primo...</td>\n",
       "    </tr>\n",
       "    <tr>\n",
       "      <th>1445</th>\n",
       "      <td>When was Primo Koroec born?</td>\n",
       "      <td>April 2021</td>\n",
       "      <td>Primož Korošec, Archive NLBCopyright NLB d.d.,...</td>\n",
       "    </tr>\n",
       "  </tbody>\n",
       "</table>\n",
       "<p>1446 rows × 3 columns</p>\n",
       "</div>"
      ],
      "text/plain": [
       "                                               question  \\\n",
       "0     What is the name of the NLB Group Sustainabili...   \n",
       "1                  What are GRI Standards 2021 Roadmap?   \n",
       "2     The NLB Annual Report 2020 is available on the...   \n",
       "3                What is the name of the banks website?   \n",
       "4     What are the three Pillars of NLB Group Sustai...   \n",
       "...                                                 ...   \n",
       "1441          What was the name of Georg Weiferts book?   \n",
       "1442  What is the name of the book that Komercijalna...   \n",
       "1443  What was the award given by the Serbian Philan...   \n",
       "1444           Who was the photographer for Gigodesign?   \n",
       "1445                        When was Primo Koroec born?   \n",
       "\n",
       "                                                 answer  \\\n",
       "0                              Sustainability Framework   \n",
       "1     Sustainability Framework Human Rights Regulati...   \n",
       "2                                                   56%   \n",
       "3                                     https//www.nlb.si   \n",
       "4                                                   B-3   \n",
       "...                                                 ...   \n",
       "1441                    Stranci koji su zadužili Srbiju   \n",
       "1442                    Stranci koji su zadužili Srbiju   \n",
       "1443                             National Day of Giving   \n",
       "1444                                     Primož Korošec   \n",
       "1445                                         April 2021   \n",
       "\n",
       "                                                context  \n",
       "0     mation StatementNLB Group Sustainability Repor...  \n",
       "1      Home2 NLB Group Sustainability Report 2020Con...  \n",
       "2     ents.56% of female managersAt the end of the y...  \n",
       "3     The NLB Group Annual Report 2020 is available ...  \n",
       "4     d management levelB-2, 60% of women at the thi...  \n",
       "...                                                 ...  \n",
       "1441   monograph on the firstgovernor, Georg Weifert...  \n",
       "1442   monograph on the firstgovernor, Georg Weifert...  \n",
       "1443  d an award from theSerbian Philanthropy Forum ...  \n",
       "1444  Production Gigodesign, TaktikPhotographs Primo...  \n",
       "1445  Primož Korošec, Archive NLBCopyright NLB d.d.,...  \n",
       "\n",
       "[1446 rows x 3 columns]"
      ]
     },
     "execution_count": 57,
     "metadata": {},
     "output_type": "execute_result"
    }
   ],
   "source": [
    "df"
   ]
  },
  {
   "cell_type": "code",
   "execution_count": 58,
   "metadata": {},
   "outputs": [],
   "source": [
    "df.to_csv('../data/processed/sustainability-report-2020-clean.csv', index=False)"
   ]
  }
 ],
 "metadata": {
  "kernelspec": {
   "display_name": "ds_project",
   "language": "python",
   "name": "python3"
  },
  "language_info": {
   "codemirror_mode": {
    "name": "ipython",
    "version": 3
   },
   "file_extension": ".py",
   "mimetype": "text/x-python",
   "name": "python",
   "nbconvert_exporter": "python",
   "pygments_lexer": "ipython3",
   "version": "3.10.9"
  },
  "orig_nbformat": 4
 },
 "nbformat": 4,
 "nbformat_minor": 2
}
