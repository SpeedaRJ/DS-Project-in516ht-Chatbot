{
 "cells": [
  {
   "cell_type": "code",
   "execution_count": null,
   "metadata": {},
   "outputs": [],
   "source": [
    "# Haystack model for question answering generation\n",
    "from haystack.nodes import PDFToTextConverter, PreProcessor\n",
    "from haystack.pipelines import QuestionAnswerGenerationPipeline\n",
    "from haystack.nodes import QuestionGenerator\n",
    "from haystack.nodes import TransformersReader\n",
    "\n",
    "# Library for path handling\n",
    "import pathlib as pl\n",
    "\n",
    "# Library for data handling\n",
    "import pandas as pd"
   ]
  },
  {
   "cell_type": "code",
   "execution_count": null,
   "metadata": {},
   "outputs": [],
   "source": [
    "# Model for text extraction from pdf\n",
    "converter = PDFToTextConverter(remove_numeric_tables=True)\n",
    "\n",
    "# File preprocessor\n",
    "preprocessor = PreProcessor(\n",
    "    clean_empty_lines=True,\n",
    "    clean_whitespace=True,\n",
    "    clean_header_footer=True,\n",
    "    split_by=\"sentence\",\n",
    "    split_length=4,\n",
    "    split_respect_sentence_boundary=False,\n",
    "    split_overlap=0\n",
    ")\n",
    "\n",
    "# Model for text analysis\n",
    "reader = TransformersReader(\"deepset/roberta-base-squad2\", use_gpu=1)\n",
    "\n",
    "# Question generation model\n",
    "qg = QuestionGenerator()\n",
    "\n",
    "# Question answering generation pipeline\n",
    "qag_pipeline = QuestionAnswerGenerationPipeline(qg, reader)"
   ]
  },
  {
   "cell_type": "code",
   "execution_count": null,
   "metadata": {},
   "outputs": [],
   "source": [
    "# Use the model to extract text from pdf\n",
    "extracted = converter.convert(file_path=pl.Path(\n",
    "    \"../data/raw/sustainability-report-2022.pdf\"), meta=False, encoding=\"UTF-8\")[0]"
   ]
  },
  {
   "cell_type": "code",
   "execution_count": null,
   "metadata": {},
   "outputs": [],
   "source": [
    "# Preprocess the extracted text\n",
    "cleaned = preprocessor.process([extracted])"
   ]
  },
  {
   "cell_type": "code",
   "execution_count": null,
   "metadata": {},
   "outputs": [],
   "source": [
    "# Create empty dataframe for the results\n",
    "data_frame = pd.DataFrame(columns=[\"question\", \"answer\", \"context\"])"
   ]
  },
  {
   "cell_type": "code",
   "execution_count": null,
   "metadata": {},
   "outputs": [],
   "source": [
    "# Go over the generated document contents\n",
    "for i, x in enumerate(cleaned):\n",
    "    # Generate questions and answers from the before pipeline\n",
    "    result = qag_pipeline.run(documents=[x])\n",
    "    # Get the best answer for each question\n",
    "    answers = [sorted(answer, key=lambda x: x.score, reverse=True)[0]\n",
    "               for answer in result[\"answers\"]]\n",
    "    # Get the answer and context for each question\n",
    "    answers_x = [answer.answer for answer in answers]\n",
    "    context_x = [answer.context for answer in answers]\n",
    "    # Add the results to the dataframe\n",
    "    data_frame = pd.concat([data_frame,\n",
    "                            pd.DataFrame({\"question\": result[\"queries\"], \"answer\": answers_x, \"context\": context_x})],\n",
    "                           ignore_index=True\n",
    "                           )"
   ]
  },
  {
   "cell_type": "code",
   "execution_count": null,
   "metadata": {},
   "outputs": [],
   "source": [
    "# Remove all non-valid spacial characters from the dataset\n",
    "data_frame = data_frame.replace('[^a-zA-Z0-9 /.?!,čšžćđ\\-%]', '', regex=True)"
   ]
  },
  {
   "cell_type": "code",
   "execution_count": null,
   "metadata": {},
   "outputs": [],
   "source": [
    "# Store the dataset\n",
    "data_frame.to_csv(\"../data/processed/sustainability-report-2022.csv\",\n",
    "                  index=False, encoding=\"utf-8\")"
   ]
  }
 ],
 "metadata": {
  "kernelspec": {
   "display_name": "ds_project",
   "language": "python",
   "name": "python3"
  },
  "language_info": {
   "codemirror_mode": {
    "name": "ipython",
    "version": 3
   },
   "file_extension": ".py",
   "mimetype": "text/x-python",
   "name": "python",
   "nbconvert_exporter": "python",
   "pygments_lexer": "ipython3",
   "version": "3.10.11"
  },
  "orig_nbformat": 4
 },
 "nbformat": 4,
 "nbformat_minor": 2
}
